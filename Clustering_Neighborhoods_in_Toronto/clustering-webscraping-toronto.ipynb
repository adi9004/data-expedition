{
 "cells": [
  {
   "cell_type": "markdown",
   "metadata": {},
   "source": [
    "# Clustering and Segmentation in the city of Toronto, Canada"
   ]
  },
  {
   "cell_type": "markdown",
   "metadata": {},
   "source": [
    "### In this project the aim is to cluster the neighborhoods in Toronto based on their location data. Since the dataset is not readily available, we need to use web scraping techniques to get the required data into a pandas dataframe for further preprocessing and analysis. The steps carried out throughout this project are outlined and relevant theory is explained."
   ]
  },
  {
   "cell_type": "markdown",
   "metadata": {},
   "source": [
    "#### A) Importing and installing the required libraries"
   ]
  },
  {
   "cell_type": "markdown",
   "metadata": {},
   "source": [
    "###### We would be needing the following libraries\n",
    "##### 1) Folium - to display maps\n",
    "##### 2) Geopy.geocoders.Nominatim - Geocoding the addresses\n",
    "##### 3) requests - to fetch the data from Foursquare API\n",
    "##### 4) pandas.json_normalize - To map the json objects to the respective data frame object\n",
    "##### 5) Beautiful Soup 4 - This library is used to scrap data from HTMl,XML pages\n",
    "##### 6) urllib request - To get the html mage on request"
   ]
  },
  {
   "cell_type": "code",
   "execution_count": 1,
   "metadata": {},
   "outputs": [
    {
     "name": "stdout",
     "output_type": "stream",
     "text": [
      "Collecting package metadata (current_repodata.json): done\n",
      "Solving environment: done\n",
      "\n",
      "## Package Plan ##\n",
      "\n",
      "  environment location: /home/jupyterlab/conda/envs/python\n",
      "\n",
      "  added / updated specs:\n",
      "    - bs4\n",
      "\n",
      "\n",
      "The following packages will be downloaded:\n",
      "\n",
      "    package                    |            build\n",
      "    ---------------------------|-----------------\n",
      "    beautifulsoup4-4.9.1       |   py36h9f0ad1d_0         163 KB  conda-forge\n",
      "    bs4-4.9.1                  |                0           4 KB  conda-forge\n",
      "    soupsieve-2.0.1            |   py36h9f0ad1d_0          56 KB  conda-forge\n",
      "    ------------------------------------------------------------\n",
      "                                           Total:         223 KB\n",
      "\n",
      "The following NEW packages will be INSTALLED:\n",
      "\n",
      "  beautifulsoup4     conda-forge/linux-64::beautifulsoup4-4.9.1-py36h9f0ad1d_0\n",
      "  bs4                conda-forge/noarch::bs4-4.9.1-0\n",
      "  soupsieve          conda-forge/linux-64::soupsieve-2.0.1-py36h9f0ad1d_0\n",
      "\n",
      "\n",
      "\n",
      "Downloading and Extracting Packages\n",
      "beautifulsoup4-4.9.1 | 163 KB    | ##################################### | 100% \n",
      "bs4-4.9.1            | 4 KB      | ##################################### | 100% \n",
      "soupsieve-2.0.1      | 56 KB     | ##################################### | 100% \n",
      "Preparing transaction: done\n",
      "Verifying transaction: done\n",
      "Executing transaction: done\n"
     ]
    }
   ],
   "source": [
    "#installing  bs4\n",
    "!conda install -c conda-forge bs4 --yes"
   ]
  },
  {
   "cell_type": "code",
   "execution_count": 2,
   "metadata": {},
   "outputs": [
    {
     "name": "stdout",
     "output_type": "stream",
     "text": [
      "Collecting package metadata (current_repodata.json): done\n",
      "Solving environment: done\n",
      "\n",
      "## Package Plan ##\n",
      "\n",
      "  environment location: /home/jupyterlab/conda/envs/python\n",
      "\n",
      "  added / updated specs:\n",
      "    - folium\n",
      "\n",
      "\n",
      "The following packages will be downloaded:\n",
      "\n",
      "    package                    |            build\n",
      "    ---------------------------|-----------------\n",
      "    branca-0.4.1               |             py_0          26 KB  conda-forge\n",
      "    brotlipy-0.7.0             |py36h8c4c3a4_1000         346 KB  conda-forge\n",
      "    chardet-3.0.4              |py36h9f0ad1d_1006         188 KB  conda-forge\n",
      "    cryptography-2.9.2         |   py36h45558ae_0         613 KB  conda-forge\n",
      "    folium-0.11.0              |             py_0          61 KB  conda-forge\n",
      "    pysocks-1.7.1              |   py36h9f0ad1d_1          27 KB  conda-forge\n",
      "    ------------------------------------------------------------\n",
      "                                           Total:         1.2 MB\n",
      "\n",
      "The following NEW packages will be INSTALLED:\n",
      "\n",
      "  branca             conda-forge/noarch::branca-0.4.1-py_0\n",
      "  brotlipy           conda-forge/linux-64::brotlipy-0.7.0-py36h8c4c3a4_1000\n",
      "  chardet            conda-forge/linux-64::chardet-3.0.4-py36h9f0ad1d_1006\n",
      "  cryptography       conda-forge/linux-64::cryptography-2.9.2-py36h45558ae_0\n",
      "  folium             conda-forge/noarch::folium-0.11.0-py_0\n",
      "  idna               conda-forge/noarch::idna-2.9-py_1\n",
      "  jinja2             conda-forge/noarch::jinja2-2.11.2-pyh9f0ad1d_0\n",
      "  markupsafe         conda-forge/linux-64::markupsafe-1.1.1-py36h8c4c3a4_1\n",
      "  pyopenssl          conda-forge/noarch::pyopenssl-19.1.0-py_1\n",
      "  pysocks            conda-forge/linux-64::pysocks-1.7.1-py36h9f0ad1d_1\n",
      "  requests           conda-forge/noarch::requests-2.23.0-pyh8c360ce_2\n",
      "  urllib3            conda-forge/noarch::urllib3-1.25.9-py_0\n",
      "\n",
      "\n",
      "\n",
      "Downloading and Extracting Packages\n",
      "chardet-3.0.4        | 188 KB    | ##################################### | 100% \n",
      "branca-0.4.1         | 26 KB     | ##################################### | 100% \n",
      "cryptography-2.9.2   | 613 KB    | ##################################### | 100% \n",
      "brotlipy-0.7.0       | 346 KB    | ##################################### | 100% \n",
      "pysocks-1.7.1        | 27 KB     | ##################################### | 100% \n",
      "folium-0.11.0        | 61 KB     | ##################################### | 100% \n",
      "Preparing transaction: done\n",
      "Verifying transaction: done\n",
      "Executing transaction: done\n"
     ]
    }
   ],
   "source": [
    "#install folium\n",
    "!conda install -c conda-forge folium --yes"
   ]
  },
  {
   "cell_type": "code",
   "execution_count": 3,
   "metadata": {},
   "outputs": [
    {
     "name": "stdout",
     "output_type": "stream",
     "text": [
      "Collecting package metadata (current_repodata.json): done\n",
      "Solving environment: done\n",
      "\n",
      "## Package Plan ##\n",
      "\n",
      "  environment location: /home/jupyterlab/conda/envs/python\n",
      "\n",
      "  added / updated specs:\n",
      "    - geopy\n",
      "\n",
      "\n",
      "The following packages will be downloaded:\n",
      "\n",
      "    package                    |            build\n",
      "    ---------------------------|-----------------\n",
      "    geographiclib-1.50         |             py_0          34 KB  conda-forge\n",
      "    geopy-1.22.0               |     pyh9f0ad1d_0          63 KB  conda-forge\n",
      "    ------------------------------------------------------------\n",
      "                                           Total:          97 KB\n",
      "\n",
      "The following NEW packages will be INSTALLED:\n",
      "\n",
      "  geographiclib      conda-forge/noarch::geographiclib-1.50-py_0\n",
      "  geopy              conda-forge/noarch::geopy-1.22.0-pyh9f0ad1d_0\n",
      "\n",
      "\n",
      "\n",
      "Downloading and Extracting Packages\n",
      "geopy-1.22.0         | 63 KB     | ##################################### | 100% \n",
      "geographiclib-1.50   | 34 KB     | ##################################### | 100% \n",
      "Preparing transaction: done\n",
      "Verifying transaction: done\n",
      "Executing transaction: done\n",
      "Geopy installed\n",
      "Libraries imported\n"
     ]
    }
   ],
   "source": [
    "import pandas as pd\n",
    "import numpy as np\n",
    "import requests\n",
    "import json\n",
    "from pandas.io.json import json_normalize\n",
    "!conda install -c conda-forge geopy --yes\n",
    "print(\"Geopy installed\")\n",
    "print(\"Libraries imported\")"
   ]
  },
  {
   "cell_type": "markdown",
   "metadata": {},
   "source": [
    "### B) Web Scraping the Data set from wikipedia"
   ]
  },
  {
   "cell_type": "code",
   "execution_count": 4,
   "metadata": {},
   "outputs": [],
   "source": [
    "import urllib.request\n",
    "import bs4 as bs"
   ]
  },
  {
   "cell_type": "markdown",
   "metadata": {},
   "source": [
    "#### Getting the toronto dataset using bs4"
   ]
  },
  {
   "cell_type": "code",
   "execution_count": 5,
   "metadata": {},
   "outputs": [],
   "source": [
    "sauce = urllib.request.urlopen(\"https://en.wikipedia.org/wiki/List_of_postal_codes_of_Canada:_M\").read()\n",
    "soup = bs.BeautifulSoup(sauce)\n",
    "table = soup.find(\"table\")"
   ]
  },
  {
   "cell_type": "code",
   "execution_count": 6,
   "metadata": {},
   "outputs": [],
   "source": [
    "column_names = [\"PostalCode\",\"Borough\",\"Neighborhood\"]\n"
   ]
  },
  {
   "cell_type": "code",
   "execution_count": 7,
   "metadata": {},
   "outputs": [],
   "source": [
    "#iterating through the table to fettch the table data\n",
    "table_rows = table.find_all(\"tr\")\n",
    "dataList=[]\n",
    "for tr in table_rows:\n",
    "    td = tr.find_all(\"td\")\n",
    "    row = [i.text for i in td]\n",
    "    dataList.append(row)"
   ]
  },
  {
   "cell_type": "code",
   "execution_count": 8,
   "metadata": {},
   "outputs": [],
   "source": [
    "toronto_df = pd.DataFrame(dataList, columns = column_names)"
   ]
  },
  {
   "cell_type": "markdown",
   "metadata": {},
   "source": [
    "##### Replacing the new line escape character in the dataset"
   ]
  },
  {
   "cell_type": "code",
   "execution_count": 9,
   "metadata": {},
   "outputs": [],
   "source": [
    "toronto_df[\"PostalCode\"] = toronto_df[\"PostalCode\"].str.replace(\"\\n\",\"\")\n",
    "toronto_df[\"Borough\"] = toronto_df[\"Borough\"].str.replace(\"\\n\",\"\")\n",
    "toronto_df[\"Neighborhood\"] = toronto_df[\"Neighborhood\"].str.replace(\"\\n\",\"\")"
   ]
  },
  {
   "cell_type": "code",
   "execution_count": 10,
   "metadata": {},
   "outputs": [],
   "source": [
    "toronto_df.drop(0,axis=0,inplace=True)"
   ]
  },
  {
   "cell_type": "code",
   "execution_count": 11,
   "metadata": {},
   "outputs": [
    {
     "data": {
      "text/html": [
       "<div>\n",
       "<style scoped>\n",
       "    .dataframe tbody tr th:only-of-type {\n",
       "        vertical-align: middle;\n",
       "    }\n",
       "\n",
       "    .dataframe tbody tr th {\n",
       "        vertical-align: top;\n",
       "    }\n",
       "\n",
       "    .dataframe thead th {\n",
       "        text-align: right;\n",
       "    }\n",
       "</style>\n",
       "<table border=\"1\" class=\"dataframe\">\n",
       "  <thead>\n",
       "    <tr style=\"text-align: right;\">\n",
       "      <th></th>\n",
       "      <th>index</th>\n",
       "      <th>PostalCode</th>\n",
       "      <th>Borough</th>\n",
       "      <th>Neighborhood</th>\n",
       "    </tr>\n",
       "  </thead>\n",
       "  <tbody>\n",
       "    <tr>\n",
       "      <th>0</th>\n",
       "      <td>1</td>\n",
       "      <td>M1A</td>\n",
       "      <td>Not assigned</td>\n",
       "      <td>Not assigned</td>\n",
       "    </tr>\n",
       "    <tr>\n",
       "      <th>1</th>\n",
       "      <td>2</td>\n",
       "      <td>M2A</td>\n",
       "      <td>Not assigned</td>\n",
       "      <td>Not assigned</td>\n",
       "    </tr>\n",
       "    <tr>\n",
       "      <th>2</th>\n",
       "      <td>3</td>\n",
       "      <td>M3A</td>\n",
       "      <td>North York</td>\n",
       "      <td>Parkwoods</td>\n",
       "    </tr>\n",
       "    <tr>\n",
       "      <th>3</th>\n",
       "      <td>4</td>\n",
       "      <td>M4A</td>\n",
       "      <td>North York</td>\n",
       "      <td>Victoria Village</td>\n",
       "    </tr>\n",
       "    <tr>\n",
       "      <th>4</th>\n",
       "      <td>5</td>\n",
       "      <td>M5A</td>\n",
       "      <td>Downtown Toronto</td>\n",
       "      <td>Regent Park, Harbourfront</td>\n",
       "    </tr>\n",
       "    <tr>\n",
       "      <th>...</th>\n",
       "      <td>...</td>\n",
       "      <td>...</td>\n",
       "      <td>...</td>\n",
       "      <td>...</td>\n",
       "    </tr>\n",
       "    <tr>\n",
       "      <th>175</th>\n",
       "      <td>176</td>\n",
       "      <td>M5Z</td>\n",
       "      <td>Not assigned</td>\n",
       "      <td>Not assigned</td>\n",
       "    </tr>\n",
       "    <tr>\n",
       "      <th>176</th>\n",
       "      <td>177</td>\n",
       "      <td>M6Z</td>\n",
       "      <td>Not assigned</td>\n",
       "      <td>Not assigned</td>\n",
       "    </tr>\n",
       "    <tr>\n",
       "      <th>177</th>\n",
       "      <td>178</td>\n",
       "      <td>M7Z</td>\n",
       "      <td>Not assigned</td>\n",
       "      <td>Not assigned</td>\n",
       "    </tr>\n",
       "    <tr>\n",
       "      <th>178</th>\n",
       "      <td>179</td>\n",
       "      <td>M8Z</td>\n",
       "      <td>Etobicoke</td>\n",
       "      <td>Mimico NW, The Queensway West, South of Bloor,...</td>\n",
       "    </tr>\n",
       "    <tr>\n",
       "      <th>179</th>\n",
       "      <td>180</td>\n",
       "      <td>M9Z</td>\n",
       "      <td>Not assigned</td>\n",
       "      <td>Not assigned</td>\n",
       "    </tr>\n",
       "  </tbody>\n",
       "</table>\n",
       "<p>180 rows × 4 columns</p>\n",
       "</div>"
      ],
      "text/plain": [
       "     index PostalCode           Borough  \\\n",
       "0        1        M1A      Not assigned   \n",
       "1        2        M2A      Not assigned   \n",
       "2        3        M3A        North York   \n",
       "3        4        M4A        North York   \n",
       "4        5        M5A  Downtown Toronto   \n",
       "..     ...        ...               ...   \n",
       "175    176        M5Z      Not assigned   \n",
       "176    177        M6Z      Not assigned   \n",
       "177    178        M7Z      Not assigned   \n",
       "178    179        M8Z         Etobicoke   \n",
       "179    180        M9Z      Not assigned   \n",
       "\n",
       "                                          Neighborhood  \n",
       "0                                         Not assigned  \n",
       "1                                         Not assigned  \n",
       "2                                            Parkwoods  \n",
       "3                                     Victoria Village  \n",
       "4                            Regent Park, Harbourfront  \n",
       "..                                                 ...  \n",
       "175                                       Not assigned  \n",
       "176                                       Not assigned  \n",
       "177                                       Not assigned  \n",
       "178  Mimico NW, The Queensway West, South of Bloor,...  \n",
       "179                                       Not assigned  \n",
       "\n",
       "[180 rows x 4 columns]"
      ]
     },
     "execution_count": 11,
     "metadata": {},
     "output_type": "execute_result"
    }
   ],
   "source": [
    "toronto_df.reset_index(inplace=True)\n",
    "toronto_df"
   ]
  },
  {
   "cell_type": "code",
   "execution_count": 12,
   "metadata": {},
   "outputs": [],
   "source": [
    "\n",
    "toronto_df.drop(\"index\",axis=1,inplace=True)"
   ]
  },
  {
   "cell_type": "code",
   "execution_count": 13,
   "metadata": {},
   "outputs": [
    {
     "data": {
      "text/html": [
       "<div>\n",
       "<style scoped>\n",
       "    .dataframe tbody tr th:only-of-type {\n",
       "        vertical-align: middle;\n",
       "    }\n",
       "\n",
       "    .dataframe tbody tr th {\n",
       "        vertical-align: top;\n",
       "    }\n",
       "\n",
       "    .dataframe thead th {\n",
       "        text-align: right;\n",
       "    }\n",
       "</style>\n",
       "<table border=\"1\" class=\"dataframe\">\n",
       "  <thead>\n",
       "    <tr style=\"text-align: right;\">\n",
       "      <th></th>\n",
       "      <th>PostalCode</th>\n",
       "      <th>Borough</th>\n",
       "      <th>Neighborhood</th>\n",
       "    </tr>\n",
       "  </thead>\n",
       "  <tbody>\n",
       "    <tr>\n",
       "      <th>0</th>\n",
       "      <td>M1A</td>\n",
       "      <td>Not assigned</td>\n",
       "      <td>Not assigned</td>\n",
       "    </tr>\n",
       "    <tr>\n",
       "      <th>1</th>\n",
       "      <td>M2A</td>\n",
       "      <td>Not assigned</td>\n",
       "      <td>Not assigned</td>\n",
       "    </tr>\n",
       "    <tr>\n",
       "      <th>2</th>\n",
       "      <td>M3A</td>\n",
       "      <td>North York</td>\n",
       "      <td>Parkwoods</td>\n",
       "    </tr>\n",
       "    <tr>\n",
       "      <th>3</th>\n",
       "      <td>M4A</td>\n",
       "      <td>North York</td>\n",
       "      <td>Victoria Village</td>\n",
       "    </tr>\n",
       "    <tr>\n",
       "      <th>4</th>\n",
       "      <td>M5A</td>\n",
       "      <td>Downtown Toronto</td>\n",
       "      <td>Regent Park, Harbourfront</td>\n",
       "    </tr>\n",
       "    <tr>\n",
       "      <th>...</th>\n",
       "      <td>...</td>\n",
       "      <td>...</td>\n",
       "      <td>...</td>\n",
       "    </tr>\n",
       "    <tr>\n",
       "      <th>175</th>\n",
       "      <td>M5Z</td>\n",
       "      <td>Not assigned</td>\n",
       "      <td>Not assigned</td>\n",
       "    </tr>\n",
       "    <tr>\n",
       "      <th>176</th>\n",
       "      <td>M6Z</td>\n",
       "      <td>Not assigned</td>\n",
       "      <td>Not assigned</td>\n",
       "    </tr>\n",
       "    <tr>\n",
       "      <th>177</th>\n",
       "      <td>M7Z</td>\n",
       "      <td>Not assigned</td>\n",
       "      <td>Not assigned</td>\n",
       "    </tr>\n",
       "    <tr>\n",
       "      <th>178</th>\n",
       "      <td>M8Z</td>\n",
       "      <td>Etobicoke</td>\n",
       "      <td>Mimico NW, The Queensway West, South of Bloor,...</td>\n",
       "    </tr>\n",
       "    <tr>\n",
       "      <th>179</th>\n",
       "      <td>M9Z</td>\n",
       "      <td>Not assigned</td>\n",
       "      <td>Not assigned</td>\n",
       "    </tr>\n",
       "  </tbody>\n",
       "</table>\n",
       "<p>180 rows × 3 columns</p>\n",
       "</div>"
      ],
      "text/plain": [
       "    PostalCode           Borough  \\\n",
       "0          M1A      Not assigned   \n",
       "1          M2A      Not assigned   \n",
       "2          M3A        North York   \n",
       "3          M4A        North York   \n",
       "4          M5A  Downtown Toronto   \n",
       "..         ...               ...   \n",
       "175        M5Z      Not assigned   \n",
       "176        M6Z      Not assigned   \n",
       "177        M7Z      Not assigned   \n",
       "178        M8Z         Etobicoke   \n",
       "179        M9Z      Not assigned   \n",
       "\n",
       "                                          Neighborhood  \n",
       "0                                         Not assigned  \n",
       "1                                         Not assigned  \n",
       "2                                            Parkwoods  \n",
       "3                                     Victoria Village  \n",
       "4                            Regent Park, Harbourfront  \n",
       "..                                                 ...  \n",
       "175                                       Not assigned  \n",
       "176                                       Not assigned  \n",
       "177                                       Not assigned  \n",
       "178  Mimico NW, The Queensway West, South of Bloor,...  \n",
       "179                                       Not assigned  \n",
       "\n",
       "[180 rows x 3 columns]"
      ]
     },
     "execution_count": 13,
     "metadata": {},
     "output_type": "execute_result"
    }
   ],
   "source": [
    "toronto_df"
   ]
  },
  {
   "cell_type": "markdown",
   "metadata": {},
   "source": [
    "### C) Preprocessing the data"
   ]
  },
  {
   "cell_type": "code",
   "execution_count": 14,
   "metadata": {},
   "outputs": [],
   "source": [
    "#removing entries where the borough is undefined\n",
    "toronto_df = toronto_df[toronto_df[\"Borough\"] != \"Not assigned\"]"
   ]
  },
  {
   "cell_type": "code",
   "execution_count": 15,
   "metadata": {},
   "outputs": [
    {
     "data": {
      "text/html": [
       "<div>\n",
       "<style scoped>\n",
       "    .dataframe tbody tr th:only-of-type {\n",
       "        vertical-align: middle;\n",
       "    }\n",
       "\n",
       "    .dataframe tbody tr th {\n",
       "        vertical-align: top;\n",
       "    }\n",
       "\n",
       "    .dataframe thead th {\n",
       "        text-align: right;\n",
       "    }\n",
       "</style>\n",
       "<table border=\"1\" class=\"dataframe\">\n",
       "  <thead>\n",
       "    <tr style=\"text-align: right;\">\n",
       "      <th></th>\n",
       "      <th>index</th>\n",
       "      <th>PostalCode</th>\n",
       "      <th>Borough</th>\n",
       "      <th>Neighborhood</th>\n",
       "    </tr>\n",
       "  </thead>\n",
       "  <tbody>\n",
       "    <tr>\n",
       "      <th>0</th>\n",
       "      <td>2</td>\n",
       "      <td>M3A</td>\n",
       "      <td>North York</td>\n",
       "      <td>Parkwoods</td>\n",
       "    </tr>\n",
       "    <tr>\n",
       "      <th>1</th>\n",
       "      <td>3</td>\n",
       "      <td>M4A</td>\n",
       "      <td>North York</td>\n",
       "      <td>Victoria Village</td>\n",
       "    </tr>\n",
       "    <tr>\n",
       "      <th>2</th>\n",
       "      <td>4</td>\n",
       "      <td>M5A</td>\n",
       "      <td>Downtown Toronto</td>\n",
       "      <td>Regent Park, Harbourfront</td>\n",
       "    </tr>\n",
       "    <tr>\n",
       "      <th>3</th>\n",
       "      <td>5</td>\n",
       "      <td>M6A</td>\n",
       "      <td>North York</td>\n",
       "      <td>Lawrence Manor, Lawrence Heights</td>\n",
       "    </tr>\n",
       "    <tr>\n",
       "      <th>4</th>\n",
       "      <td>6</td>\n",
       "      <td>M7A</td>\n",
       "      <td>Downtown Toronto</td>\n",
       "      <td>Queen's Park, Ontario Provincial Government</td>\n",
       "    </tr>\n",
       "    <tr>\n",
       "      <th>...</th>\n",
       "      <td>...</td>\n",
       "      <td>...</td>\n",
       "      <td>...</td>\n",
       "      <td>...</td>\n",
       "    </tr>\n",
       "    <tr>\n",
       "      <th>98</th>\n",
       "      <td>160</td>\n",
       "      <td>M8X</td>\n",
       "      <td>Etobicoke</td>\n",
       "      <td>The Kingsway, Montgomery Road, Old Mill North</td>\n",
       "    </tr>\n",
       "    <tr>\n",
       "      <th>99</th>\n",
       "      <td>165</td>\n",
       "      <td>M4Y</td>\n",
       "      <td>Downtown Toronto</td>\n",
       "      <td>Church and Wellesley</td>\n",
       "    </tr>\n",
       "    <tr>\n",
       "      <th>100</th>\n",
       "      <td>168</td>\n",
       "      <td>M7Y</td>\n",
       "      <td>East Toronto</td>\n",
       "      <td>Business reply mail Processing Centre, South C...</td>\n",
       "    </tr>\n",
       "    <tr>\n",
       "      <th>101</th>\n",
       "      <td>169</td>\n",
       "      <td>M8Y</td>\n",
       "      <td>Etobicoke</td>\n",
       "      <td>Old Mill South, King's Mill Park, Sunnylea, Hu...</td>\n",
       "    </tr>\n",
       "    <tr>\n",
       "      <th>102</th>\n",
       "      <td>178</td>\n",
       "      <td>M8Z</td>\n",
       "      <td>Etobicoke</td>\n",
       "      <td>Mimico NW, The Queensway West, South of Bloor,...</td>\n",
       "    </tr>\n",
       "  </tbody>\n",
       "</table>\n",
       "<p>103 rows × 4 columns</p>\n",
       "</div>"
      ],
      "text/plain": [
       "     index PostalCode           Borough  \\\n",
       "0        2        M3A        North York   \n",
       "1        3        M4A        North York   \n",
       "2        4        M5A  Downtown Toronto   \n",
       "3        5        M6A        North York   \n",
       "4        6        M7A  Downtown Toronto   \n",
       "..     ...        ...               ...   \n",
       "98     160        M8X         Etobicoke   \n",
       "99     165        M4Y  Downtown Toronto   \n",
       "100    168        M7Y      East Toronto   \n",
       "101    169        M8Y         Etobicoke   \n",
       "102    178        M8Z         Etobicoke   \n",
       "\n",
       "                                          Neighborhood  \n",
       "0                                            Parkwoods  \n",
       "1                                     Victoria Village  \n",
       "2                            Regent Park, Harbourfront  \n",
       "3                     Lawrence Manor, Lawrence Heights  \n",
       "4          Queen's Park, Ontario Provincial Government  \n",
       "..                                                 ...  \n",
       "98       The Kingsway, Montgomery Road, Old Mill North  \n",
       "99                                Church and Wellesley  \n",
       "100  Business reply mail Processing Centre, South C...  \n",
       "101  Old Mill South, King's Mill Park, Sunnylea, Hu...  \n",
       "102  Mimico NW, The Queensway West, South of Bloor,...  \n",
       "\n",
       "[103 rows x 4 columns]"
      ]
     },
     "execution_count": 15,
     "metadata": {},
     "output_type": "execute_result"
    }
   ],
   "source": [
    "toronto_df.reset_index()"
   ]
  },
  {
   "cell_type": "code",
   "execution_count": 16,
   "metadata": {},
   "outputs": [],
   "source": [
    "toronto_df.reset_index(drop=False,inplace=True)"
   ]
  },
  {
   "cell_type": "code",
   "execution_count": 17,
   "metadata": {},
   "outputs": [
    {
     "name": "stderr",
     "output_type": "stream",
     "text": [
      "/home/jupyterlab/conda/envs/python/lib/python3.6/site-packages/pandas/core/frame.py:3997: SettingWithCopyWarning: \n",
      "A value is trying to be set on a copy of a slice from a DataFrame\n",
      "\n",
      "See the caveats in the documentation: https://pandas.pydata.org/pandas-docs/stable/user_guide/indexing.html#returning-a-view-versus-a-copy\n",
      "  errors=errors,\n"
     ]
    }
   ],
   "source": [
    "toronto_df.drop(\"index\",axis=1,inplace=True)"
   ]
  },
  {
   "cell_type": "code",
   "execution_count": 18,
   "metadata": {},
   "outputs": [
    {
     "data": {
      "text/html": [
       "<div>\n",
       "<style scoped>\n",
       "    .dataframe tbody tr th:only-of-type {\n",
       "        vertical-align: middle;\n",
       "    }\n",
       "\n",
       "    .dataframe tbody tr th {\n",
       "        vertical-align: top;\n",
       "    }\n",
       "\n",
       "    .dataframe thead th {\n",
       "        text-align: right;\n",
       "    }\n",
       "</style>\n",
       "<table border=\"1\" class=\"dataframe\">\n",
       "  <thead>\n",
       "    <tr style=\"text-align: right;\">\n",
       "      <th></th>\n",
       "      <th>PostalCode</th>\n",
       "      <th>Borough</th>\n",
       "      <th>Neighborhood</th>\n",
       "    </tr>\n",
       "  </thead>\n",
       "  <tbody>\n",
       "    <tr>\n",
       "      <th>0</th>\n",
       "      <td>M3A</td>\n",
       "      <td>North York</td>\n",
       "      <td>Parkwoods</td>\n",
       "    </tr>\n",
       "    <tr>\n",
       "      <th>1</th>\n",
       "      <td>M4A</td>\n",
       "      <td>North York</td>\n",
       "      <td>Victoria Village</td>\n",
       "    </tr>\n",
       "    <tr>\n",
       "      <th>2</th>\n",
       "      <td>M5A</td>\n",
       "      <td>Downtown Toronto</td>\n",
       "      <td>Regent Park, Harbourfront</td>\n",
       "    </tr>\n",
       "    <tr>\n",
       "      <th>3</th>\n",
       "      <td>M6A</td>\n",
       "      <td>North York</td>\n",
       "      <td>Lawrence Manor, Lawrence Heights</td>\n",
       "    </tr>\n",
       "    <tr>\n",
       "      <th>4</th>\n",
       "      <td>M7A</td>\n",
       "      <td>Downtown Toronto</td>\n",
       "      <td>Queen's Park, Ontario Provincial Government</td>\n",
       "    </tr>\n",
       "    <tr>\n",
       "      <th>...</th>\n",
       "      <td>...</td>\n",
       "      <td>...</td>\n",
       "      <td>...</td>\n",
       "    </tr>\n",
       "    <tr>\n",
       "      <th>98</th>\n",
       "      <td>M8X</td>\n",
       "      <td>Etobicoke</td>\n",
       "      <td>The Kingsway, Montgomery Road, Old Mill North</td>\n",
       "    </tr>\n",
       "    <tr>\n",
       "      <th>99</th>\n",
       "      <td>M4Y</td>\n",
       "      <td>Downtown Toronto</td>\n",
       "      <td>Church and Wellesley</td>\n",
       "    </tr>\n",
       "    <tr>\n",
       "      <th>100</th>\n",
       "      <td>M7Y</td>\n",
       "      <td>East Toronto</td>\n",
       "      <td>Business reply mail Processing Centre, South C...</td>\n",
       "    </tr>\n",
       "    <tr>\n",
       "      <th>101</th>\n",
       "      <td>M8Y</td>\n",
       "      <td>Etobicoke</td>\n",
       "      <td>Old Mill South, King's Mill Park, Sunnylea, Hu...</td>\n",
       "    </tr>\n",
       "    <tr>\n",
       "      <th>102</th>\n",
       "      <td>M8Z</td>\n",
       "      <td>Etobicoke</td>\n",
       "      <td>Mimico NW, The Queensway West, South of Bloor,...</td>\n",
       "    </tr>\n",
       "  </tbody>\n",
       "</table>\n",
       "<p>103 rows × 3 columns</p>\n",
       "</div>"
      ],
      "text/plain": [
       "    PostalCode           Borough  \\\n",
       "0          M3A        North York   \n",
       "1          M4A        North York   \n",
       "2          M5A  Downtown Toronto   \n",
       "3          M6A        North York   \n",
       "4          M7A  Downtown Toronto   \n",
       "..         ...               ...   \n",
       "98         M8X         Etobicoke   \n",
       "99         M4Y  Downtown Toronto   \n",
       "100        M7Y      East Toronto   \n",
       "101        M8Y         Etobicoke   \n",
       "102        M8Z         Etobicoke   \n",
       "\n",
       "                                          Neighborhood  \n",
       "0                                            Parkwoods  \n",
       "1                                     Victoria Village  \n",
       "2                            Regent Park, Harbourfront  \n",
       "3                     Lawrence Manor, Lawrence Heights  \n",
       "4          Queen's Park, Ontario Provincial Government  \n",
       "..                                                 ...  \n",
       "98       The Kingsway, Montgomery Road, Old Mill North  \n",
       "99                                Church and Wellesley  \n",
       "100  Business reply mail Processing Centre, South C...  \n",
       "101  Old Mill South, King's Mill Park, Sunnylea, Hu...  \n",
       "102  Mimico NW, The Queensway West, South of Bloor,...  \n",
       "\n",
       "[103 rows x 3 columns]"
      ]
     },
     "execution_count": 18,
     "metadata": {},
     "output_type": "execute_result"
    }
   ],
   "source": [
    "toronto_df"
   ]
  },
  {
   "cell_type": "markdown",
   "metadata": {},
   "source": [
    "###### More than one neighborhood can exist in one postal code area. For example, \n",
    "###### in the table on the Wikipedia page, you will notice that M5A is listed twice and has two \n",
    "###### neighborhoods: Harbourfront and Regent Park. \n",
    "###### These two rows will be combined into one row with the neighborhoods separated with a comma."
   ]
  },
  {
   "cell_type": "markdown",
   "metadata": {},
   "source": [
    "###### If a cell has a borough but a Not assigned neighborhood, then the neighborhood will be the same as the borough."
   ]
  },
  {
   "cell_type": "code",
   "execution_count": 21,
   "metadata": {},
   "outputs": [
    {
     "data": {
      "text/plain": [
       "(103, 3)"
      ]
     },
     "execution_count": 21,
     "metadata": {},
     "output_type": "execute_result"
    }
   ],
   "source": [
    "#The total number of rows in the toronto dataframe\n",
    "toronto_df.shape"
   ]
  },
  {
   "cell_type": "markdown",
   "metadata": {},
   "source": [
    "### D) Geocoding the dataset on the basis of postal codes"
   ]
  },
  {
   "cell_type": "code",
   "execution_count": 22,
   "metadata": {},
   "outputs": [
    {
     "name": "stdout",
     "output_type": "stream",
     "text": [
      "Collecting package metadata (current_repodata.json): done\n",
      "Solving environment: done\n",
      "\n",
      "# All requested packages already installed.\n",
      "\n"
     ]
    }
   ],
   "source": [
    "!conda install -c conda-forge geopy --yes"
   ]
  },
  {
   "cell_type": "code",
   "execution_count": 23,
   "metadata": {},
   "outputs": [
    {
     "data": {
      "text/html": [
       "<div>\n",
       "<style scoped>\n",
       "    .dataframe tbody tr th:only-of-type {\n",
       "        vertical-align: middle;\n",
       "    }\n",
       "\n",
       "    .dataframe tbody tr th {\n",
       "        vertical-align: top;\n",
       "    }\n",
       "\n",
       "    .dataframe thead th {\n",
       "        text-align: right;\n",
       "    }\n",
       "</style>\n",
       "<table border=\"1\" class=\"dataframe\">\n",
       "  <thead>\n",
       "    <tr style=\"text-align: right;\">\n",
       "      <th></th>\n",
       "      <th>PostalCode</th>\n",
       "      <th>Latitude</th>\n",
       "      <th>Longitude</th>\n",
       "    </tr>\n",
       "  </thead>\n",
       "  <tbody>\n",
       "    <tr>\n",
       "      <th>0</th>\n",
       "      <td>M1B</td>\n",
       "      <td>43.806686</td>\n",
       "      <td>-79.194353</td>\n",
       "    </tr>\n",
       "    <tr>\n",
       "      <th>1</th>\n",
       "      <td>M1C</td>\n",
       "      <td>43.784535</td>\n",
       "      <td>-79.160497</td>\n",
       "    </tr>\n",
       "    <tr>\n",
       "      <th>2</th>\n",
       "      <td>M1E</td>\n",
       "      <td>43.763573</td>\n",
       "      <td>-79.188711</td>\n",
       "    </tr>\n",
       "    <tr>\n",
       "      <th>3</th>\n",
       "      <td>M1G</td>\n",
       "      <td>43.770992</td>\n",
       "      <td>-79.216917</td>\n",
       "    </tr>\n",
       "    <tr>\n",
       "      <th>4</th>\n",
       "      <td>M1H</td>\n",
       "      <td>43.773136</td>\n",
       "      <td>-79.239476</td>\n",
       "    </tr>\n",
       "    <tr>\n",
       "      <th>...</th>\n",
       "      <td>...</td>\n",
       "      <td>...</td>\n",
       "      <td>...</td>\n",
       "    </tr>\n",
       "    <tr>\n",
       "      <th>98</th>\n",
       "      <td>M9N</td>\n",
       "      <td>43.706876</td>\n",
       "      <td>-79.518188</td>\n",
       "    </tr>\n",
       "    <tr>\n",
       "      <th>99</th>\n",
       "      <td>M9P</td>\n",
       "      <td>43.696319</td>\n",
       "      <td>-79.532242</td>\n",
       "    </tr>\n",
       "    <tr>\n",
       "      <th>100</th>\n",
       "      <td>M9R</td>\n",
       "      <td>43.688905</td>\n",
       "      <td>-79.554724</td>\n",
       "    </tr>\n",
       "    <tr>\n",
       "      <th>101</th>\n",
       "      <td>M9V</td>\n",
       "      <td>43.739416</td>\n",
       "      <td>-79.588437</td>\n",
       "    </tr>\n",
       "    <tr>\n",
       "      <th>102</th>\n",
       "      <td>M9W</td>\n",
       "      <td>43.706748</td>\n",
       "      <td>-79.594054</td>\n",
       "    </tr>\n",
       "  </tbody>\n",
       "</table>\n",
       "<p>103 rows × 3 columns</p>\n",
       "</div>"
      ],
      "text/plain": [
       "    PostalCode   Latitude  Longitude\n",
       "0          M1B  43.806686 -79.194353\n",
       "1          M1C  43.784535 -79.160497\n",
       "2          M1E  43.763573 -79.188711\n",
       "3          M1G  43.770992 -79.216917\n",
       "4          M1H  43.773136 -79.239476\n",
       "..         ...        ...        ...\n",
       "98         M9N  43.706876 -79.518188\n",
       "99         M9P  43.696319 -79.532242\n",
       "100        M9R  43.688905 -79.554724\n",
       "101        M9V  43.739416 -79.588437\n",
       "102        M9W  43.706748 -79.594054\n",
       "\n",
       "[103 rows x 3 columns]"
      ]
     },
     "execution_count": 23,
     "metadata": {},
     "output_type": "execute_result"
    }
   ],
   "source": [
    "geo_coord = pd.read_csv(\"Geospatial_Coordinates.csv\")\n",
    "geo_coord.columns = [\"PostalCode\", \"Latitude\", \"Longitude\"]\n",
    "geo_coord"
   ]
  },
  {
   "cell_type": "code",
   "execution_count": 24,
   "metadata": {},
   "outputs": [],
   "source": [
    "toronto_df = pd.merge(toronto_df,geo_coord,on=\"PostalCode\")"
   ]
  },
  {
   "cell_type": "code",
   "execution_count": 66,
   "metadata": {},
   "outputs": [
    {
     "data": {
      "text/html": [
       "<div>\n",
       "<style scoped>\n",
       "    .dataframe tbody tr th:only-of-type {\n",
       "        vertical-align: middle;\n",
       "    }\n",
       "\n",
       "    .dataframe tbody tr th {\n",
       "        vertical-align: top;\n",
       "    }\n",
       "\n",
       "    .dataframe thead th {\n",
       "        text-align: right;\n",
       "    }\n",
       "</style>\n",
       "<table border=\"1\" class=\"dataframe\">\n",
       "  <thead>\n",
       "    <tr style=\"text-align: right;\">\n",
       "      <th></th>\n",
       "      <th>PostalCode</th>\n",
       "      <th>Borough</th>\n",
       "      <th>Neighborhood</th>\n",
       "      <th>Latitude</th>\n",
       "      <th>Longitude</th>\n",
       "    </tr>\n",
       "  </thead>\n",
       "  <tbody>\n",
       "    <tr>\n",
       "      <th>0</th>\n",
       "      <td>M3A</td>\n",
       "      <td>North York</td>\n",
       "      <td>Parkwoods</td>\n",
       "      <td>43.753259</td>\n",
       "      <td>-79.329656</td>\n",
       "    </tr>\n",
       "    <tr>\n",
       "      <th>1</th>\n",
       "      <td>M4A</td>\n",
       "      <td>North York</td>\n",
       "      <td>Victoria Village</td>\n",
       "      <td>43.725882</td>\n",
       "      <td>-79.315572</td>\n",
       "    </tr>\n",
       "    <tr>\n",
       "      <th>2</th>\n",
       "      <td>M5A</td>\n",
       "      <td>Downtown Toronto</td>\n",
       "      <td>Regent Park, Harbourfront</td>\n",
       "      <td>43.654260</td>\n",
       "      <td>-79.360636</td>\n",
       "    </tr>\n",
       "    <tr>\n",
       "      <th>3</th>\n",
       "      <td>M6A</td>\n",
       "      <td>North York</td>\n",
       "      <td>Lawrence Manor, Lawrence Heights</td>\n",
       "      <td>43.718518</td>\n",
       "      <td>-79.464763</td>\n",
       "    </tr>\n",
       "    <tr>\n",
       "      <th>4</th>\n",
       "      <td>M7A</td>\n",
       "      <td>Downtown Toronto</td>\n",
       "      <td>Queen's Park, Ontario Provincial Government</td>\n",
       "      <td>43.662301</td>\n",
       "      <td>-79.389494</td>\n",
       "    </tr>\n",
       "    <tr>\n",
       "      <th>5</th>\n",
       "      <td>M9A</td>\n",
       "      <td>Etobicoke</td>\n",
       "      <td>Islington Avenue, Humber Valley Village</td>\n",
       "      <td>43.667856</td>\n",
       "      <td>-79.532242</td>\n",
       "    </tr>\n",
       "  </tbody>\n",
       "</table>\n",
       "</div>"
      ],
      "text/plain": [
       "  PostalCode           Borough                                 Neighborhood  \\\n",
       "0        M3A        North York                                    Parkwoods   \n",
       "1        M4A        North York                             Victoria Village   \n",
       "2        M5A  Downtown Toronto                    Regent Park, Harbourfront   \n",
       "3        M6A        North York             Lawrence Manor, Lawrence Heights   \n",
       "4        M7A  Downtown Toronto  Queen's Park, Ontario Provincial Government   \n",
       "5        M9A         Etobicoke      Islington Avenue, Humber Valley Village   \n",
       "\n",
       "    Latitude  Longitude  \n",
       "0  43.753259 -79.329656  \n",
       "1  43.725882 -79.315572  \n",
       "2  43.654260 -79.360636  \n",
       "3  43.718518 -79.464763  \n",
       "4  43.662301 -79.389494  \n",
       "5  43.667856 -79.532242  "
      ]
     },
     "execution_count": 66,
     "metadata": {},
     "output_type": "execute_result"
    }
   ],
   "source": [
    "toronto_df.head(6)"
   ]
  },
  {
   "cell_type": "markdown",
   "metadata": {},
   "source": [
    "### E) Exploring the first neighborhood in toronto - Parkwoods"
   ]
  },
  {
   "cell_type": "code",
   "execution_count": 26,
   "metadata": {},
   "outputs": [
    {
     "name": "stdout",
     "output_type": "stream",
     "text": [
      "Your credentails:\n",
      "CLIENT_ID: QVWGG5LGOZVOBV5YZBX2ZKR5ACBGHVIM5OVHJKAHGLPEPTV1\n",
      "CLIENT_SECRET:3U14W2WYWO0T3D1NETWMPOC3CPTBHZJRLFS14BM1JWP5XW4Y\n"
     ]
    }
   ],
   "source": [
    "# defining the foursquare api keys\n",
    "CLIENT_ID = 'QVWGG5LGOZVOBV5YZBX2ZKR5ACBGHVIM5OVHJKAHGLPEPTV1' # your Foursquare ID\n",
    "CLIENT_SECRET = '3U14W2WYWO0T3D1NETWMPOC3CPTBHZJRLFS14BM1JWP5XW4Y'\n",
    "VERSION = '20180605' # Foursquare API version\n",
    "RADIUS = 500\n",
    "LIMIT = 100\n",
    "print('Your credentails:')\n",
    "print('CLIENT_ID: ' + CLIENT_ID)\n",
    "print('CLIENT_SECRET:' + CLIENT_SECRET)"
   ]
  },
  {
   "cell_type": "code",
   "execution_count": 30,
   "metadata": {},
   "outputs": [
    {
     "name": "stdout",
     "output_type": "stream",
     "text": [
      "https://api.foursquare.com/v2/venues/explore?client_id=QVWGG5LGOZVOBV5YZBX2ZKR5ACBGHVIM5OVHJKAHGLPEPTV1&client_secret=3U14W2WYWO0T3D1NETWMPOC3CPTBHZJRLFS14BM1JWP5XW4Y&v=20180605&ll=43.7532586,-79.3296565&radius=500&limit=100\n"
     ]
    }
   ],
   "source": [
    "url = \"https://api.foursquare.com/v2/venues/explore?client_id={}&client_secret={}&v={}&ll={},{}&radius={}&limit={}\".format(\n",
    "CLIENT_ID,\n",
    "CLIENT_SECRET,\n",
    "VERSION,\n",
    "toronto_df[\"Latitude\"][0],\n",
    "toronto_df[\"Longitude\"][0],\n",
    "RADIUS,\n",
    "LIMIT\n",
    ")\n",
    "print(url)"
   ]
  },
  {
   "cell_type": "code",
   "execution_count": 31,
   "metadata": {},
   "outputs": [],
   "source": [
    "#requests module to trigger the url and convert it to json\n",
    "results = requests.get(url).json()"
   ]
  },
  {
   "cell_type": "code",
   "execution_count": 34,
   "metadata": {},
   "outputs": [
    {
     "name": "stderr",
     "output_type": "stream",
     "text": [
      "/home/jupyterlab/conda/envs/python/lib/python3.6/site-packages/ipykernel_launcher.py:3: FutureWarning: pandas.io.json.json_normalize is deprecated, use pandas.json_normalize instead\n",
      "  This is separate from the ipykernel package so we can avoid doing imports until\n"
     ]
    }
   ],
   "source": [
    "venues = results['response']['groups'][0]['items']\n",
    "#conver the json to dataframe using pandas json_normalize\n",
    "venues_df = json_normalize(venues)"
   ]
  },
  {
   "cell_type": "code",
   "execution_count": 35,
   "metadata": {},
   "outputs": [
    {
     "data": {
      "text/html": [
       "<div>\n",
       "<style scoped>\n",
       "    .dataframe tbody tr th:only-of-type {\n",
       "        vertical-align: middle;\n",
       "    }\n",
       "\n",
       "    .dataframe tbody tr th {\n",
       "        vertical-align: top;\n",
       "    }\n",
       "\n",
       "    .dataframe thead th {\n",
       "        text-align: right;\n",
       "    }\n",
       "</style>\n",
       "<table border=\"1\" class=\"dataframe\">\n",
       "  <thead>\n",
       "    <tr style=\"text-align: right;\">\n",
       "      <th></th>\n",
       "      <th>referralId</th>\n",
       "      <th>reasons.count</th>\n",
       "      <th>reasons.items</th>\n",
       "      <th>venue.id</th>\n",
       "      <th>venue.name</th>\n",
       "      <th>venue.location.address</th>\n",
       "      <th>venue.location.lat</th>\n",
       "      <th>venue.location.lng</th>\n",
       "      <th>venue.location.labeledLatLngs</th>\n",
       "      <th>venue.location.distance</th>\n",
       "      <th>venue.location.cc</th>\n",
       "      <th>venue.location.city</th>\n",
       "      <th>venue.location.state</th>\n",
       "      <th>venue.location.country</th>\n",
       "      <th>venue.location.formattedAddress</th>\n",
       "      <th>venue.categories</th>\n",
       "      <th>venue.photos.count</th>\n",
       "      <th>venue.photos.groups</th>\n",
       "    </tr>\n",
       "  </thead>\n",
       "  <tbody>\n",
       "    <tr>\n",
       "      <th>0</th>\n",
       "      <td>e-0-4e8d9dcdd5fbbbb6b3003c7b-0</td>\n",
       "      <td>0</td>\n",
       "      <td>[{'summary': 'This spot is popular', 'type': '...</td>\n",
       "      <td>4e8d9dcdd5fbbbb6b3003c7b</td>\n",
       "      <td>Brookbanks Park</td>\n",
       "      <td>Toronto</td>\n",
       "      <td>43.751976</td>\n",
       "      <td>-79.332140</td>\n",
       "      <td>[{'label': 'display', 'lat': 43.75197604605557...</td>\n",
       "      <td>245</td>\n",
       "      <td>CA</td>\n",
       "      <td>Toronto</td>\n",
       "      <td>ON</td>\n",
       "      <td>Canada</td>\n",
       "      <td>[Toronto, Toronto ON, Canada]</td>\n",
       "      <td>[{'id': '4bf58dd8d48988d163941735', 'name': 'P...</td>\n",
       "      <td>0</td>\n",
       "      <td>[]</td>\n",
       "    </tr>\n",
       "    <tr>\n",
       "      <th>1</th>\n",
       "      <td>e-0-4cb11e2075ebb60cd1c4caad-1</td>\n",
       "      <td>0</td>\n",
       "      <td>[{'summary': 'This spot is popular', 'type': '...</td>\n",
       "      <td>4cb11e2075ebb60cd1c4caad</td>\n",
       "      <td>Variety Store</td>\n",
       "      <td>29 Valley Woods Road</td>\n",
       "      <td>43.751974</td>\n",
       "      <td>-79.333114</td>\n",
       "      <td>[{'label': 'display', 'lat': 43.75197441585782...</td>\n",
       "      <td>312</td>\n",
       "      <td>CA</td>\n",
       "      <td>Toronto</td>\n",
       "      <td>ON</td>\n",
       "      <td>Canada</td>\n",
       "      <td>[29 Valley Woods Road, Toronto ON, Canada]</td>\n",
       "      <td>[{'id': '4bf58dd8d48988d1f9941735', 'name': 'F...</td>\n",
       "      <td>0</td>\n",
       "      <td>[]</td>\n",
       "    </tr>\n",
       "  </tbody>\n",
       "</table>\n",
       "</div>"
      ],
      "text/plain": [
       "                       referralId  reasons.count  \\\n",
       "0  e-0-4e8d9dcdd5fbbbb6b3003c7b-0              0   \n",
       "1  e-0-4cb11e2075ebb60cd1c4caad-1              0   \n",
       "\n",
       "                                       reasons.items  \\\n",
       "0  [{'summary': 'This spot is popular', 'type': '...   \n",
       "1  [{'summary': 'This spot is popular', 'type': '...   \n",
       "\n",
       "                   venue.id       venue.name venue.location.address  \\\n",
       "0  4e8d9dcdd5fbbbb6b3003c7b  Brookbanks Park                Toronto   \n",
       "1  4cb11e2075ebb60cd1c4caad    Variety Store   29 Valley Woods Road   \n",
       "\n",
       "   venue.location.lat  venue.location.lng  \\\n",
       "0           43.751976          -79.332140   \n",
       "1           43.751974          -79.333114   \n",
       "\n",
       "                       venue.location.labeledLatLngs  venue.location.distance  \\\n",
       "0  [{'label': 'display', 'lat': 43.75197604605557...                      245   \n",
       "1  [{'label': 'display', 'lat': 43.75197441585782...                      312   \n",
       "\n",
       "  venue.location.cc venue.location.city venue.location.state  \\\n",
       "0                CA             Toronto                   ON   \n",
       "1                CA             Toronto                   ON   \n",
       "\n",
       "  venue.location.country             venue.location.formattedAddress  \\\n",
       "0                 Canada               [Toronto, Toronto ON, Canada]   \n",
       "1                 Canada  [29 Valley Woods Road, Toronto ON, Canada]   \n",
       "\n",
       "                                    venue.categories  venue.photos.count  \\\n",
       "0  [{'id': '4bf58dd8d48988d163941735', 'name': 'P...                   0   \n",
       "1  [{'id': '4bf58dd8d48988d1f9941735', 'name': 'F...                   0   \n",
       "\n",
       "  venue.photos.groups  \n",
       "0                  []  \n",
       "1                  []  "
      ]
     },
     "execution_count": 35,
     "metadata": {},
     "output_type": "execute_result"
    }
   ],
   "source": [
    "venues_df"
   ]
  },
  {
   "cell_type": "code",
   "execution_count": 36,
   "metadata": {},
   "outputs": [],
   "source": [
    "filtered_columns = ['venue.name', 'venue.categories', 'venue.location.lat', 'venue.location.lng']\n",
    "venues_df =venues_df.loc[:, filtered_columns]"
   ]
  },
  {
   "cell_type": "code",
   "execution_count": 37,
   "metadata": {},
   "outputs": [],
   "source": [
    "#function to get the category type\n",
    "def get_category_type(row):\n",
    "    try:\n",
    "        categories = row[\"categories\"]\n",
    "    except:\n",
    "        categories = row[\"venue.categories\"]\n",
    "    if(len(categories) != 0):\n",
    "        return categories[0][\"name\"]\n",
    "    else:\n",
    "        return None"
   ]
  },
  {
   "cell_type": "code",
   "execution_count": 39,
   "metadata": {},
   "outputs": [],
   "source": [
    "#call the above function to get the categories\n",
    "venues_df[\"venue.categories\"] = venues_df.apply(get_category_type,axis=1)"
   ]
  },
  {
   "cell_type": "code",
   "execution_count": 40,
   "metadata": {},
   "outputs": [],
   "source": [
    "#renuame the columns\n",
    "venues_df.columns = [col.split(\".\")[-1] for col in venues_df.columns]"
   ]
  },
  {
   "cell_type": "code",
   "execution_count": 41,
   "metadata": {},
   "outputs": [
    {
     "data": {
      "text/html": [
       "<div>\n",
       "<style scoped>\n",
       "    .dataframe tbody tr th:only-of-type {\n",
       "        vertical-align: middle;\n",
       "    }\n",
       "\n",
       "    .dataframe tbody tr th {\n",
       "        vertical-align: top;\n",
       "    }\n",
       "\n",
       "    .dataframe thead th {\n",
       "        text-align: right;\n",
       "    }\n",
       "</style>\n",
       "<table border=\"1\" class=\"dataframe\">\n",
       "  <thead>\n",
       "    <tr style=\"text-align: right;\">\n",
       "      <th></th>\n",
       "      <th>name</th>\n",
       "      <th>categories</th>\n",
       "      <th>lat</th>\n",
       "      <th>lng</th>\n",
       "    </tr>\n",
       "  </thead>\n",
       "  <tbody>\n",
       "    <tr>\n",
       "      <th>0</th>\n",
       "      <td>Brookbanks Park</td>\n",
       "      <td>Park</td>\n",
       "      <td>43.751976</td>\n",
       "      <td>-79.332140</td>\n",
       "    </tr>\n",
       "    <tr>\n",
       "      <th>1</th>\n",
       "      <td>Variety Store</td>\n",
       "      <td>Food &amp; Drink Shop</td>\n",
       "      <td>43.751974</td>\n",
       "      <td>-79.333114</td>\n",
       "    </tr>\n",
       "  </tbody>\n",
       "</table>\n",
       "</div>"
      ],
      "text/plain": [
       "              name         categories        lat        lng\n",
       "0  Brookbanks Park               Park  43.751976 -79.332140\n",
       "1    Variety Store  Food & Drink Shop  43.751974 -79.333114"
      ]
     },
     "execution_count": 41,
     "metadata": {},
     "output_type": "execute_result"
    }
   ],
   "source": [
    "#display the final df\n",
    "venues_df.head()"
   ]
  },
  {
   "cell_type": "code",
   "execution_count": 49,
   "metadata": {},
   "outputs": [],
   "source": [
    "# visualizing the neighborhood and its venues on the folium map\n",
    "import folium\n",
    "parkwoods_map = folium.Map(location=[toronto_df[\"Latitude\"][0],toronto_df[\"Longitude\"][0]],zoom_start=16)\n",
    "\n",
    "for lat,lng,name,category in zip(venues_df[\"lat\"],venues_df[\"lng\"],venues_df[\"name\"],venues_df[\"categories\"]):\n",
    "    label = folium.Popup(str(name) +\",\"+str(category))\n",
    "    folium.CircleMarker(\n",
    "    [lat,lng],\n",
    "    popup = label,\n",
    "    radius = 5,\n",
    "    fill = True,\n",
    "    fill_color = \"red\",\n",
    "    fill_opacity = 0.7\n",
    "    ).add_to(parkwoods_map)"
   ]
  },
  {
   "cell_type": "code",
   "execution_count": 51,
   "metadata": {},
   "outputs": [
    {
     "data": {
      "text/html": [
       "<div style=\"width:100%;\"><div style=\"position:relative;width:100%;height:0;padding-bottom:60%;\"><span style=\"color:#565656\">Make this Notebook Trusted to load map: File -> Trust Notebook</span><iframe src=\"about:blank\" style=\"position:absolute;width:100%;height:100%;left:0;top:0;border:none !important;\" data-html=PCFET0NUWVBFIGh0bWw+CjxoZWFkPiAgICAKICAgIDxtZXRhIGh0dHAtZXF1aXY9ImNvbnRlbnQtdHlwZSIgY29udGVudD0idGV4dC9odG1sOyBjaGFyc2V0PVVURi04IiAvPgogICAgCiAgICAgICAgPHNjcmlwdD4KICAgICAgICAgICAgTF9OT19UT1VDSCA9IGZhbHNlOwogICAgICAgICAgICBMX0RJU0FCTEVfM0QgPSBmYWxzZTsKICAgICAgICA8L3NjcmlwdD4KICAgIAogICAgPHNjcmlwdCBzcmM9Imh0dHBzOi8vY2RuLmpzZGVsaXZyLm5ldC9ucG0vbGVhZmxldEAxLjYuMC9kaXN0L2xlYWZsZXQuanMiPjwvc2NyaXB0PgogICAgPHNjcmlwdCBzcmM9Imh0dHBzOi8vY29kZS5qcXVlcnkuY29tL2pxdWVyeS0xLjEyLjQubWluLmpzIj48L3NjcmlwdD4KICAgIDxzY3JpcHQgc3JjPSJodHRwczovL21heGNkbi5ib290c3RyYXBjZG4uY29tL2Jvb3RzdHJhcC8zLjIuMC9qcy9ib290c3RyYXAubWluLmpzIj48L3NjcmlwdD4KICAgIDxzY3JpcHQgc3JjPSJodHRwczovL2NkbmpzLmNsb3VkZmxhcmUuY29tL2FqYXgvbGlicy9MZWFmbGV0LmF3ZXNvbWUtbWFya2Vycy8yLjAuMi9sZWFmbGV0LmF3ZXNvbWUtbWFya2Vycy5qcyI+PC9zY3JpcHQ+CiAgICA8bGluayByZWw9InN0eWxlc2hlZXQiIGhyZWY9Imh0dHBzOi8vY2RuLmpzZGVsaXZyLm5ldC9ucG0vbGVhZmxldEAxLjYuMC9kaXN0L2xlYWZsZXQuY3NzIi8+CiAgICA8bGluayByZWw9InN0eWxlc2hlZXQiIGhyZWY9Imh0dHBzOi8vbWF4Y2RuLmJvb3RzdHJhcGNkbi5jb20vYm9vdHN0cmFwLzMuMi4wL2Nzcy9ib290c3RyYXAubWluLmNzcyIvPgogICAgPGxpbmsgcmVsPSJzdHlsZXNoZWV0IiBocmVmPSJodHRwczovL21heGNkbi5ib290c3RyYXBjZG4uY29tL2Jvb3RzdHJhcC8zLjIuMC9jc3MvYm9vdHN0cmFwLXRoZW1lLm1pbi5jc3MiLz4KICAgIDxsaW5rIHJlbD0ic3R5bGVzaGVldCIgaHJlZj0iaHR0cHM6Ly9tYXhjZG4uYm9vdHN0cmFwY2RuLmNvbS9mb250LWF3ZXNvbWUvNC42LjMvY3NzL2ZvbnQtYXdlc29tZS5taW4uY3NzIi8+CiAgICA8bGluayByZWw9InN0eWxlc2hlZXQiIGhyZWY9Imh0dHBzOi8vY2RuanMuY2xvdWRmbGFyZS5jb20vYWpheC9saWJzL0xlYWZsZXQuYXdlc29tZS1tYXJrZXJzLzIuMC4yL2xlYWZsZXQuYXdlc29tZS1tYXJrZXJzLmNzcyIvPgogICAgPGxpbmsgcmVsPSJzdHlsZXNoZWV0IiBocmVmPSJodHRwczovL3Jhd2Nkbi5naXRoYWNrLmNvbS9weXRob24tdmlzdWFsaXphdGlvbi9mb2xpdW0vbWFzdGVyL2ZvbGl1bS90ZW1wbGF0ZXMvbGVhZmxldC5hd2Vzb21lLnJvdGF0ZS5jc3MiLz4KICAgIDxzdHlsZT5odG1sLCBib2R5IHt3aWR0aDogMTAwJTtoZWlnaHQ6IDEwMCU7bWFyZ2luOiAwO3BhZGRpbmc6IDA7fTwvc3R5bGU+CiAgICA8c3R5bGU+I21hcCB7cG9zaXRpb246YWJzb2x1dGU7dG9wOjA7Ym90dG9tOjA7cmlnaHQ6MDtsZWZ0OjA7fTwvc3R5bGU+CiAgICAKICAgICAgICAgICAgPG1ldGEgbmFtZT0idmlld3BvcnQiIGNvbnRlbnQ9IndpZHRoPWRldmljZS13aWR0aCwKICAgICAgICAgICAgICAgIGluaXRpYWwtc2NhbGU9MS4wLCBtYXhpbXVtLXNjYWxlPTEuMCwgdXNlci1zY2FsYWJsZT1ubyIgLz4KICAgICAgICAgICAgPHN0eWxlPgogICAgICAgICAgICAgICAgI21hcF9iNzg1OGM5ZDdkNzA0Mjc1OWQyNmQyMjQ0NGEzYzdlNSB7CiAgICAgICAgICAgICAgICAgICAgcG9zaXRpb246IHJlbGF0aXZlOwogICAgICAgICAgICAgICAgICAgIHdpZHRoOiAxMDAuMCU7CiAgICAgICAgICAgICAgICAgICAgaGVpZ2h0OiAxMDAuMCU7CiAgICAgICAgICAgICAgICAgICAgbGVmdDogMC4wJTsKICAgICAgICAgICAgICAgICAgICB0b3A6IDAuMCU7CiAgICAgICAgICAgICAgICB9CiAgICAgICAgICAgIDwvc3R5bGU+CiAgICAgICAgCjwvaGVhZD4KPGJvZHk+ICAgIAogICAgCiAgICAgICAgICAgIDxkaXYgY2xhc3M9ImZvbGl1bS1tYXAiIGlkPSJtYXBfYjc4NThjOWQ3ZDcwNDI3NTlkMjZkMjI0NDRhM2M3ZTUiID48L2Rpdj4KICAgICAgICAKPC9ib2R5Pgo8c2NyaXB0PiAgICAKICAgIAogICAgICAgICAgICB2YXIgbWFwX2I3ODU4YzlkN2Q3MDQyNzU5ZDI2ZDIyNDQ0YTNjN2U1ID0gTC5tYXAoCiAgICAgICAgICAgICAgICAibWFwX2I3ODU4YzlkN2Q3MDQyNzU5ZDI2ZDIyNDQ0YTNjN2U1IiwKICAgICAgICAgICAgICAgIHsKICAgICAgICAgICAgICAgICAgICBjZW50ZXI6IFs0My43NTMyNTg2LCAtNzkuMzI5NjU2NV0sCiAgICAgICAgICAgICAgICAgICAgY3JzOiBMLkNSUy5FUFNHMzg1NywKICAgICAgICAgICAgICAgICAgICB6b29tOiAxNiwKICAgICAgICAgICAgICAgICAgICB6b29tQ29udHJvbDogdHJ1ZSwKICAgICAgICAgICAgICAgICAgICBwcmVmZXJDYW52YXM6IGZhbHNlLAogICAgICAgICAgICAgICAgfQogICAgICAgICAgICApOwoKICAgICAgICAgICAgCgogICAgICAgIAogICAgCiAgICAgICAgICAgIHZhciB0aWxlX2xheWVyXzBiNWJhNzExNDkwNjQwM2NiODBiYmFiYjE5ZTFiMDFiID0gTC50aWxlTGF5ZXIoCiAgICAgICAgICAgICAgICAiaHR0cHM6Ly97c30udGlsZS5vcGVuc3RyZWV0bWFwLm9yZy97en0ve3h9L3t5fS5wbmciLAogICAgICAgICAgICAgICAgeyJhdHRyaWJ1dGlvbiI6ICJEYXRhIGJ5IFx1MDAyNmNvcHk7IFx1MDAzY2EgaHJlZj1cImh0dHA6Ly9vcGVuc3RyZWV0bWFwLm9yZ1wiXHUwMDNlT3BlblN0cmVldE1hcFx1MDAzYy9hXHUwMDNlLCB1bmRlciBcdTAwM2NhIGhyZWY9XCJodHRwOi8vd3d3Lm9wZW5zdHJlZXRtYXAub3JnL2NvcHlyaWdodFwiXHUwMDNlT0RiTFx1MDAzYy9hXHUwMDNlLiIsICJkZXRlY3RSZXRpbmEiOiBmYWxzZSwgIm1heE5hdGl2ZVpvb20iOiAxOCwgIm1heFpvb20iOiAxOCwgIm1pblpvb20iOiAwLCAibm9XcmFwIjogZmFsc2UsICJvcGFjaXR5IjogMSwgInN1YmRvbWFpbnMiOiAiYWJjIiwgInRtcyI6IGZhbHNlfQogICAgICAgICAgICApLmFkZFRvKG1hcF9iNzg1OGM5ZDdkNzA0Mjc1OWQyNmQyMjQ0NGEzYzdlNSk7CiAgICAgICAgCiAgICAKICAgICAgICAgICAgdmFyIGNpcmNsZV9tYXJrZXJfMTMxOGU0NGY3YzdjNGNkYjg3ZDZjMmYzN2Q4N2Q3NGYgPSBMLmNpcmNsZU1hcmtlcigKICAgICAgICAgICAgICAgIFs0My43NTE5NzYwNDYwNTU1NzQsIC03OS4zMzIxNDA0NDcyMjk1OF0sCiAgICAgICAgICAgICAgICB7ImJ1YmJsaW5nTW91c2VFdmVudHMiOiB0cnVlLCAiY29sb3IiOiAiIzMzODhmZiIsICJkYXNoQXJyYXkiOiBudWxsLCAiZGFzaE9mZnNldCI6IG51bGwsICJmaWxsIjogdHJ1ZSwgImZpbGxDb2xvciI6ICJyZWQiLCAiZmlsbE9wYWNpdHkiOiAwLjcsICJmaWxsUnVsZSI6ICJldmVub2RkIiwgImxpbmVDYXAiOiAicm91bmQiLCAibGluZUpvaW4iOiAicm91bmQiLCAib3BhY2l0eSI6IDEuMCwgInJhZGl1cyI6IDUsICJzdHJva2UiOiB0cnVlLCAid2VpZ2h0IjogM30KICAgICAgICAgICAgKS5hZGRUbyhtYXBfYjc4NThjOWQ3ZDcwNDI3NTlkMjZkMjI0NDRhM2M3ZTUpOwogICAgICAgIAogICAgCiAgICAgICAgdmFyIHBvcHVwX2FkMmZmMjhkOWU1YTQ0MDg4MzEwNTYzNWQwYTNkYWQyID0gTC5wb3B1cCh7Im1heFdpZHRoIjogIjEwMCUifSk7CgogICAgICAgIAogICAgICAgICAgICB2YXIgaHRtbF9kODA1NjZkZjhjNTA0ZjVkODJmYjI1ODE1NTczNDZlYiA9ICQoYDxkaXYgaWQ9Imh0bWxfZDgwNTY2ZGY4YzUwNGY1ZDgyZmIyNTgxNTU3MzQ2ZWIiIHN0eWxlPSJ3aWR0aDogMTAwLjAlOyBoZWlnaHQ6IDEwMC4wJTsiPkJyb29rYmFua3MgUGFyayxQYXJrPC9kaXY+YClbMF07CiAgICAgICAgICAgIHBvcHVwX2FkMmZmMjhkOWU1YTQ0MDg4MzEwNTYzNWQwYTNkYWQyLnNldENvbnRlbnQoaHRtbF9kODA1NjZkZjhjNTA0ZjVkODJmYjI1ODE1NTczNDZlYik7CiAgICAgICAgCgogICAgICAgIGNpcmNsZV9tYXJrZXJfMTMxOGU0NGY3YzdjNGNkYjg3ZDZjMmYzN2Q4N2Q3NGYuYmluZFBvcHVwKHBvcHVwX2FkMmZmMjhkOWU1YTQ0MDg4MzEwNTYzNWQwYTNkYWQyKQogICAgICAgIDsKCiAgICAgICAgCiAgICAKICAgIAogICAgICAgICAgICB2YXIgY2lyY2xlX21hcmtlcl9lMGJlOGNmZDc0NjQ0ZjAxYjlkZWFmODg1ZTYxMmQwYiA9IEwuY2lyY2xlTWFya2VyKAogICAgICAgICAgICAgICAgWzQzLjc1MTk3NDQxNTg1NzgyLCAtNzkuMzMzMTE0MTg1MTYwMTddLAogICAgICAgICAgICAgICAgeyJidWJibGluZ01vdXNlRXZlbnRzIjogdHJ1ZSwgImNvbG9yIjogIiMzMzg4ZmYiLCAiZGFzaEFycmF5IjogbnVsbCwgImRhc2hPZmZzZXQiOiBudWxsLCAiZmlsbCI6IHRydWUsICJmaWxsQ29sb3IiOiAicmVkIiwgImZpbGxPcGFjaXR5IjogMC43LCAiZmlsbFJ1bGUiOiAiZXZlbm9kZCIsICJsaW5lQ2FwIjogInJvdW5kIiwgImxpbmVKb2luIjogInJvdW5kIiwgIm9wYWNpdHkiOiAxLjAsICJyYWRpdXMiOiA1LCAic3Ryb2tlIjogdHJ1ZSwgIndlaWdodCI6IDN9CiAgICAgICAgICAgICkuYWRkVG8obWFwX2I3ODU4YzlkN2Q3MDQyNzU5ZDI2ZDIyNDQ0YTNjN2U1KTsKICAgICAgICAKICAgIAogICAgICAgIHZhciBwb3B1cF81OWE0Mzg5NDljN2Q0ZmQzYTY0ODZmMWY4NzhiMjE1ZiA9IEwucG9wdXAoeyJtYXhXaWR0aCI6ICIxMDAlIn0pOwoKICAgICAgICAKICAgICAgICAgICAgdmFyIGh0bWxfMzg0N2M3YWYwOGI3NGJmMTg1M2Y2YWZkNDQ0M2FlMjAgPSAkKGA8ZGl2IGlkPSJodG1sXzM4NDdjN2FmMDhiNzRiZjE4NTNmNmFmZDQ0NDNhZTIwIiBzdHlsZT0id2lkdGg6IDEwMC4wJTsgaGVpZ2h0OiAxMDAuMCU7Ij5WYXJpZXR5IFN0b3JlLEZvb2QgJiBEcmluayBTaG9wPC9kaXY+YClbMF07CiAgICAgICAgICAgIHBvcHVwXzU5YTQzODk0OWM3ZDRmZDNhNjQ4NmYxZjg3OGIyMTVmLnNldENvbnRlbnQoaHRtbF8zODQ3YzdhZjA4Yjc0YmYxODUzZjZhZmQ0NDQzYWUyMCk7CiAgICAgICAgCgogICAgICAgIGNpcmNsZV9tYXJrZXJfZTBiZThjZmQ3NDY0NGYwMWI5ZGVhZjg4NWU2MTJkMGIuYmluZFBvcHVwKHBvcHVwXzU5YTQzODk0OWM3ZDRmZDNhNjQ4NmYxZjg3OGIyMTVmKQogICAgICAgIDsKCiAgICAgICAgCiAgICAKPC9zY3JpcHQ+ onload=\"this.contentDocument.open();this.contentDocument.write(atob(this.getAttribute('data-html')));this.contentDocument.close();\" allowfullscreen webkitallowfullscreen mozallowfullscreen></iframe></div></div>"
      ],
      "text/plain": [
       "<folium.folium.Map at 0x7f8ed99cef60>"
      ]
     },
     "execution_count": 51,
     "metadata": {},
     "output_type": "execute_result"
    }
   ],
   "source": [
    "#display the parkwoods map\n",
    "parkwoods_map"
   ]
  },
  {
   "cell_type": "markdown",
   "metadata": {},
   "source": [
    "### F) Analyzing all the neighborhoods in Toronto."
   ]
  },
  {
   "cell_type": "markdown",
   "metadata": {},
   "source": [
    "#### Now, we will be analyzing the neighborhoods in Toronto and adding the same to our venues dataframe. Below we define a function to be used to get the venues in the respective neighborhoods."
   ]
  },
  {
   "cell_type": "code",
   "execution_count": 95,
   "metadata": {},
   "outputs": [],
   "source": [
    "def getNearbyVenues(neighborhoods,latitudes,longitudes):\n",
    "    for neighborhood, lat, lng in zip(neighborhoods,latitudes,longitudes):\n",
    "        \n",
    "        print(neighborhood)\n",
    "        #define the url\n",
    "        url = \"https://api.foursquare.com/v2/venues/explore?client_id={}&client_secret={}&v={}&ll={},{}&radius={}&limit={}\".format(\n",
    "        CLIENT_ID,\n",
    "        CLIENT_SECRET,\n",
    "        VERSION,\n",
    "        lat,\n",
    "        lng,\n",
    "        500,\n",
    "        100\n",
    "        )\n",
    "        \n",
    "        results = requests.get(url).json()\n",
    "        venues = results['response']['groups'][0]['items']\n",
    "        temp_df = json_normalize(venues)\n",
    "        temp_df[\"venue.categories\"] = temp_df.apply(get_category_type,axis=1)\n",
    "        \n",
    "        #Append the values to the original data frame.\n",
    "        names_list=[]\n",
    "        categories_list=[]\n",
    "        lat_list=[]\n",
    "        lng_list=[]\n",
    "        for i in range(len(temp_df)):\n",
    "            names_list.append(temp_df[\"venue.name\"][i])\n",
    "            categories_list.append(temp_df[\"venue.categories\"][i])\n",
    "            lat_list.append(temp_df[\"venue.location.lat\"][i])\n",
    "            lng_list.append(temp_df[\"venue.location.lng\"][i])\n",
    "        df2 = pd.DataFrame({\"name\":names_list,\n",
    "                           \"categories\": categories_list,\n",
    "                           \"lat\": lat_list,\n",
    "                           \"lng\": lng_list})\n",
    "        venues_df.append(df2, ignore_index= True)\n",
    "            \n",
    "    return df2"
   ]
  },
  {
   "cell_type": "code",
   "execution_count": 102,
   "metadata": {},
   "outputs": [
    {
     "name": "stdout",
     "output_type": "stream",
     "text": [
      "Glencairn\n"
     ]
    },
    {
     "name": "stderr",
     "output_type": "stream",
     "text": [
      "/home/jupyterlab/conda/envs/python/lib/python3.6/site-packages/ipykernel_launcher.py:18: FutureWarning: pandas.io.json.json_normalize is deprecated, use pandas.json_normalize instead\n"
     ]
    }
   ],
   "source": [
    "# This parameters can be passed based on the neighborhood of which we wish to check the venues\n",
    "toronto_venues = getNearbyVenues(neighborhoods= [toronto_df[\"Neighborhood\"][10]],\n",
    "                           latitudes = [toronto_df[\"Latitude\"][10]],\n",
    "                           longitudes = [toronto_df[\"Longitude\"][10]])"
   ]
  },
  {
   "cell_type": "code",
   "execution_count": 103,
   "metadata": {},
   "outputs": [
    {
     "data": {
      "text/html": [
       "<div>\n",
       "<style scoped>\n",
       "    .dataframe tbody tr th:only-of-type {\n",
       "        vertical-align: middle;\n",
       "    }\n",
       "\n",
       "    .dataframe tbody tr th {\n",
       "        vertical-align: top;\n",
       "    }\n",
       "\n",
       "    .dataframe thead th {\n",
       "        text-align: right;\n",
       "    }\n",
       "</style>\n",
       "<table border=\"1\" class=\"dataframe\">\n",
       "  <thead>\n",
       "    <tr style=\"text-align: right;\">\n",
       "      <th></th>\n",
       "      <th>name</th>\n",
       "      <th>categories</th>\n",
       "      <th>lat</th>\n",
       "      <th>lng</th>\n",
       "    </tr>\n",
       "  </thead>\n",
       "  <tbody>\n",
       "    <tr>\n",
       "      <th>0</th>\n",
       "      <td>Miyako Sushi Restaurant</td>\n",
       "      <td>Japanese Restaurant</td>\n",
       "      <td>43.709111</td>\n",
       "      <td>-79.443930</td>\n",
       "    </tr>\n",
       "    <tr>\n",
       "      <th>1</th>\n",
       "      <td>Li Cheng Restaurant</td>\n",
       "      <td>Asian Restaurant</td>\n",
       "      <td>43.708828</td>\n",
       "      <td>-79.443366</td>\n",
       "    </tr>\n",
       "    <tr>\n",
       "      <th>2</th>\n",
       "      <td>Chalker's Pub, Billiards and Bistro</td>\n",
       "      <td>Pub</td>\n",
       "      <td>43.705747</td>\n",
       "      <td>-79.442378</td>\n",
       "    </tr>\n",
       "    <tr>\n",
       "      <th>3</th>\n",
       "      <td>Pizza Nova</td>\n",
       "      <td>Pizza Place</td>\n",
       "      <td>43.707504</td>\n",
       "      <td>-79.443141</td>\n",
       "    </tr>\n",
       "    <tr>\n",
       "      <th>4</th>\n",
       "      <td>Domino's Pizza</td>\n",
       "      <td>Pizza Place</td>\n",
       "      <td>43.707170</td>\n",
       "      <td>-79.442658</td>\n",
       "    </tr>\n",
       "  </tbody>\n",
       "</table>\n",
       "</div>"
      ],
      "text/plain": [
       "                                  name           categories        lat  \\\n",
       "0              Miyako Sushi Restaurant  Japanese Restaurant  43.709111   \n",
       "1                  Li Cheng Restaurant     Asian Restaurant  43.708828   \n",
       "2  Chalker's Pub, Billiards and Bistro                  Pub  43.705747   \n",
       "3                           Pizza Nova          Pizza Place  43.707504   \n",
       "4                       Domino's Pizza          Pizza Place  43.707170   \n",
       "\n",
       "         lng  \n",
       "0 -79.443930  \n",
       "1 -79.443366  \n",
       "2 -79.442378  \n",
       "3 -79.443141  \n",
       "4 -79.442658  "
      ]
     },
     "execution_count": 103,
     "metadata": {},
     "output_type": "execute_result"
    }
   ],
   "source": [
    "toronto_venues"
   ]
  },
  {
   "cell_type": "markdown",
   "metadata": {},
   "source": [
    "### G) Clustering the neighborhoods in the city of Toronto, Canada"
   ]
  },
  {
   "cell_type": "code",
   "execution_count": 111,
   "metadata": {},
   "outputs": [],
   "source": [
    "toronto_grouped_clustering = toronto_df.drop([\"Neighborhood\",\"PostalCode\", \"Borough\"],axis=1)"
   ]
  },
  {
   "cell_type": "code",
   "execution_count": 112,
   "metadata": {},
   "outputs": [
    {
     "data": {
      "text/html": [
       "<div>\n",
       "<style scoped>\n",
       "    .dataframe tbody tr th:only-of-type {\n",
       "        vertical-align: middle;\n",
       "    }\n",
       "\n",
       "    .dataframe tbody tr th {\n",
       "        vertical-align: top;\n",
       "    }\n",
       "\n",
       "    .dataframe thead th {\n",
       "        text-align: right;\n",
       "    }\n",
       "</style>\n",
       "<table border=\"1\" class=\"dataframe\">\n",
       "  <thead>\n",
       "    <tr style=\"text-align: right;\">\n",
       "      <th></th>\n",
       "      <th>Latitude</th>\n",
       "      <th>Longitude</th>\n",
       "    </tr>\n",
       "  </thead>\n",
       "  <tbody>\n",
       "    <tr>\n",
       "      <th>0</th>\n",
       "      <td>43.753259</td>\n",
       "      <td>-79.329656</td>\n",
       "    </tr>\n",
       "    <tr>\n",
       "      <th>1</th>\n",
       "      <td>43.725882</td>\n",
       "      <td>-79.315572</td>\n",
       "    </tr>\n",
       "    <tr>\n",
       "      <th>2</th>\n",
       "      <td>43.654260</td>\n",
       "      <td>-79.360636</td>\n",
       "    </tr>\n",
       "    <tr>\n",
       "      <th>3</th>\n",
       "      <td>43.718518</td>\n",
       "      <td>-79.464763</td>\n",
       "    </tr>\n",
       "    <tr>\n",
       "      <th>4</th>\n",
       "      <td>43.662301</td>\n",
       "      <td>-79.389494</td>\n",
       "    </tr>\n",
       "    <tr>\n",
       "      <th>...</th>\n",
       "      <td>...</td>\n",
       "      <td>...</td>\n",
       "    </tr>\n",
       "    <tr>\n",
       "      <th>98</th>\n",
       "      <td>43.653654</td>\n",
       "      <td>-79.506944</td>\n",
       "    </tr>\n",
       "    <tr>\n",
       "      <th>99</th>\n",
       "      <td>43.665860</td>\n",
       "      <td>-79.383160</td>\n",
       "    </tr>\n",
       "    <tr>\n",
       "      <th>100</th>\n",
       "      <td>43.662744</td>\n",
       "      <td>-79.321558</td>\n",
       "    </tr>\n",
       "    <tr>\n",
       "      <th>101</th>\n",
       "      <td>43.636258</td>\n",
       "      <td>-79.498509</td>\n",
       "    </tr>\n",
       "    <tr>\n",
       "      <th>102</th>\n",
       "      <td>43.628841</td>\n",
       "      <td>-79.520999</td>\n",
       "    </tr>\n",
       "  </tbody>\n",
       "</table>\n",
       "<p>103 rows × 2 columns</p>\n",
       "</div>"
      ],
      "text/plain": [
       "      Latitude  Longitude\n",
       "0    43.753259 -79.329656\n",
       "1    43.725882 -79.315572\n",
       "2    43.654260 -79.360636\n",
       "3    43.718518 -79.464763\n",
       "4    43.662301 -79.389494\n",
       "..         ...        ...\n",
       "98   43.653654 -79.506944\n",
       "99   43.665860 -79.383160\n",
       "100  43.662744 -79.321558\n",
       "101  43.636258 -79.498509\n",
       "102  43.628841 -79.520999\n",
       "\n",
       "[103 rows x 2 columns]"
      ]
     },
     "execution_count": 112,
     "metadata": {},
     "output_type": "execute_result"
    }
   ],
   "source": [
    "toronto_grouped_clustering"
   ]
  },
  {
   "cell_type": "code",
   "execution_count": 108,
   "metadata": {},
   "outputs": [],
   "source": [
    "#import the sklearn cluster module KMeans\n",
    "from sklearn.cluster import KMeans"
   ]
  },
  {
   "cell_type": "code",
   "execution_count": 113,
   "metadata": {},
   "outputs": [],
   "source": [
    "#initialize the kmeans clustering algorithm and fit the training data\n",
    "kmeans = KMeans(n_clusters=4,random_state=42).fit(toronto_grouped_clustering)"
   ]
  },
  {
   "cell_type": "code",
   "execution_count": 114,
   "metadata": {},
   "outputs": [],
   "source": [
    "#add the cluster labels to the original dataframe\n",
    "toronto_df[\"Cluster Labels\"] = kmeans.labels_"
   ]
  },
  {
   "cell_type": "code",
   "execution_count": 116,
   "metadata": {},
   "outputs": [
    {
     "data": {
      "text/html": [
       "<div>\n",
       "<style scoped>\n",
       "    .dataframe tbody tr th:only-of-type {\n",
       "        vertical-align: middle;\n",
       "    }\n",
       "\n",
       "    .dataframe tbody tr th {\n",
       "        vertical-align: top;\n",
       "    }\n",
       "\n",
       "    .dataframe thead th {\n",
       "        text-align: right;\n",
       "    }\n",
       "</style>\n",
       "<table border=\"1\" class=\"dataframe\">\n",
       "  <thead>\n",
       "    <tr style=\"text-align: right;\">\n",
       "      <th></th>\n",
       "      <th>PostalCode</th>\n",
       "      <th>Borough</th>\n",
       "      <th>Neighborhood</th>\n",
       "      <th>Latitude</th>\n",
       "      <th>Longitude</th>\n",
       "      <th>Cluster Labels</th>\n",
       "    </tr>\n",
       "  </thead>\n",
       "  <tbody>\n",
       "    <tr>\n",
       "      <th>0</th>\n",
       "      <td>M3A</td>\n",
       "      <td>North York</td>\n",
       "      <td>Parkwoods</td>\n",
       "      <td>43.753259</td>\n",
       "      <td>-79.329656</td>\n",
       "      <td>1</td>\n",
       "    </tr>\n",
       "    <tr>\n",
       "      <th>1</th>\n",
       "      <td>M4A</td>\n",
       "      <td>North York</td>\n",
       "      <td>Victoria Village</td>\n",
       "      <td>43.725882</td>\n",
       "      <td>-79.315572</td>\n",
       "      <td>1</td>\n",
       "    </tr>\n",
       "    <tr>\n",
       "      <th>2</th>\n",
       "      <td>M5A</td>\n",
       "      <td>Downtown Toronto</td>\n",
       "      <td>Regent Park, Harbourfront</td>\n",
       "      <td>43.654260</td>\n",
       "      <td>-79.360636</td>\n",
       "      <td>3</td>\n",
       "    </tr>\n",
       "    <tr>\n",
       "      <th>3</th>\n",
       "      <td>M6A</td>\n",
       "      <td>North York</td>\n",
       "      <td>Lawrence Manor, Lawrence Heights</td>\n",
       "      <td>43.718518</td>\n",
       "      <td>-79.464763</td>\n",
       "      <td>0</td>\n",
       "    </tr>\n",
       "    <tr>\n",
       "      <th>4</th>\n",
       "      <td>M7A</td>\n",
       "      <td>Downtown Toronto</td>\n",
       "      <td>Queen's Park, Ontario Provincial Government</td>\n",
       "      <td>43.662301</td>\n",
       "      <td>-79.389494</td>\n",
       "      <td>3</td>\n",
       "    </tr>\n",
       "  </tbody>\n",
       "</table>\n",
       "</div>"
      ],
      "text/plain": [
       "  PostalCode           Borough                                 Neighborhood  \\\n",
       "0        M3A        North York                                    Parkwoods   \n",
       "1        M4A        North York                             Victoria Village   \n",
       "2        M5A  Downtown Toronto                    Regent Park, Harbourfront   \n",
       "3        M6A        North York             Lawrence Manor, Lawrence Heights   \n",
       "4        M7A  Downtown Toronto  Queen's Park, Ontario Provincial Government   \n",
       "\n",
       "    Latitude  Longitude  Cluster Labels  \n",
       "0  43.753259 -79.329656               1  \n",
       "1  43.725882 -79.315572               1  \n",
       "2  43.654260 -79.360636               3  \n",
       "3  43.718518 -79.464763               0  \n",
       "4  43.662301 -79.389494               3  "
      ]
     },
     "execution_count": 116,
     "metadata": {},
     "output_type": "execute_result"
    }
   ],
   "source": [
    "toronto_df.head()"
   ]
  },
  {
   "cell_type": "markdown",
   "metadata": {},
   "source": [
    "### H) Visualizing the Clusters"
   ]
  },
  {
   "cell_type": "code",
   "execution_count": 122,
   "metadata": {},
   "outputs": [
    {
     "name": "stderr",
     "output_type": "stream",
     "text": [
      "/home/jupyterlab/conda/envs/python/lib/python3.6/site-packages/ipykernel_launcher.py:4: DeprecationWarning: Using Nominatim with the default \"geopy/1.22.0\" `user_agent` is strongly discouraged, as it violates Nominatim's ToS https://operations.osmfoundation.org/policies/nominatim/ and may possibly cause 403 and 429 HTTP errors. Please specify a custom `user_agent` with `Nominatim(user_agent=\"my-application\")` or by overriding the default `user_agent`: `geopy.geocoders.options.default_user_agent = \"my-application\"`. In geopy 2.0 this will become an exception.\n",
      "  after removing the cwd from sys.path.\n"
     ]
    }
   ],
   "source": [
    "#Getting the coordinates of toronto\n",
    "from geopy.geocoders import Nominatim\n",
    "address = \"toronto, Ontario, Canada\"\n",
    "geocoder = Nominatim()\n",
    "location = geocoder.geocode(address)\n",
    "toronto_latitude = location.latitude\n",
    "toronto_longitude = location.longitude"
   ]
  },
  {
   "cell_type": "code",
   "execution_count": 124,
   "metadata": {},
   "outputs": [],
   "source": [
    "from folium import plugins\n",
    "toronto_map = folium.Map(location = [toronto_latitude,toronto_longitude],zoom_start = 13)\n",
    "cluster_neighborhoods = plugins.MarkerCluster().add_to(toronto_map)\n",
    "for lat,lng,label in zip(toronto_df[\"Latitude\"],toronto_df[\"Longitude\"],toronto_df[\"Neighborhood\"]):\n",
    "    folium.Marker(location = [lat,lng], icon=None,popup=label).add_to(cluster_neighborhoods)"
   ]
  },
  {
   "cell_type": "code",
   "execution_count": 125,
   "metadata": {},
   "outputs": [
    {
     "data": {
      "text/html": [
       "<div style=\"width:100%;\"><div style=\"position:relative;width:100%;height:0;padding-bottom:60%;\"><span style=\"color:#565656\">Make this Notebook Trusted to load map: File -> Trust Notebook</span><iframe src=\"about:blank\" style=\"position:absolute;width:100%;height:100%;left:0;top:0;border:none !important;\" data-html=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 onload=\"this.contentDocument.open();this.contentDocument.write(atob(this.getAttribute('data-html')));this.contentDocument.close();\" allowfullscreen webkitallowfullscreen mozallowfullscreen></iframe></div></div>"
      ],
      "text/plain": [
       "<folium.folium.Map at 0x7f8ea2a4a2b0>"
      ]
     },
     "execution_count": 125,
     "metadata": {},
     "output_type": "execute_result"
    }
   ],
   "source": [
    "toronto_map"
   ]
  }
 ],
 "metadata": {
  "kernelspec": {
   "display_name": "Python",
   "language": "python",
   "name": "conda-env-python-py"
  },
  "language_info": {
   "codemirror_mode": {
    "name": "ipython",
    "version": 3
   },
   "file_extension": ".py",
   "mimetype": "text/x-python",
   "name": "python",
   "nbconvert_exporter": "python",
   "pygments_lexer": "ipython3",
   "version": "3.6.10"
  }
 },
 "nbformat": 4,
 "nbformat_minor": 4
}
