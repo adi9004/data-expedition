{
 "cells": [
  {
   "cell_type": "markdown",
   "metadata": {},
   "source": [
    "# Strategic Location For Establishing an Asian Restaurant In Seattle"
   ]
  },
  {
   "cell_type": "markdown",
   "metadata": {},
   "source": [
    "## The success of a restaurant depends on many factors such as brand loyalty, income of households in a particular area, neighborhood location, quality of food and demand rate. Among all these parameters, Location undoubtedly, plays a significant role in this decision to make the restaurant business profitable and competitive in the market."
   ]
  },
  {
   "cell_type": "markdown",
   "metadata": {},
   "source": [
    "### In this project we aim to identify a strategic location for establishing an asian restaurant in Seattle. The foundation of reasoning behind this is the spending power of the household and distribution of asians living in each neighborhood. "
   ]
  },
  {
   "cell_type": "markdown",
   "metadata": {},
   "source": [
    "### 1) Importing and installing the required libraries"
   ]
  },
  {
   "cell_type": "code",
   "execution_count": 1,
   "metadata": {},
   "outputs": [],
   "source": [
    "import pandas as pd\n",
    "import numpy as np\n",
    "import matplotlib.pyplot as plt\n",
    "from sklearn.cluster import KMeans\n",
    "import requests\n",
    "from pandas.io.json import json_normalize"
   ]
  },
  {
   "cell_type": "code",
   "execution_count": 2,
   "metadata": {},
   "outputs": [
    {
     "name": "stdout",
     "output_type": "stream",
     "text": [
      "Collecting package metadata (current_repodata.json): done\n",
      "Solving environment: done\n",
      "\n",
      "## Package Plan ##\n",
      "\n",
      "  environment location: /home/jupyterlab/conda/envs/python\n",
      "\n",
      "  added / updated specs:\n",
      "    - bs4\n",
      "\n",
      "\n",
      "The following packages will be downloaded:\n",
      "\n",
      "    package                    |            build\n",
      "    ---------------------------|-----------------\n",
      "    beautifulsoup4-4.9.1       |   py36h9f0ad1d_0         163 KB  conda-forge\n",
      "    bs4-4.9.1                  |                0           4 KB  conda-forge\n",
      "    ca-certificates-2020.4.5.2 |       hecda079_0         147 KB  conda-forge\n",
      "    certifi-2020.4.5.2         |   py36h9f0ad1d_0         152 KB  conda-forge\n",
      "    soupsieve-2.0.1            |   py36h9f0ad1d_0          56 KB  conda-forge\n",
      "    ------------------------------------------------------------\n",
      "                                           Total:         522 KB\n",
      "\n",
      "The following NEW packages will be INSTALLED:\n",
      "\n",
      "  beautifulsoup4     conda-forge/linux-64::beautifulsoup4-4.9.1-py36h9f0ad1d_0\n",
      "  bs4                conda-forge/noarch::bs4-4.9.1-0\n",
      "  soupsieve          conda-forge/linux-64::soupsieve-2.0.1-py36h9f0ad1d_0\n",
      "\n",
      "The following packages will be UPDATED:\n",
      "\n",
      "  ca-certificates                     2020.4.5.1-hecc5488_0 --> 2020.4.5.2-hecda079_0\n",
      "  certifi                         2020.4.5.1-py36h9f0ad1d_0 --> 2020.4.5.2-py36h9f0ad1d_0\n",
      "\n",
      "\n",
      "\n",
      "Downloading and Extracting Packages\n",
      "certifi-2020.4.5.2   | 152 KB    | ##################################### | 100% \n",
      "beautifulsoup4-4.9.1 | 163 KB    | ##################################### | 100% \n",
      "soupsieve-2.0.1      | 56 KB     | ##################################### | 100% \n",
      "bs4-4.9.1            | 4 KB      | ##################################### | 100% \n",
      "ca-certificates-2020 | 147 KB    | ##################################### | 100% \n",
      "Preparing transaction: done\n",
      "Verifying transaction: done\n",
      "Executing transaction: done\n"
     ]
    }
   ],
   "source": [
    "!conda install -c conda-forge bs4 --yes"
   ]
  },
  {
   "cell_type": "code",
   "execution_count": 3,
   "metadata": {},
   "outputs": [
    {
     "name": "stdout",
     "output_type": "stream",
     "text": [
      "Collecting package metadata (current_repodata.json): done\n",
      "Solving environment: done\n",
      "\n",
      "## Package Plan ##\n",
      "\n",
      "  environment location: /home/jupyterlab/conda/envs/python\n",
      "\n",
      "  added / updated specs:\n",
      "    - folium\n",
      "\n",
      "\n",
      "The following packages will be downloaded:\n",
      "\n",
      "    package                    |            build\n",
      "    ---------------------------|-----------------\n",
      "    branca-0.4.1               |             py_0          26 KB  conda-forge\n",
      "    brotlipy-0.7.0             |py36h8c4c3a4_1000         346 KB  conda-forge\n",
      "    chardet-3.0.4              |py36h9f0ad1d_1006         188 KB  conda-forge\n",
      "    cryptography-2.9.2         |   py36h45558ae_0         613 KB  conda-forge\n",
      "    folium-0.11.0              |             py_0          61 KB  conda-forge\n",
      "    pysocks-1.7.1              |   py36h9f0ad1d_1          27 KB  conda-forge\n",
      "    ------------------------------------------------------------\n",
      "                                           Total:         1.2 MB\n",
      "\n",
      "The following NEW packages will be INSTALLED:\n",
      "\n",
      "  branca             conda-forge/noarch::branca-0.4.1-py_0\n",
      "  brotlipy           conda-forge/linux-64::brotlipy-0.7.0-py36h8c4c3a4_1000\n",
      "  chardet            conda-forge/linux-64::chardet-3.0.4-py36h9f0ad1d_1006\n",
      "  cryptography       conda-forge/linux-64::cryptography-2.9.2-py36h45558ae_0\n",
      "  folium             conda-forge/noarch::folium-0.11.0-py_0\n",
      "  idna               conda-forge/noarch::idna-2.9-py_1\n",
      "  jinja2             conda-forge/noarch::jinja2-2.11.2-pyh9f0ad1d_0\n",
      "  markupsafe         conda-forge/linux-64::markupsafe-1.1.1-py36h8c4c3a4_1\n",
      "  pyopenssl          conda-forge/noarch::pyopenssl-19.1.0-py_1\n",
      "  pysocks            conda-forge/linux-64::pysocks-1.7.1-py36h9f0ad1d_1\n",
      "  requests           conda-forge/noarch::requests-2.23.0-pyh8c360ce_2\n",
      "  urllib3            conda-forge/noarch::urllib3-1.25.9-py_0\n",
      "\n",
      "\n",
      "\n",
      "Downloading and Extracting Packages\n",
      "chardet-3.0.4        | 188 KB    | ##################################### | 100% \n",
      "branca-0.4.1         | 26 KB     | ##################################### | 100% \n",
      "cryptography-2.9.2   | 613 KB    | ##################################### | 100% \n",
      "brotlipy-0.7.0       | 346 KB    | ##################################### | 100% \n",
      "pysocks-1.7.1        | 27 KB     | ##################################### | 100% \n",
      "folium-0.11.0        | 61 KB     | ##################################### | 100% \n",
      "Preparing transaction: done\n",
      "Verifying transaction: done\n",
      "Executing transaction: done\n",
      "Folium installed\n"
     ]
    }
   ],
   "source": [
    "!conda install -c conda-forge folium --yes\n",
    "print(\"Folium installed\")"
   ]
  },
  {
   "cell_type": "code",
   "execution_count": 4,
   "metadata": {},
   "outputs": [
    {
     "name": "stdout",
     "output_type": "stream",
     "text": [
      "Collecting package metadata (current_repodata.json): done\n",
      "Solving environment: done\n",
      "\n",
      "## Package Plan ##\n",
      "\n",
      "  environment location: /home/jupyterlab/conda/envs/python\n",
      "\n",
      "  added / updated specs:\n",
      "    - geopy\n",
      "\n",
      "\n",
      "The following packages will be downloaded:\n",
      "\n",
      "    package                    |            build\n",
      "    ---------------------------|-----------------\n",
      "    geographiclib-1.50         |             py_0          34 KB  conda-forge\n",
      "    geopy-1.22.0               |     pyh9f0ad1d_0          63 KB  conda-forge\n",
      "    ------------------------------------------------------------\n",
      "                                           Total:          97 KB\n",
      "\n",
      "The following NEW packages will be INSTALLED:\n",
      "\n",
      "  geographiclib      conda-forge/noarch::geographiclib-1.50-py_0\n",
      "  geopy              conda-forge/noarch::geopy-1.22.0-pyh9f0ad1d_0\n",
      "\n",
      "\n",
      "\n",
      "Downloading and Extracting Packages\n",
      "geopy-1.22.0         | 63 KB     | ##################################### | 100% \n",
      "geographiclib-1.50   | 34 KB     | ##################################### | 100% \n",
      "Preparing transaction: done\n",
      "Verifying transaction: done\n",
      "Executing transaction: done\n",
      "Geopy installed\n"
     ]
    }
   ],
   "source": [
    "!conda install -c conda-forge geopy --yes\n",
    "print(\"Geopy installed\")"
   ]
  },
  {
   "cell_type": "markdown",
   "metadata": {},
   "source": [
    "### 2) Data Acquisition and Cleaning"
   ]
  },
  {
   "cell_type": "markdown",
   "metadata": {},
   "source": [
    "##### The data which we will be needing for this capstone is not readily available. Hence we would be using web scraping techniques to extract data from various websites that will be used for further analysis in this project. Beautiful soup 4 is a python library which we would be using to scrape data from the web."
   ]
  },
  {
   "cell_type": "markdown",
   "metadata": {},
   "source": [
    "#### A) Extracting the Seattle Neighborhood data from wikipedia and storing it in pandas dataframe."
   ]
  },
  {
   "cell_type": "code",
   "execution_count": 5,
   "metadata": {},
   "outputs": [],
   "source": [
    "import urllib.request\n",
    "import bs4 as bs"
   ]
  },
  {
   "cell_type": "code",
   "execution_count": 6,
   "metadata": {},
   "outputs": [],
   "source": [
    "#opens the wikipedia page and passes the results to beautiful soup instance for extracting html elements and their data\n",
    "sauce = urllib.request.urlopen(\"https://en.wikipedia.org/wiki/List_of_neighborhoods_in_Seattle\").read()\n",
    "soup = bs.BeautifulSoup(sauce)\n",
    "table = soup.find(\"table\")"
   ]
  },
  {
   "cell_type": "code",
   "execution_count": 7,
   "metadata": {},
   "outputs": [],
   "source": [
    "#iterates through each table row to get the neighborhood names and their respective larger district\n",
    "table_rows = table.find_all(\"tr\")\n",
    "list_of_neighborhood = []\n",
    "for tr in table_rows:\n",
    "    td = tr.find_all(\"td\")\n",
    "    row = [i.text for i in td]\n",
    "    list_of_neighborhood.append(row)"
   ]
  },
  {
   "cell_type": "code",
   "execution_count": 8,
   "metadata": {},
   "outputs": [],
   "source": [
    "#use iloc function to get rid of the first unnecessary row\n",
    "neighborhood_df = pd.DataFrame(list_of_neighborhood)\n",
    "neighborhood_df = neighborhood_df.iloc[1:,]"
   ]
  },
  {
   "cell_type": "code",
   "execution_count": 9,
   "metadata": {},
   "outputs": [],
   "source": [
    "#drop the columns which are not required\n",
    "neighborhood_df.drop([2,3,4,5,6],axis=1,inplace=True)"
   ]
  },
  {
   "cell_type": "code",
   "execution_count": 10,
   "metadata": {},
   "outputs": [],
   "source": [
    "#assigning column names to the dataframe object\n",
    "neighborhood_df_columns = [\"NeighborhoodName\",\"LargerDistrictName\"]\n",
    "neighborhood_df.columns = neighborhood_df_columns"
   ]
  },
  {
   "cell_type": "code",
   "execution_count": 11,
   "metadata": {},
   "outputs": [],
   "source": [
    "#resets the index of the dataframe\n",
    "neighborhood_df.reset_index(drop=False,inplace=True)"
   ]
  },
  {
   "cell_type": "code",
   "execution_count": 12,
   "metadata": {},
   "outputs": [],
   "source": [
    "neighborhood_df.drop(\"index\",axis=1,inplace=True)"
   ]
  },
  {
   "cell_type": "code",
   "execution_count": 13,
   "metadata": {},
   "outputs": [],
   "source": [
    "#removes the unneccessary escape characters from the data\n",
    "neighborhood_df[\"NeighborhoodName\"] = neighborhood_df[\"NeighborhoodName\"].str.replace(\"\\n\",\"\")\n",
    "neighborhood_df[\"LargerDistrictName\"] = neighborhood_df[\"LargerDistrictName\"].str.replace(\"\\n\",\"\")"
   ]
  },
  {
   "cell_type": "code",
   "execution_count": 14,
   "metadata": {},
   "outputs": [
    {
     "data": {
      "text/html": [
       "<div>\n",
       "<style scoped>\n",
       "    .dataframe tbody tr th:only-of-type {\n",
       "        vertical-align: middle;\n",
       "    }\n",
       "\n",
       "    .dataframe tbody tr th {\n",
       "        vertical-align: top;\n",
       "    }\n",
       "\n",
       "    .dataframe thead th {\n",
       "        text-align: right;\n",
       "    }\n",
       "</style>\n",
       "<table border=\"1\" class=\"dataframe\">\n",
       "  <thead>\n",
       "    <tr style=\"text-align: right;\">\n",
       "      <th></th>\n",
       "      <th>NeighborhoodName</th>\n",
       "      <th>LargerDistrictName</th>\n",
       "    </tr>\n",
       "  </thead>\n",
       "  <tbody>\n",
       "    <tr>\n",
       "      <th>0</th>\n",
       "      <td>North Seattle</td>\n",
       "      <td>Seattle</td>\n",
       "    </tr>\n",
       "    <tr>\n",
       "      <th>1</th>\n",
       "      <td>Broadview</td>\n",
       "      <td>North Seattle[42]</td>\n",
       "    </tr>\n",
       "    <tr>\n",
       "      <th>2</th>\n",
       "      <td>Bitter Lake</td>\n",
       "      <td>North Seattle[42]</td>\n",
       "    </tr>\n",
       "    <tr>\n",
       "      <th>3</th>\n",
       "      <td>North Beach / Blue Ridge</td>\n",
       "      <td>North Seattle[42]</td>\n",
       "    </tr>\n",
       "    <tr>\n",
       "      <th>4</th>\n",
       "      <td>Crown Hill</td>\n",
       "      <td>North Seattle[42]</td>\n",
       "    </tr>\n",
       "  </tbody>\n",
       "</table>\n",
       "</div>"
      ],
      "text/plain": [
       "           NeighborhoodName LargerDistrictName\n",
       "0             North Seattle            Seattle\n",
       "1                 Broadview  North Seattle[42]\n",
       "2               Bitter Lake  North Seattle[42]\n",
       "3  North Beach / Blue Ridge  North Seattle[42]\n",
       "4                Crown Hill  North Seattle[42]"
      ]
     },
     "execution_count": 14,
     "metadata": {},
     "output_type": "execute_result"
    }
   ],
   "source": [
    "#display the data extracted so far\n",
    "neighborhood_df.head()"
   ]
  },
  {
   "cell_type": "markdown",
   "metadata": {},
   "source": [
    "#### B) Geocoding the neighborhoods with Nominatim API to get their latitudes and longitudes"
   ]
  },
  {
   "cell_type": "code",
   "execution_count": 15,
   "metadata": {},
   "outputs": [],
   "source": [
    "from geopy.geocoders import Nominatim"
   ]
  },
  {
   "cell_type": "code",
   "execution_count": 16,
   "metadata": {},
   "outputs": [],
   "source": [
    "#function to validate neighborhood names to remove backslashes\n",
    "def validateNeighborhoodName(name):\n",
    "    values = name.split(\"/\")\n",
    "    return values[0]"
   ]
  },
  {
   "cell_type": "code",
   "execution_count": 17,
   "metadata": {},
   "outputs": [],
   "source": [
    "neighborhood_df[\"NeighborhoodName\"] = neighborhood_df[\"NeighborhoodName\"].apply(validateNeighborhoodName)"
   ]
  },
  {
   "cell_type": "code",
   "execution_count": 18,
   "metadata": {},
   "outputs": [],
   "source": [
    "#function to validate neighborhood names to remove closed brackets\n",
    "def validateNeighborhoodNameForClosedBrackets(name):\n",
    "    values = name.split(\"(\")\n",
    "    return values[0]"
   ]
  },
  {
   "cell_type": "code",
   "execution_count": 19,
   "metadata": {},
   "outputs": [],
   "source": [
    "neighborhood_df[\"NeighborhoodName\"] = neighborhood_df[\"NeighborhoodName\"].apply(validateNeighborhoodNameForClosedBrackets)"
   ]
  },
  {
   "cell_type": "code",
   "execution_count": 20,
   "metadata": {},
   "outputs": [],
   "source": [
    "#drop a specific row for which data is not present\n",
    "neighborhood_df.drop(53,axis=0,inplace=True)"
   ]
  },
  {
   "cell_type": "code",
   "execution_count": 21,
   "metadata": {},
   "outputs": [],
   "source": [
    "#reset index\n",
    "neighborhood_df.reset_index(drop=False,inplace=True)"
   ]
  },
  {
   "cell_type": "code",
   "execution_count": 22,
   "metadata": {},
   "outputs": [],
   "source": [
    "#geocode the data to find latitude and longitude\n",
    "lat_list = []\n",
    "lng_list = []\n",
    "for i in range(len(neighborhood_df)):\n",
    "    address = \"{}, Seattle, Washington, US\".format(neighborhood_df[\"NeighborhoodName\"][i])\n",
    "    geocoder = Nominatim(user_agent=\"ny_explorer\",scheme=\"http\")\n",
    "    location = geocoder.geocode(address)\n",
    "    lat_list.append(location.latitude if location != None else \"Latitude Unavailable\")\n",
    "    lng_list.append(location.longitude if location != None else \"Longitude Unavailable\")"
   ]
  },
  {
   "cell_type": "code",
   "execution_count": 23,
   "metadata": {},
   "outputs": [
    {
     "data": {
      "text/plain": [
       "126"
      ]
     },
     "execution_count": 23,
     "metadata": {},
     "output_type": "execute_result"
    }
   ],
   "source": [
    "#to get the number of neighborhoods geocoded by Nominatim API.\n",
    "no_of_records = len(lat_list)\n",
    "no_of_records"
   ]
  },
  {
   "cell_type": "code",
   "execution_count": 24,
   "metadata": {},
   "outputs": [
    {
     "name": "stderr",
     "output_type": "stream",
     "text": [
      "/home/jupyterlab/conda/envs/python/lib/python3.6/site-packages/ipykernel_launcher.py:3: SettingWithCopyWarning: \n",
      "A value is trying to be set on a copy of a slice from a DataFrame.\n",
      "Try using .loc[row_indexer,col_indexer] = value instead\n",
      "\n",
      "See the caveats in the documentation: https://pandas.pydata.org/pandas-docs/stable/user_guide/indexing.html#returning-a-view-versus-a-copy\n",
      "  This is separate from the ipykernel package so we can avoid doing imports until\n",
      "/home/jupyterlab/conda/envs/python/lib/python3.6/site-packages/ipykernel_launcher.py:4: SettingWithCopyWarning: \n",
      "A value is trying to be set on a copy of a slice from a DataFrame.\n",
      "Try using .loc[row_indexer,col_indexer] = value instead\n",
      "\n",
      "See the caveats in the documentation: https://pandas.pydata.org/pandas-docs/stable/user_guide/indexing.html#returning-a-view-versus-a-copy\n",
      "  after removing the cwd from sys.path.\n",
      "/home/jupyterlab/conda/envs/python/lib/python3.6/site-packages/pandas/core/frame.py:3997: SettingWithCopyWarning: \n",
      "A value is trying to be set on a copy of a slice from a DataFrame\n",
      "\n",
      "See the caveats in the documentation: https://pandas.pydata.org/pandas-docs/stable/user_guide/indexing.html#returning-a-view-versus-a-copy\n",
      "  errors=errors,\n"
     ]
    }
   ],
   "source": [
    "#creates a new dataframe with latitude, longitude and drops the index column\n",
    "neighborhood = neighborhood_df.head(no_of_records)\n",
    "neighborhood[\"Latitude\"] = lat_list\n",
    "neighborhood[\"Longitude\"] = lng_list\n",
    "neighborhood.drop(\"index\",axis=1,inplace=True)"
   ]
  },
  {
   "cell_type": "code",
   "execution_count": 25,
   "metadata": {},
   "outputs": [
    {
     "data": {
      "text/plain": [
       "126"
      ]
     },
     "execution_count": 25,
     "metadata": {},
     "output_type": "execute_result"
    }
   ],
   "source": [
    "len(neighborhood)"
   ]
  },
  {
   "cell_type": "markdown",
   "metadata": {},
   "source": [
    "#### C) Getting each neighborhood income and number of asians in each neighborhood by web scraping. "
   ]
  },
  {
   "cell_type": "markdown",
   "metadata": {},
   "source": [
    "##### The below function iterates through each neighborhood and uses web scraping techniques to extract the population data, median household income and number of asians in each neighborhood from www.niche.com. We use the urllib.request and urllib.urlopen methods to connect to this website by passing a default user-agent in the request header. We then decode the page using the standard utf-8 style. Then this scraped source code is then passed to the Beautiful Soup 4 instance to extract the information from HTMl tags."
   ]
  },
  {
   "cell_type": "code",
   "execution_count": 26,
   "metadata": {},
   "outputs": [],
   "source": [
    "def getIncomePopulationAndAsiansByNeighborhood(neighborhoodNames):\n",
    "    income_list = []\n",
    "    population_list = []\n",
    "    percent_asians = []\n",
    "    for name in neighborhoodNames:\n",
    "        dataLoaded = True\n",
    "        name = name.lower()\n",
    "        if(name.find(\" \") != -1):\n",
    "            name = name.replace(\" \",\"-\")\n",
    "        url = \"https://www.niche.com/places-to-live/n/\"+str(name)+\"-seattle-wa/residents\"\n",
    "        print(url)\n",
    "        req = Request(url, headers={'User-Agent': 'Mozilla/5.0 (Windows NT 6.3; Win64; x64) AppleWebKit/537.36 (KHTML, like Gecko) Chrome/83.0.4103.61 Safari/537.36'})\n",
    "        try:\n",
    "            web_byte = urlopen(req).read()\n",
    "        except:\n",
    "            print(\"Data not available\")\n",
    "            dataLoaded = False\n",
    "        if(dataLoaded == True):\n",
    "            webpage = web_byte.decode('utf-8')\n",
    "            soup = bs.BeautifulSoup(webpage)\n",
    "        \n",
    "            #getting the total population\n",
    "            residents_sec = soup.find(\"section\", attrs={'id':'about-residents'})\n",
    "            total_population = residents_sec.find(\"div\", attrs={'class':'scalar__value'}).find(\"span\")\n",
    "            population_list.append(total_population.text.replace(\",\",\"\"))\n",
    "        \n",
    "            #getting the median household income of each neighborhood\n",
    "            income_sec = soup.find(\"section\", attrs={'id':'income'})\n",
    "            median_household_income = income_sec.find(\"div\", attrs={'class':'scalar__value'}).find(\"span\")\n",
    "            income_list.append(median_household_income.text.replace(\",\",\"\").replace(\"$\",\"\"))\n",
    "        \n",
    "            #getting the number of asians\n",
    "            demographics_sec = soup.find(\"section\", attrs={'id':'demographics'})\n",
    "            racial_values = demographics_sec.findChildren(\"ul\", attrs={'class':'breakdown-facts'})[1]\n",
    "            list_values = racial_values.find_all(\"li\")\n",
    "            temp = []\n",
    "            for li in list_values:\n",
    "                temp.append([i.text for i in li])\n",
    "            percent_asians.append(temp[2][2].replace(\"%\",\"\"))\n",
    "        else:\n",
    "            population_list.append(\"Not Available\")\n",
    "            income_list.append(\"Not Available\")\n",
    "            percent_asians.append(\"Not Available\")\n",
    "        \n",
    "    return population_list,income_list,percent_asians"
   ]
  },
  {
   "cell_type": "code",
   "execution_count": 27,
   "metadata": {},
   "outputs": [],
   "source": [
    "# Calling the above function passing the NeighborhoodName pandas Series object\n",
    "#population_list,income_list,percent_asians = getIncomePopulationAndAsiansByNeighborhood(neighborhood[\"NeighborhoodName\"])"
   ]
  },
  {
   "cell_type": "markdown",
   "metadata": {},
   "source": [
    "##### Since Web scraping techinques entails some shortcommings such as the website might change the source code dynamically and generalizing the scraper across multiple websites is challenging. Also most of the websites implement stringent security standards to prevent the page from being accessible from scripts. Furthermore the urllib.urlopen throws a 403 forbidden error or a timed out exception in case the url is not accessible from the above python script.\n",
    "\n",
    "##### As a result, to reduce dependency on webscraping, the above code has been run and the resulting values had been saved to a csv file. For furthur analysis in the project we would be importing the csv file using pandas and continuing with next steps."
   ]
  },
  {
   "cell_type": "code",
   "execution_count": 28,
   "metadata": {},
   "outputs": [],
   "source": [
    "neighborhood = pd.read_csv(\"Neighborhood.csv\")"
   ]
  },
  {
   "cell_type": "code",
   "execution_count": 29,
   "metadata": {},
   "outputs": [
    {
     "data": {
      "text/html": [
       "<div>\n",
       "<style scoped>\n",
       "    .dataframe tbody tr th:only-of-type {\n",
       "        vertical-align: middle;\n",
       "    }\n",
       "\n",
       "    .dataframe tbody tr th {\n",
       "        vertical-align: top;\n",
       "    }\n",
       "\n",
       "    .dataframe thead th {\n",
       "        text-align: right;\n",
       "    }\n",
       "</style>\n",
       "<table border=\"1\" class=\"dataframe\">\n",
       "  <thead>\n",
       "    <tr style=\"text-align: right;\">\n",
       "      <th></th>\n",
       "      <th>Unnamed: 0</th>\n",
       "      <th>NeighborhoodName</th>\n",
       "      <th>LargerDistrictName</th>\n",
       "      <th>Latitude</th>\n",
       "      <th>Longitude</th>\n",
       "      <th>Population</th>\n",
       "      <th>HouseholdIncome</th>\n",
       "      <th>AsiansPercent</th>\n",
       "    </tr>\n",
       "  </thead>\n",
       "  <tbody>\n",
       "    <tr>\n",
       "      <th>0</th>\n",
       "      <td>0</td>\n",
       "      <td>North Seattle</td>\n",
       "      <td>Seattle</td>\n",
       "      <td>47.6607729</td>\n",
       "      <td>-122.2914971</td>\n",
       "      <td>NaN</td>\n",
       "      <td>NaN</td>\n",
       "      <td>NaN</td>\n",
       "    </tr>\n",
       "    <tr>\n",
       "      <th>1</th>\n",
       "      <td>1</td>\n",
       "      <td>Broadview</td>\n",
       "      <td>North Seattle[42]</td>\n",
       "      <td>47.7223199</td>\n",
       "      <td>-122.3604067</td>\n",
       "      <td>8025.0</td>\n",
       "      <td>116281.0</td>\n",
       "      <td>8.0</td>\n",
       "    </tr>\n",
       "    <tr>\n",
       "      <th>2</th>\n",
       "      <td>2</td>\n",
       "      <td>Bitter Lake</td>\n",
       "      <td>North Seattle[42]</td>\n",
       "      <td>47.7262358</td>\n",
       "      <td>-122.3487639</td>\n",
       "      <td>8003.0</td>\n",
       "      <td>65626.0</td>\n",
       "      <td>12.0</td>\n",
       "    </tr>\n",
       "    <tr>\n",
       "      <th>3</th>\n",
       "      <td>3</td>\n",
       "      <td>North Beach</td>\n",
       "      <td>North Seattle[42]</td>\n",
       "      <td>47.6962103</td>\n",
       "      <td>-122.392362</td>\n",
       "      <td>3362.0</td>\n",
       "      <td>25000.0</td>\n",
       "      <td>8.0</td>\n",
       "    </tr>\n",
       "    <tr>\n",
       "      <th>4</th>\n",
       "      <td>4</td>\n",
       "      <td>Crown Hill</td>\n",
       "      <td>North Seattle[42]</td>\n",
       "      <td>47.6947154</td>\n",
       "      <td>-122.3714586</td>\n",
       "      <td>4442.0</td>\n",
       "      <td>118587.0</td>\n",
       "      <td>5.0</td>\n",
       "    </tr>\n",
       "  </tbody>\n",
       "</table>\n",
       "</div>"
      ],
      "text/plain": [
       "   Unnamed: 0 NeighborhoodName LargerDistrictName    Latitude     Longitude  \\\n",
       "0           0    North Seattle            Seattle  47.6607729  -122.2914971   \n",
       "1           1        Broadview  North Seattle[42]  47.7223199  -122.3604067   \n",
       "2           2      Bitter Lake  North Seattle[42]  47.7262358  -122.3487639   \n",
       "3           3     North Beach   North Seattle[42]  47.6962103   -122.392362   \n",
       "4           4       Crown Hill  North Seattle[42]  47.6947154  -122.3714586   \n",
       "\n",
       "   Population  HouseholdIncome  AsiansPercent  \n",
       "0         NaN              NaN            NaN  \n",
       "1      8025.0         116281.0            8.0  \n",
       "2      8003.0          65626.0           12.0  \n",
       "3      3362.0          25000.0            8.0  \n",
       "4      4442.0         118587.0            5.0  "
      ]
     },
     "execution_count": 29,
     "metadata": {},
     "output_type": "execute_result"
    }
   ],
   "source": [
    "#Checking the dataset using the pandas head method. By default only 5 rows are displayed. We can pass n as a parameter\n",
    "# denoting the number of rows to display.\n",
    "neighborhood.head()"
   ]
  },
  {
   "cell_type": "code",
   "execution_count": 30,
   "metadata": {},
   "outputs": [
    {
     "data": {
      "text/html": [
       "<div>\n",
       "<style scoped>\n",
       "    .dataframe tbody tr th:only-of-type {\n",
       "        vertical-align: middle;\n",
       "    }\n",
       "\n",
       "    .dataframe tbody tr th {\n",
       "        vertical-align: top;\n",
       "    }\n",
       "\n",
       "    .dataframe thead th {\n",
       "        text-align: right;\n",
       "    }\n",
       "</style>\n",
       "<table border=\"1\" class=\"dataframe\">\n",
       "  <thead>\n",
       "    <tr style=\"text-align: right;\">\n",
       "      <th></th>\n",
       "      <th>Unnamed: 0</th>\n",
       "      <th>Population</th>\n",
       "      <th>HouseholdIncome</th>\n",
       "      <th>AsiansPercent</th>\n",
       "    </tr>\n",
       "  </thead>\n",
       "  <tbody>\n",
       "    <tr>\n",
       "      <th>count</th>\n",
       "      <td>126.000000</td>\n",
       "      <td>118.000000</td>\n",
       "      <td>118.000000</td>\n",
       "      <td>118.000000</td>\n",
       "    </tr>\n",
       "    <tr>\n",
       "      <th>mean</th>\n",
       "      <td>62.500000</td>\n",
       "      <td>9032.652542</td>\n",
       "      <td>95167.245763</td>\n",
       "      <td>10.796610</td>\n",
       "    </tr>\n",
       "    <tr>\n",
       "      <th>std</th>\n",
       "      <td>36.517119</td>\n",
       "      <td>9462.762461</td>\n",
       "      <td>38838.937100</td>\n",
       "      <td>4.556501</td>\n",
       "    </tr>\n",
       "    <tr>\n",
       "      <th>min</th>\n",
       "      <td>0.000000</td>\n",
       "      <td>379.000000</td>\n",
       "      <td>2121.000000</td>\n",
       "      <td>2.000000</td>\n",
       "    </tr>\n",
       "    <tr>\n",
       "      <th>25%</th>\n",
       "      <td>31.250000</td>\n",
       "      <td>4463.000000</td>\n",
       "      <td>71257.250000</td>\n",
       "      <td>8.000000</td>\n",
       "    </tr>\n",
       "    <tr>\n",
       "      <th>50%</th>\n",
       "      <td>62.500000</td>\n",
       "      <td>7957.000000</td>\n",
       "      <td>102103.500000</td>\n",
       "      <td>10.000000</td>\n",
       "    </tr>\n",
       "    <tr>\n",
       "      <th>75%</th>\n",
       "      <td>93.750000</td>\n",
       "      <td>9473.250000</td>\n",
       "      <td>115798.500000</td>\n",
       "      <td>13.000000</td>\n",
       "    </tr>\n",
       "    <tr>\n",
       "      <th>max</th>\n",
       "      <td>125.000000</td>\n",
       "      <td>78545.000000</td>\n",
       "      <td>198969.000000</td>\n",
       "      <td>29.000000</td>\n",
       "    </tr>\n",
       "  </tbody>\n",
       "</table>\n",
       "</div>"
      ],
      "text/plain": [
       "       Unnamed: 0    Population  HouseholdIncome  AsiansPercent\n",
       "count  126.000000    118.000000       118.000000     118.000000\n",
       "mean    62.500000   9032.652542     95167.245763      10.796610\n",
       "std     36.517119   9462.762461     38838.937100       4.556501\n",
       "min      0.000000    379.000000      2121.000000       2.000000\n",
       "25%     31.250000   4463.000000     71257.250000       8.000000\n",
       "50%     62.500000   7957.000000    102103.500000      10.000000\n",
       "75%     93.750000   9473.250000    115798.500000      13.000000\n",
       "max    125.000000  78545.000000    198969.000000      29.000000"
      ]
     },
     "execution_count": 30,
     "metadata": {},
     "output_type": "execute_result"
    }
   ],
   "source": [
    "# the describe method gives the descriptive statistics for each of the numerical columns.\n",
    "neighborhood.describe()"
   ]
  },
  {
   "cell_type": "code",
   "execution_count": 31,
   "metadata": {},
   "outputs": [
    {
     "name": "stdout",
     "output_type": "stream",
     "text": [
      "<class 'pandas.core.frame.DataFrame'>\n",
      "RangeIndex: 126 entries, 0 to 125\n",
      "Data columns (total 8 columns):\n",
      " #   Column              Non-Null Count  Dtype  \n",
      "---  ------              --------------  -----  \n",
      " 0   Unnamed: 0          126 non-null    int64  \n",
      " 1   NeighborhoodName    126 non-null    object \n",
      " 2   LargerDistrictName  126 non-null    object \n",
      " 3   Latitude            126 non-null    object \n",
      " 4   Longitude           126 non-null    object \n",
      " 5   Population          118 non-null    float64\n",
      " 6   HouseholdIncome     118 non-null    float64\n",
      " 7   AsiansPercent       118 non-null    float64\n",
      "dtypes: float64(3), int64(1), object(4)\n",
      "memory usage: 8.0+ KB\n"
     ]
    }
   ],
   "source": [
    "# The info function displays the dtype used for each fetaure in our dataset.\n",
    "neighborhood.info()"
   ]
  },
  {
   "cell_type": "markdown",
   "metadata": {},
   "source": [
    "#### D) Handling the missing values"
   ]
  },
  {
   "cell_type": "markdown",
   "metadata": {},
   "source": [
    "##### The dataset contains missing values which can act as an impedement for further analysis if not handled ore removed completely. There are many ways of dealing with missing values in our analysis. Firstly, we can drop the rows containing missing values, or we can replace the missing values with the the representative values (the average or median values for each columns)\n",
    "\n",
    "##### In this project we will be replacing the missing values with the average/median value for that particular column."
   ]
  },
  {
   "cell_type": "code",
   "execution_count": 32,
   "metadata": {},
   "outputs": [],
   "source": [
    "#replacing with mean value\n",
    "neighborhood[\"Population\"] = neighborhood[\"Population\"].replace(np.nan, neighborhood[\"Population\"].mean())"
   ]
  },
  {
   "cell_type": "code",
   "execution_count": 33,
   "metadata": {},
   "outputs": [],
   "source": [
    "#replacing with mean value\n",
    "neighborhood[\"HouseholdIncome\"] = neighborhood[\"HouseholdIncome\"].replace(np.nan, neighborhood[\"HouseholdIncome\"].mean())"
   ]
  },
  {
   "cell_type": "code",
   "execution_count": 34,
   "metadata": {},
   "outputs": [],
   "source": [
    "#replacing with mean value\n",
    "neighborhood[\"AsiansPercent\"] = neighborhood[\"AsiansPercent\"].replace(np.nan, neighborhood[\"AsiansPercent\"].median())"
   ]
  },
  {
   "cell_type": "code",
   "execution_count": 35,
   "metadata": {},
   "outputs": [
    {
     "data": {
      "text/html": [
       "<div>\n",
       "<style scoped>\n",
       "    .dataframe tbody tr th:only-of-type {\n",
       "        vertical-align: middle;\n",
       "    }\n",
       "\n",
       "    .dataframe tbody tr th {\n",
       "        vertical-align: top;\n",
       "    }\n",
       "\n",
       "    .dataframe thead th {\n",
       "        text-align: right;\n",
       "    }\n",
       "</style>\n",
       "<table border=\"1\" class=\"dataframe\">\n",
       "  <thead>\n",
       "    <tr style=\"text-align: right;\">\n",
       "      <th></th>\n",
       "      <th>Unnamed: 0</th>\n",
       "      <th>NeighborhoodName</th>\n",
       "      <th>LargerDistrictName</th>\n",
       "      <th>Latitude</th>\n",
       "      <th>Longitude</th>\n",
       "      <th>Population</th>\n",
       "      <th>HouseholdIncome</th>\n",
       "      <th>AsiansPercent</th>\n",
       "    </tr>\n",
       "  </thead>\n",
       "  <tbody>\n",
       "    <tr>\n",
       "      <th>0</th>\n",
       "      <td>0</td>\n",
       "      <td>North Seattle</td>\n",
       "      <td>Seattle</td>\n",
       "      <td>47.6607729</td>\n",
       "      <td>-122.2914971</td>\n",
       "      <td>9032.652542</td>\n",
       "      <td>95167.245763</td>\n",
       "      <td>10.0</td>\n",
       "    </tr>\n",
       "    <tr>\n",
       "      <th>1</th>\n",
       "      <td>1</td>\n",
       "      <td>Broadview</td>\n",
       "      <td>North Seattle[42]</td>\n",
       "      <td>47.7223199</td>\n",
       "      <td>-122.3604067</td>\n",
       "      <td>8025.000000</td>\n",
       "      <td>116281.000000</td>\n",
       "      <td>8.0</td>\n",
       "    </tr>\n",
       "    <tr>\n",
       "      <th>2</th>\n",
       "      <td>2</td>\n",
       "      <td>Bitter Lake</td>\n",
       "      <td>North Seattle[42]</td>\n",
       "      <td>47.7262358</td>\n",
       "      <td>-122.3487639</td>\n",
       "      <td>8003.000000</td>\n",
       "      <td>65626.000000</td>\n",
       "      <td>12.0</td>\n",
       "    </tr>\n",
       "    <tr>\n",
       "      <th>3</th>\n",
       "      <td>3</td>\n",
       "      <td>North Beach</td>\n",
       "      <td>North Seattle[42]</td>\n",
       "      <td>47.6962103</td>\n",
       "      <td>-122.392362</td>\n",
       "      <td>3362.000000</td>\n",
       "      <td>25000.000000</td>\n",
       "      <td>8.0</td>\n",
       "    </tr>\n",
       "    <tr>\n",
       "      <th>4</th>\n",
       "      <td>4</td>\n",
       "      <td>Crown Hill</td>\n",
       "      <td>North Seattle[42]</td>\n",
       "      <td>47.6947154</td>\n",
       "      <td>-122.3714586</td>\n",
       "      <td>4442.000000</td>\n",
       "      <td>118587.000000</td>\n",
       "      <td>5.0</td>\n",
       "    </tr>\n",
       "  </tbody>\n",
       "</table>\n",
       "</div>"
      ],
      "text/plain": [
       "   Unnamed: 0 NeighborhoodName LargerDistrictName    Latitude     Longitude  \\\n",
       "0           0    North Seattle            Seattle  47.6607729  -122.2914971   \n",
       "1           1        Broadview  North Seattle[42]  47.7223199  -122.3604067   \n",
       "2           2      Bitter Lake  North Seattle[42]  47.7262358  -122.3487639   \n",
       "3           3     North Beach   North Seattle[42]  47.6962103   -122.392362   \n",
       "4           4       Crown Hill  North Seattle[42]  47.6947154  -122.3714586   \n",
       "\n",
       "    Population  HouseholdIncome  AsiansPercent  \n",
       "0  9032.652542     95167.245763           10.0  \n",
       "1  8025.000000    116281.000000            8.0  \n",
       "2  8003.000000     65626.000000           12.0  \n",
       "3  3362.000000     25000.000000            8.0  \n",
       "4  4442.000000    118587.000000            5.0  "
      ]
     },
     "execution_count": 35,
     "metadata": {},
     "output_type": "execute_result"
    }
   ],
   "source": [
    "neighborhood.head()"
   ]
  },
  {
   "cell_type": "code",
   "execution_count": 36,
   "metadata": {},
   "outputs": [],
   "source": [
    "# this denotes the end of data acquisition and cleaning phase"
   ]
  },
  {
   "cell_type": "markdown",
   "metadata": {},
   "source": [
    "### 3) Exploratory Data Analysis"
   ]
  },
  {
   "cell_type": "markdown",
   "metadata": {},
   "source": [
    "##### Exploratory data analysis is the preliminary step in data analysis. It is used to summarize the main characteristics of data, gain better understanding of data set and to unleash the various relationships in the underlying data. It can also be used to determine features that have a significant impact on the machine learning algorithm in which the predictive model will be deployed."
   ]
  },
  {
   "cell_type": "markdown",
   "metadata": {},
   "source": [
    "#### A) Visualizing the Seattle Neighborhoods on a Folium Leaflet map."
   ]
  },
  {
   "cell_type": "code",
   "execution_count": 37,
   "metadata": {},
   "outputs": [
    {
     "data": {
      "text/plain": [
       "'The location co-ordinates of Seattle are 47.6038321 and -122.3300624'"
      ]
     },
     "execution_count": 37,
     "metadata": {},
     "output_type": "execute_result"
    }
   ],
   "source": [
    "#Using geocoding to get seattles location coordinates.\n",
    "address = \"Seattle, Washington, US\"\n",
    "geocoder = Nominatim(user_agent=\"ny_explorer\",scheme=\"http\")\n",
    "location = geocoder.geocode(address)\n",
    "seattle_latitude = location.latitude\n",
    "seattle_longitude = location.longitude\n",
    "\"The location co-ordinates of Seattle are {} and {}\".format(seattle_latitude,seattle_longitude)"
   ]
  },
  {
   "cell_type": "code",
   "execution_count": 38,
   "metadata": {},
   "outputs": [],
   "source": [
    "import folium"
   ]
  },
  {
   "cell_type": "code",
   "execution_count": 39,
   "metadata": {},
   "outputs": [
    {
     "data": {
      "text/html": [
       "<div style=\"width:100%;\"><div style=\"position:relative;width:100%;height:0;padding-bottom:60%;\"><span style=\"color:#565656\">Make this Notebook Trusted to load map: File -> Trust Notebook</span><iframe src=\"about:blank\" style=\"position:absolute;width:100%;height:100%;left:0;top:0;border:none !important;\" data-html=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 onload=\"this.contentDocument.open();this.contentDocument.write(atob(this.getAttribute('data-html')));this.contentDocument.close();\" allowfullscreen webkitallowfullscreen mozallowfullscreen></iframe></div></div>"
      ],
      "text/plain": [
       "<folium.folium.Map at 0x7f62b2cfdb38>"
      ]
     },
     "execution_count": 39,
     "metadata": {},
     "output_type": "execute_result"
    }
   ],
   "source": [
    "seattle_map = folium.Map(location=[seattle_latitude,seattle_longitude],zoom_start=12)\n",
    "seattle_map"
   ]
  },
  {
   "cell_type": "code",
   "execution_count": 40,
   "metadata": {},
   "outputs": [
    {
     "data": {
      "text/html": [
       "<div style=\"width:100%;\"><div style=\"position:relative;width:100%;height:0;padding-bottom:60%;\"><span style=\"color:#565656\">Make this Notebook Trusted to load map: File -> Trust Notebook</span><iframe src=\"about:blank\" style=\"position:absolute;width:100%;height:100%;left:0;top:0;border:none !important;\" data-html=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 onload=\"this.contentDocument.open();this.contentDocument.write(atob(this.getAttribute('data-html')));this.contentDocument.close();\" allowfullscreen webkitallowfullscreen mozallowfullscreen></iframe></div></div>"
      ],
      "text/plain": [
       "<folium.folium.Map at 0x7f62b2cfdb38>"
      ]
     },
     "execution_count": 40,
     "metadata": {},
     "output_type": "execute_result"
    }
   ],
   "source": [
    "for lat,lng,name, category in zip(neighborhood[\"Latitude\"],neighborhood[\"Longitude\"],  \\\n",
    "                                  neighborhood[\"NeighborhoodName\"],neighborhood[\"LargerDistrictName\"]):\n",
    "    if(lat != \"Latitude Unavailable\" and lng != \"Longitude Unavailable\"):\n",
    "        label = folium.Popup(str(name)+\", \"+str(category))\n",
    "        folium.CircleMarker(\n",
    "        location = [lat,lng],\n",
    "        popup =label,\n",
    "        radius=5,\n",
    "        fill = True,\n",
    "        fill_color = \"red\",\n",
    "        fill_opacity = 0.7\n",
    "        ).add_to(seattle_map)\n",
    "    \n",
    "#Display the seattle map\n",
    "seattle_map\n",
    "    "
   ]
  },
  {
   "cell_type": "markdown",
   "metadata": {},
   "source": [
    "#### B) Visualizing using Bar graphs"
   ]
  },
  {
   "cell_type": "code",
   "execution_count": 41,
   "metadata": {},
   "outputs": [],
   "source": [
    "import matplotlib.pyplot as plt"
   ]
  },
  {
   "cell_type": "code",
   "execution_count": 42,
   "metadata": {},
   "outputs": [
    {
     "data": {
      "image/png": "[encoded data removed]",
      "text/plain": [
       "<Figure size 936x432 with 1 Axes>"
      ]
     },
     "metadata": {
      "needs_background": "light"
     },
     "output_type": "display_data"
    }
   ],
   "source": [
    "#the below code slices the original dataframe, sorts it in descending order to draw a bar graph to show the\n",
    "#top 10 populous neighborhoods in seattle.\n",
    "df_population = neighborhood.loc[:,[\"NeighborhoodName\",\"Population\"]]\n",
    "df_population = df_population.sort_values(by=\"Population\",ascending=False)\n",
    "df_population = df_population.head(10)\n",
    "index = np.arange(len(df_population[\"NeighborhoodName\"]))\n",
    "plt.figure(figsize=(13,6))\n",
    "plt.bar(index,df_population[\"Population\"],color=\"green\")\n",
    "plt.xticks(index,df_population[\"NeighborhoodName\"],rotation=90)\n",
    "plt.xlabel(\"Neighborhood Names\",fontsize=16)\n",
    "plt.ylabel(\"Population\",fontsize=16)\n",
    "plt.title(\"Neighborhoods with Top 10 population in Seattle\")\n",
    "plt.show()"
   ]
  },
  {
   "cell_type": "code",
   "execution_count": 43,
   "metadata": {},
   "outputs": [
    {
     "data": {
      "image/png": "[encoded data removed]",
      "text/plain": [
       "<Figure size 936x432 with 1 Axes>"
      ]
     },
     "metadata": {
      "needs_background": "light"
     },
     "output_type": "display_data"
    }
   ],
   "source": [
    "#the below code slices the original dataframe, sorts it in descending order of their incomes to draw a bar graph to show the\n",
    "#top 10 neighborhoods in seattle.\n",
    "df_income = neighborhood.loc[:,[\"NeighborhoodName\",\"HouseholdIncome\"]]\n",
    "df_income = df_income.sort_values(by=\"HouseholdIncome\",ascending=False)\n",
    "df_income = df_income.head(10)\n",
    "index = np.arange(len(df_income[\"NeighborhoodName\"]))\n",
    "plt.figure(figsize=(13,6))\n",
    "plt.bar(index,df_income[\"HouseholdIncome\"],color=\"orange\")\n",
    "plt.xticks(index,df_income[\"NeighborhoodName\"],rotation=90)\n",
    "plt.xlabel(\"Neighborhood Names\",fontsize=16)\n",
    "plt.ylabel(\"Household Income\",fontsize=16)\n",
    "plt.title(\"Neighborhoods with Top 10 household income in Seattle\")\n",
    "plt.show()"
   ]
  },
  {
   "cell_type": "markdown",
   "metadata": {},
   "source": [
    "### 4) Using the Foursquare API to find number of Asian Restaurants"
   ]
  },
  {
   "cell_type": "code",
   "execution_count": 44,
   "metadata": {},
   "outputs": [
    {
     "name": "stdout",
     "output_type": "stream",
     "text": [
      "Your credentails:\n",
      "CLIENT_ID: QVWGG5LGOZVOBV5YZBX2ZKR5ACBGHVIM5OVHJKAHGLPEPTV1\n",
      "CLIENT_SECRET:3U14W2WYWO0T3D1NETWMPOC3CPTBHZJRLFS14BM1JWP5XW4Y\n"
     ]
    }
   ],
   "source": [
    "# defining the foursquare api keys\n",
    "CLIENT_ID = 'QVWGG5LGOZVOBV5YZBX2ZKR5ACBGHVIM5OVHJKAHGLPEPTV1' # your Foursquare ID\n",
    "CLIENT_SECRET = '3U14W2WYWO0T3D1NETWMPOC3CPTBHZJRLFS14BM1JWP5XW4Y'\n",
    "VERSION = '20180605' # Foursquare API version\n",
    "RADIUS = 500\n",
    "LIMIT = 100\n",
    "print('Your credentails:')\n",
    "print('CLIENT_ID: ' + CLIENT_ID)\n",
    "print('CLIENT_SECRET:' + CLIENT_SECRET)"
   ]
  },
  {
   "cell_type": "markdown",
   "metadata": {},
   "source": [
    "##### We will be using the FoursquareAPI to find the number of asian restaurants in each neighborhood. The Foursquare API  gives the /venues/explore endpoint to fetch such venues. The inputs to this API are the client id, client secret, version and categoryId. There are specific values for categoryId for each type of category we wish to explore. A detailed list of such categories can be found on the Foursquare Venue categories page.\n",
    "\n",
    "##### For the purpose of theis project we would be using categoryId = 4bf58dd8d48988d142941735 that represents Asian Restaurants"
   ]
  },
  {
   "cell_type": "code",
   "execution_count": 45,
   "metadata": {},
   "outputs": [],
   "source": [
    "CATEGORY_ID = \"4bf58dd8d48988d142941735\""
   ]
  },
  {
   "cell_type": "markdown",
   "metadata": {},
   "source": [
    "##### The below function loops through each neighborhood and uses the FOURSQUARE API to determine the number of asian restaurants in each neighborhood. Knowing the knowledge of competitors can better equip the decision making model to decide where to establish the restaurant business"
   ]
  },
  {
   "cell_type": "code",
   "execution_count": 46,
   "metadata": {},
   "outputs": [],
   "source": [
    "def getNumberOfAsianRestaurantsByNeighborhood(neighborhood_names, latitudes, longitudes):\n",
    "    no_of_rest =[]\n",
    "    for name,lat,lng in zip(neighborhood_names,latitudes,longitudes):\n",
    "        if(lat != \"Latitude Unavailable\" and lng != \"Longitude Unavailable\"):\n",
    "            url = \"https://api.foursquare.com/v2/venues/explore?client_id={}&client_secret={}&v={}&ll={},{}&radius={}&limit={}&categoryId={}\".format(\n",
    "            CLIENT_ID,\n",
    "            CLIENT_SECRET,\n",
    "            VERSION,\n",
    "            lat,\n",
    "            lng,\n",
    "            RADIUS,\n",
    "            LIMIT,\n",
    "            CATEGORY_ID\n",
    "            )\n",
    "            results = requests.get(url).json()\n",
    "            no_of_rest.append(len(results[\"response\"][\"groups\"][0][\"items\"]))\n",
    "        else:\n",
    "            no_of_rest.append(0)\n",
    "    return no_of_rest"
   ]
  },
  {
   "cell_type": "code",
   "execution_count": 47,
   "metadata": {},
   "outputs": [],
   "source": [
    "#calls the above function to get the number of restaurant count for each neighborhood.\n",
    "no_of_rest = getNumberOfAsianRestaurantsByNeighborhood(neighborhood[\"NeighborhoodName\"],neighborhood[\"Latitude\"],neighborhood[\"Longitude\"])"
   ]
  },
  {
   "cell_type": "code",
   "execution_count": 48,
   "metadata": {},
   "outputs": [],
   "source": [
    "#adding this column in our original dataframe\n",
    "neighborhood[\"NumberOfAsianRestaurants\"] = no_of_rest"
   ]
  },
  {
   "cell_type": "code",
   "execution_count": 49,
   "metadata": {},
   "outputs": [
    {
     "data": {
      "text/html": [
       "<div>\n",
       "<style scoped>\n",
       "    .dataframe tbody tr th:only-of-type {\n",
       "        vertical-align: middle;\n",
       "    }\n",
       "\n",
       "    .dataframe tbody tr th {\n",
       "        vertical-align: top;\n",
       "    }\n",
       "\n",
       "    .dataframe thead th {\n",
       "        text-align: right;\n",
       "    }\n",
       "</style>\n",
       "<table border=\"1\" class=\"dataframe\">\n",
       "  <thead>\n",
       "    <tr style=\"text-align: right;\">\n",
       "      <th></th>\n",
       "      <th>Unnamed: 0</th>\n",
       "      <th>NeighborhoodName</th>\n",
       "      <th>LargerDistrictName</th>\n",
       "      <th>Latitude</th>\n",
       "      <th>Longitude</th>\n",
       "      <th>Population</th>\n",
       "      <th>HouseholdIncome</th>\n",
       "      <th>AsiansPercent</th>\n",
       "      <th>NumberOfAsianRestaurants</th>\n",
       "    </tr>\n",
       "  </thead>\n",
       "  <tbody>\n",
       "    <tr>\n",
       "      <th>0</th>\n",
       "      <td>0</td>\n",
       "      <td>North Seattle</td>\n",
       "      <td>Seattle</td>\n",
       "      <td>47.6607729</td>\n",
       "      <td>-122.2914971</td>\n",
       "      <td>9032.652542</td>\n",
       "      <td>95167.245763</td>\n",
       "      <td>10.0</td>\n",
       "      <td>3</td>\n",
       "    </tr>\n",
       "    <tr>\n",
       "      <th>1</th>\n",
       "      <td>1</td>\n",
       "      <td>Broadview</td>\n",
       "      <td>North Seattle[42]</td>\n",
       "      <td>47.7223199</td>\n",
       "      <td>-122.3604067</td>\n",
       "      <td>8025.000000</td>\n",
       "      <td>116281.000000</td>\n",
       "      <td>8.0</td>\n",
       "      <td>2</td>\n",
       "    </tr>\n",
       "    <tr>\n",
       "      <th>2</th>\n",
       "      <td>2</td>\n",
       "      <td>Bitter Lake</td>\n",
       "      <td>North Seattle[42]</td>\n",
       "      <td>47.7262358</td>\n",
       "      <td>-122.3487639</td>\n",
       "      <td>8003.000000</td>\n",
       "      <td>65626.000000</td>\n",
       "      <td>12.0</td>\n",
       "      <td>15</td>\n",
       "    </tr>\n",
       "    <tr>\n",
       "      <th>3</th>\n",
       "      <td>3</td>\n",
       "      <td>North Beach</td>\n",
       "      <td>North Seattle[42]</td>\n",
       "      <td>47.6962103</td>\n",
       "      <td>-122.392362</td>\n",
       "      <td>3362.000000</td>\n",
       "      <td>25000.000000</td>\n",
       "      <td>8.0</td>\n",
       "      <td>0</td>\n",
       "    </tr>\n",
       "    <tr>\n",
       "      <th>4</th>\n",
       "      <td>4</td>\n",
       "      <td>Crown Hill</td>\n",
       "      <td>North Seattle[42]</td>\n",
       "      <td>47.6947154</td>\n",
       "      <td>-122.3714586</td>\n",
       "      <td>4442.000000</td>\n",
       "      <td>118587.000000</td>\n",
       "      <td>5.0</td>\n",
       "      <td>0</td>\n",
       "    </tr>\n",
       "  </tbody>\n",
       "</table>\n",
       "</div>"
      ],
      "text/plain": [
       "   Unnamed: 0 NeighborhoodName LargerDistrictName    Latitude     Longitude  \\\n",
       "0           0    North Seattle            Seattle  47.6607729  -122.2914971   \n",
       "1           1        Broadview  North Seattle[42]  47.7223199  -122.3604067   \n",
       "2           2      Bitter Lake  North Seattle[42]  47.7262358  -122.3487639   \n",
       "3           3     North Beach   North Seattle[42]  47.6962103   -122.392362   \n",
       "4           4       Crown Hill  North Seattle[42]  47.6947154  -122.3714586   \n",
       "\n",
       "    Population  HouseholdIncome  AsiansPercent  NumberOfAsianRestaurants  \n",
       "0  9032.652542     95167.245763           10.0                         3  \n",
       "1  8025.000000    116281.000000            8.0                         2  \n",
       "2  8003.000000     65626.000000           12.0                        15  \n",
       "3  3362.000000     25000.000000            8.0                         0  \n",
       "4  4442.000000    118587.000000            5.0                         0  "
      ]
     },
     "execution_count": 49,
     "metadata": {},
     "output_type": "execute_result"
    }
   ],
   "source": [
    "#show the first 5 rows of the new dataset.\n",
    "neighborhood.head(5)"
   ]
  },
  {
   "cell_type": "markdown",
   "metadata": {},
   "source": [
    "### 5) Data Pre-processing"
   ]
  },
  {
   "cell_type": "markdown",
   "metadata": {},
   "source": [
    "#### A) Calculating the number of Asians in each Neighborhood. Dimensionality Reduction."
   ]
  },
  {
   "cell_type": "markdown",
   "metadata": {},
   "source": [
    "##### The number of asians in each neighborhood can be found by calculating the percentage and adding it as a separate columns "
   ]
  },
  {
   "cell_type": "code",
   "execution_count": 50,
   "metadata": {},
   "outputs": [],
   "source": [
    "neighborhood[\"AsianPopulation\"] = (neighborhood[\"Population\"]*neighborhood[\"AsiansPercent\"])/100"
   ]
  },
  {
   "cell_type": "code",
   "execution_count": 51,
   "metadata": {},
   "outputs": [
    {
     "data": {
      "text/html": [
       "<div>\n",
       "<style scoped>\n",
       "    .dataframe tbody tr th:only-of-type {\n",
       "        vertical-align: middle;\n",
       "    }\n",
       "\n",
       "    .dataframe tbody tr th {\n",
       "        vertical-align: top;\n",
       "    }\n",
       "\n",
       "    .dataframe thead th {\n",
       "        text-align: right;\n",
       "    }\n",
       "</style>\n",
       "<table border=\"1\" class=\"dataframe\">\n",
       "  <thead>\n",
       "    <tr style=\"text-align: right;\">\n",
       "      <th></th>\n",
       "      <th>Unnamed: 0</th>\n",
       "      <th>NeighborhoodName</th>\n",
       "      <th>LargerDistrictName</th>\n",
       "      <th>Latitude</th>\n",
       "      <th>Longitude</th>\n",
       "      <th>Population</th>\n",
       "      <th>HouseholdIncome</th>\n",
       "      <th>AsiansPercent</th>\n",
       "      <th>NumberOfAsianRestaurants</th>\n",
       "      <th>AsianPopulation</th>\n",
       "    </tr>\n",
       "  </thead>\n",
       "  <tbody>\n",
       "    <tr>\n",
       "      <th>0</th>\n",
       "      <td>0</td>\n",
       "      <td>North Seattle</td>\n",
       "      <td>Seattle</td>\n",
       "      <td>47.6607729</td>\n",
       "      <td>-122.2914971</td>\n",
       "      <td>9032.652542</td>\n",
       "      <td>95167.245763</td>\n",
       "      <td>10.0</td>\n",
       "      <td>3</td>\n",
       "      <td>903.265254</td>\n",
       "    </tr>\n",
       "    <tr>\n",
       "      <th>1</th>\n",
       "      <td>1</td>\n",
       "      <td>Broadview</td>\n",
       "      <td>North Seattle[42]</td>\n",
       "      <td>47.7223199</td>\n",
       "      <td>-122.3604067</td>\n",
       "      <td>8025.000000</td>\n",
       "      <td>116281.000000</td>\n",
       "      <td>8.0</td>\n",
       "      <td>2</td>\n",
       "      <td>642.000000</td>\n",
       "    </tr>\n",
       "    <tr>\n",
       "      <th>2</th>\n",
       "      <td>2</td>\n",
       "      <td>Bitter Lake</td>\n",
       "      <td>North Seattle[42]</td>\n",
       "      <td>47.7262358</td>\n",
       "      <td>-122.3487639</td>\n",
       "      <td>8003.000000</td>\n",
       "      <td>65626.000000</td>\n",
       "      <td>12.0</td>\n",
       "      <td>15</td>\n",
       "      <td>960.360000</td>\n",
       "    </tr>\n",
       "    <tr>\n",
       "      <th>3</th>\n",
       "      <td>3</td>\n",
       "      <td>North Beach</td>\n",
       "      <td>North Seattle[42]</td>\n",
       "      <td>47.6962103</td>\n",
       "      <td>-122.392362</td>\n",
       "      <td>3362.000000</td>\n",
       "      <td>25000.000000</td>\n",
       "      <td>8.0</td>\n",
       "      <td>0</td>\n",
       "      <td>268.960000</td>\n",
       "    </tr>\n",
       "    <tr>\n",
       "      <th>4</th>\n",
       "      <td>4</td>\n",
       "      <td>Crown Hill</td>\n",
       "      <td>North Seattle[42]</td>\n",
       "      <td>47.6947154</td>\n",
       "      <td>-122.3714586</td>\n",
       "      <td>4442.000000</td>\n",
       "      <td>118587.000000</td>\n",
       "      <td>5.0</td>\n",
       "      <td>0</td>\n",
       "      <td>222.100000</td>\n",
       "    </tr>\n",
       "  </tbody>\n",
       "</table>\n",
       "</div>"
      ],
      "text/plain": [
       "   Unnamed: 0 NeighborhoodName LargerDistrictName    Latitude     Longitude  \\\n",
       "0           0    North Seattle            Seattle  47.6607729  -122.2914971   \n",
       "1           1        Broadview  North Seattle[42]  47.7223199  -122.3604067   \n",
       "2           2      Bitter Lake  North Seattle[42]  47.7262358  -122.3487639   \n",
       "3           3     North Beach   North Seattle[42]  47.6962103   -122.392362   \n",
       "4           4       Crown Hill  North Seattle[42]  47.6947154  -122.3714586   \n",
       "\n",
       "    Population  HouseholdIncome  AsiansPercent  NumberOfAsianRestaurants  \\\n",
       "0  9032.652542     95167.245763           10.0                         3   \n",
       "1  8025.000000    116281.000000            8.0                         2   \n",
       "2  8003.000000     65626.000000           12.0                        15   \n",
       "3  3362.000000     25000.000000            8.0                         0   \n",
       "4  4442.000000    118587.000000            5.0                         0   \n",
       "\n",
       "   AsianPopulation  \n",
       "0       903.265254  \n",
       "1       642.000000  \n",
       "2       960.360000  \n",
       "3       268.960000  \n",
       "4       222.100000  "
      ]
     },
     "execution_count": 51,
     "metadata": {},
     "output_type": "execute_result"
    }
   ],
   "source": [
    "neighborhood.head()"
   ]
  },
  {
   "cell_type": "markdown",
   "metadata": {},
   "source": [
    "#### B) Feature Scaling/ Data Normalization"
   ]
  },
  {
   "cell_type": "markdown",
   "metadata": {},
   "source": [
    "##### The different features in our dataset belong to different ranges. These differences in ranges can pose a serious threat to our analysis since there is a possibility that one feature might dominate our analysis than the rest. To overcome these problems, Standardization techniques are used to scale the features so that they all fall within a same range. As a result, all the features contribute equally to our predictive analysis."
   ]
  },
  {
   "cell_type": "code",
   "execution_count": 52,
   "metadata": {},
   "outputs": [],
   "source": [
    "from sklearn.preprocessing import StandardScaler"
   ]
  },
  {
   "cell_type": "code",
   "execution_count": 53,
   "metadata": {},
   "outputs": [
    {
     "data": {
      "text/html": [
       "<div>\n",
       "<style scoped>\n",
       "    .dataframe tbody tr th:only-of-type {\n",
       "        vertical-align: middle;\n",
       "    }\n",
       "\n",
       "    .dataframe tbody tr th {\n",
       "        vertical-align: top;\n",
       "    }\n",
       "\n",
       "    .dataframe thead th {\n",
       "        text-align: right;\n",
       "    }\n",
       "</style>\n",
       "<table border=\"1\" class=\"dataframe\">\n",
       "  <thead>\n",
       "    <tr style=\"text-align: right;\">\n",
       "      <th></th>\n",
       "      <th>HouseholdIncome</th>\n",
       "      <th>NumberOfAsianRestaurants</th>\n",
       "      <th>AsianPopulation</th>\n",
       "    </tr>\n",
       "  </thead>\n",
       "  <tbody>\n",
       "    <tr>\n",
       "      <th>0</th>\n",
       "      <td>95167.245763</td>\n",
       "      <td>3</td>\n",
       "      <td>903.265254</td>\n",
       "    </tr>\n",
       "    <tr>\n",
       "      <th>1</th>\n",
       "      <td>116281.000000</td>\n",
       "      <td>2</td>\n",
       "      <td>642.000000</td>\n",
       "    </tr>\n",
       "    <tr>\n",
       "      <th>2</th>\n",
       "      <td>65626.000000</td>\n",
       "      <td>15</td>\n",
       "      <td>960.360000</td>\n",
       "    </tr>\n",
       "    <tr>\n",
       "      <th>3</th>\n",
       "      <td>25000.000000</td>\n",
       "      <td>0</td>\n",
       "      <td>268.960000</td>\n",
       "    </tr>\n",
       "    <tr>\n",
       "      <th>4</th>\n",
       "      <td>118587.000000</td>\n",
       "      <td>0</td>\n",
       "      <td>222.100000</td>\n",
       "    </tr>\n",
       "  </tbody>\n",
       "</table>\n",
       "</div>"
      ],
      "text/plain": [
       "   HouseholdIncome  NumberOfAsianRestaurants  AsianPopulation\n",
       "0     95167.245763                         3       903.265254\n",
       "1    116281.000000                         2       642.000000\n",
       "2     65626.000000                        15       960.360000\n",
       "3     25000.000000                         0       268.960000\n",
       "4    118587.000000                         0       222.100000"
      ]
     },
     "execution_count": 53,
     "metadata": {},
     "output_type": "execute_result"
    }
   ],
   "source": [
    "# create the required dataset of features that will be used for modelling.\n",
    "model_dataset = neighborhood[[\"HouseholdIncome\",\"NumberOfAsianRestaurants\",\"AsianPopulation\"]]\n",
    "model_dataset.head()"
   ]
  },
  {
   "cell_type": "code",
   "execution_count": 54,
   "metadata": {},
   "outputs": [
    {
     "name": "stderr",
     "output_type": "stream",
     "text": [
      "/home/jupyterlab/conda/envs/python/lib/python3.6/site-packages/sklearn/preprocessing/data.py:625: DataConversionWarning: Data with input dtype int64, float64 were all converted to float64 by StandardScaler.\n",
      "  return self.partial_fit(X, y)\n",
      "/home/jupyterlab/conda/envs/python/lib/python3.6/site-packages/sklearn/base.py:462: DataConversionWarning: Data with input dtype int64, float64 were all converted to float64 by StandardScaler.\n",
      "  return self.fit(X, **fit_params).transform(X)\n"
     ]
    }
   ],
   "source": [
    "#using StandardScaler\n",
    "scaler = StandardScaler()\n",
    "model_dataset = scaler.fit_transform(model_dataset)"
   ]
  },
  {
   "cell_type": "code",
   "execution_count": 55,
   "metadata": {},
   "outputs": [],
   "source": [
    "model_dataset = pd.DataFrame(model_dataset)"
   ]
  },
  {
   "cell_type": "code",
   "execution_count": 56,
   "metadata": {},
   "outputs": [
    {
     "data": {
      "text/html": [
       "<div>\n",
       "<style scoped>\n",
       "    .dataframe tbody tr th:only-of-type {\n",
       "        vertical-align: middle;\n",
       "    }\n",
       "\n",
       "    .dataframe tbody tr th {\n",
       "        vertical-align: top;\n",
       "    }\n",
       "\n",
       "    .dataframe thead th {\n",
       "        text-align: right;\n",
       "    }\n",
       "</style>\n",
       "<table border=\"1\" class=\"dataframe\">\n",
       "  <thead>\n",
       "    <tr style=\"text-align: right;\">\n",
       "      <th></th>\n",
       "      <th>0</th>\n",
       "      <th>1</th>\n",
       "      <th>2</th>\n",
       "    </tr>\n",
       "  </thead>\n",
       "  <tbody>\n",
       "    <tr>\n",
       "      <th>0</th>\n",
       "      <td>0.000000</td>\n",
       "      <td>-0.245445</td>\n",
       "      <td>-0.075925</td>\n",
       "    </tr>\n",
       "    <tr>\n",
       "      <th>1</th>\n",
       "      <td>0.564145</td>\n",
       "      <td>-0.313715</td>\n",
       "      <td>-0.284396</td>\n",
       "    </tr>\n",
       "    <tr>\n",
       "      <th>2</th>\n",
       "      <td>-0.789321</td>\n",
       "      <td>0.573790</td>\n",
       "      <td>-0.030367</td>\n",
       "    </tr>\n",
       "    <tr>\n",
       "      <th>3</th>\n",
       "      <td>-1.874819</td>\n",
       "      <td>-0.450254</td>\n",
       "      <td>-0.582056</td>\n",
       "    </tr>\n",
       "    <tr>\n",
       "      <th>4</th>\n",
       "      <td>0.625759</td>\n",
       "      <td>-0.450254</td>\n",
       "      <td>-0.619447</td>\n",
       "    </tr>\n",
       "  </tbody>\n",
       "</table>\n",
       "</div>"
      ],
      "text/plain": [
       "          0         1         2\n",
       "0  0.000000 -0.245445 -0.075925\n",
       "1  0.564145 -0.313715 -0.284396\n",
       "2 -0.789321  0.573790 -0.030367\n",
       "3 -1.874819 -0.450254 -0.582056\n",
       "4  0.625759 -0.450254 -0.619447"
      ]
     },
     "execution_count": 56,
     "metadata": {},
     "output_type": "execute_result"
    }
   ],
   "source": [
    "model_dataset.head()"
   ]
  },
  {
   "cell_type": "markdown",
   "metadata": {},
   "source": [
    "##### Now our dataset is within the same range and proper to train the clustering model."
   ]
  },
  {
   "cell_type": "markdown",
   "metadata": {},
   "source": [
    "### 6) Predictive Modelling"
   ]
  },
  {
   "cell_type": "markdown",
   "metadata": {},
   "source": [
    "#### Predictive modelling entails the use of machine learning algorithms to analyze the given dataset and anticipate the outcomes for new data. In this project, we would be using the unsupervised machine learning algorithms to divide the neighborhoods in seattle in a cluster such that the neighborhoods having similarity are placed in same cluster. This technique aims to create clusters such that all the members in a cluster have less intracluster distances and more intercluster distances."
   ]
  },
  {
   "cell_type": "markdown",
   "metadata": {},
   "source": [
    "#### A) Calculating the Hyperparameter K"
   ]
  },
  {
   "cell_type": "markdown",
   "metadata": {},
   "source": [
    "##### We will be implementing the K Means clustering algorithm for this purpose. This algorithm divides the data into non overlapping subsets. It tries to minimize the Within Cluster Sum of Squares(WCSS) error. It needs the selection of a hyperparameter K that determines the number of clusters to form. We would be implementing the ELBOW method to determine the optimum number of clusters that would be required for this analysis.\n",
    "\n",
    "##### In the elbow method, we would be calculating the WCSS taking different number of K for each iteration and selecting the K on the basis of the plot drawn in the code below."
   ]
  },
  {
   "cell_type": "code",
   "execution_count": 57,
   "metadata": {},
   "outputs": [],
   "source": [
    "from sklearn.cluster import KMeans"
   ]
  },
  {
   "cell_type": "code",
   "execution_count": 76,
   "metadata": {},
   "outputs": [],
   "source": [
    "wcss = []\n",
    "for k in range(3,10):\n",
    "    kmeans = KMeans(init=\"k-means++\",n_clusters = k)\n",
    "    kmeans.fit(model_dataset)\n",
    "    wcss.append(kmeans.inertia_)"
   ]
  },
  {
   "cell_type": "code",
   "execution_count": 77,
   "metadata": {},
   "outputs": [
    {
     "data": {
      "image/png": "[encoded data removed]",
      "text/plain": [
       "<Figure size 864x432 with 1 Axes>"
      ]
     },
     "metadata": {
      "needs_background": "light"
     },
     "output_type": "display_data"
    }
   ],
   "source": [
    "#plot the wcss versus the number of clusters.\n",
    "import matplotlib.pyplot as plt\n",
    "plt.figure(figsize=(12,6))\n",
    "plt.plot(range(3,10),wcss, color=\"red\")\n",
    "plt.xlabel(\"Number of Clusters\",fontsize=12)\n",
    "plt.ylabel(\"Within Cluster Sum of Squares\", fontsize=12)\n",
    "plt.title(\"The Elbow Method to determine the Hyperparameter K\")\n",
    "plt.show()"
   ]
  },
  {
   "cell_type": "markdown",
   "metadata": {},
   "source": [
    "##### From the above graph we determine the number of cluster to be used as 6. K=6"
   ]
  },
  {
   "cell_type": "markdown",
   "metadata": {},
   "source": [
    "#### B) K Means Clustering"
   ]
  },
  {
   "cell_type": "code",
   "execution_count": 60,
   "metadata": {},
   "outputs": [],
   "source": [
    "kmeans = KMeans(n_init = 12, n_clusters=6,init=\"k-means++\")\n",
    "kmeans.fit(model_dataset)\n",
    "labels = kmeans.labels_\n",
    "wcss = kmeans.inertia_"
   ]
  },
  {
   "cell_type": "code",
   "execution_count": 61,
   "metadata": {},
   "outputs": [
    {
     "data": {
      "text/plain": [
       "'The Within cluster sum of squares is 77.94929850332502'"
      ]
     },
     "execution_count": 61,
     "metadata": {},
     "output_type": "execute_result"
    }
   ],
   "source": [
    "\"The Within cluster sum of squares is {}\".format(wcss)"
   ]
  },
  {
   "cell_type": "code",
   "execution_count": 62,
   "metadata": {},
   "outputs": [
    {
     "data": {
      "text/plain": [
       "'The cluster labels are [0 0 1 1 0 0 1 1 3 0 1 1 1 0 0 1 1 1 0 1 0 0 0 5 1 5 2 5 0 0 0 0 0 1 0 5 0\\n 0 0 0 5 0 5 0 0 0 0 0 0 0 0 5 3 5 0 0 0 1 0 0 0 5 0 3 0 3 0 4 1 3 1 3 0 3\\n 1 1 0 3 1 0 0 0 0 1 0 0 5 0 0 1 0 0 0 0 0 4 0 5 0 1 1 1 1 4 1 0 0 0 0 1 0\\n 0 0 0 0 1 1 0 0 4 1 1 0 0 0 0]'"
      ]
     },
     "execution_count": 62,
     "metadata": {},
     "output_type": "execute_result"
    }
   ],
   "source": [
    "\"The cluster labels are {}\".format(labels)"
   ]
  },
  {
   "cell_type": "code",
   "execution_count": 63,
   "metadata": {},
   "outputs": [],
   "source": [
    "#add the generated clusters to the original dataframe\n",
    "neighborhood[\"ClusterNumber\"] = labels"
   ]
  },
  {
   "cell_type": "code",
   "execution_count": 64,
   "metadata": {},
   "outputs": [
    {
     "data": {
      "text/html": [
       "<div>\n",
       "<style scoped>\n",
       "    .dataframe tbody tr th:only-of-type {\n",
       "        vertical-align: middle;\n",
       "    }\n",
       "\n",
       "    .dataframe tbody tr th {\n",
       "        vertical-align: top;\n",
       "    }\n",
       "\n",
       "    .dataframe thead th {\n",
       "        text-align: right;\n",
       "    }\n",
       "</style>\n",
       "<table border=\"1\" class=\"dataframe\">\n",
       "  <thead>\n",
       "    <tr style=\"text-align: right;\">\n",
       "      <th></th>\n",
       "      <th>Unnamed: 0</th>\n",
       "      <th>NeighborhoodName</th>\n",
       "      <th>LargerDistrictName</th>\n",
       "      <th>Latitude</th>\n",
       "      <th>Longitude</th>\n",
       "      <th>Population</th>\n",
       "      <th>HouseholdIncome</th>\n",
       "      <th>AsiansPercent</th>\n",
       "      <th>NumberOfAsianRestaurants</th>\n",
       "      <th>AsianPopulation</th>\n",
       "      <th>ClusterNumber</th>\n",
       "    </tr>\n",
       "  </thead>\n",
       "  <tbody>\n",
       "    <tr>\n",
       "      <th>0</th>\n",
       "      <td>0</td>\n",
       "      <td>North Seattle</td>\n",
       "      <td>Seattle</td>\n",
       "      <td>47.6607729</td>\n",
       "      <td>-122.2914971</td>\n",
       "      <td>9032.652542</td>\n",
       "      <td>95167.245763</td>\n",
       "      <td>10.0</td>\n",
       "      <td>3</td>\n",
       "      <td>903.265254</td>\n",
       "      <td>0</td>\n",
       "    </tr>\n",
       "    <tr>\n",
       "      <th>1</th>\n",
       "      <td>1</td>\n",
       "      <td>Broadview</td>\n",
       "      <td>North Seattle[42]</td>\n",
       "      <td>47.7223199</td>\n",
       "      <td>-122.3604067</td>\n",
       "      <td>8025.000000</td>\n",
       "      <td>116281.000000</td>\n",
       "      <td>8.0</td>\n",
       "      <td>2</td>\n",
       "      <td>642.000000</td>\n",
       "      <td>0</td>\n",
       "    </tr>\n",
       "    <tr>\n",
       "      <th>2</th>\n",
       "      <td>2</td>\n",
       "      <td>Bitter Lake</td>\n",
       "      <td>North Seattle[42]</td>\n",
       "      <td>47.7262358</td>\n",
       "      <td>-122.3487639</td>\n",
       "      <td>8003.000000</td>\n",
       "      <td>65626.000000</td>\n",
       "      <td>12.0</td>\n",
       "      <td>15</td>\n",
       "      <td>960.360000</td>\n",
       "      <td>1</td>\n",
       "    </tr>\n",
       "    <tr>\n",
       "      <th>3</th>\n",
       "      <td>3</td>\n",
       "      <td>North Beach</td>\n",
       "      <td>North Seattle[42]</td>\n",
       "      <td>47.6962103</td>\n",
       "      <td>-122.392362</td>\n",
       "      <td>3362.000000</td>\n",
       "      <td>25000.000000</td>\n",
       "      <td>8.0</td>\n",
       "      <td>0</td>\n",
       "      <td>268.960000</td>\n",
       "      <td>1</td>\n",
       "    </tr>\n",
       "    <tr>\n",
       "      <th>4</th>\n",
       "      <td>4</td>\n",
       "      <td>Crown Hill</td>\n",
       "      <td>North Seattle[42]</td>\n",
       "      <td>47.6947154</td>\n",
       "      <td>-122.3714586</td>\n",
       "      <td>4442.000000</td>\n",
       "      <td>118587.000000</td>\n",
       "      <td>5.0</td>\n",
       "      <td>0</td>\n",
       "      <td>222.100000</td>\n",
       "      <td>0</td>\n",
       "    </tr>\n",
       "  </tbody>\n",
       "</table>\n",
       "</div>"
      ],
      "text/plain": [
       "   Unnamed: 0 NeighborhoodName LargerDistrictName    Latitude     Longitude  \\\n",
       "0           0    North Seattle            Seattle  47.6607729  -122.2914971   \n",
       "1           1        Broadview  North Seattle[42]  47.7223199  -122.3604067   \n",
       "2           2      Bitter Lake  North Seattle[42]  47.7262358  -122.3487639   \n",
       "3           3     North Beach   North Seattle[42]  47.6962103   -122.392362   \n",
       "4           4       Crown Hill  North Seattle[42]  47.6947154  -122.3714586   \n",
       "\n",
       "    Population  HouseholdIncome  AsiansPercent  NumberOfAsianRestaurants  \\\n",
       "0  9032.652542     95167.245763           10.0                         3   \n",
       "1  8025.000000    116281.000000            8.0                         2   \n",
       "2  8003.000000     65626.000000           12.0                        15   \n",
       "3  3362.000000     25000.000000            8.0                         0   \n",
       "4  4442.000000    118587.000000            5.0                         0   \n",
       "\n",
       "   AsianPopulation  ClusterNumber  \n",
       "0       903.265254              0  \n",
       "1       642.000000              0  \n",
       "2       960.360000              1  \n",
       "3       268.960000              1  \n",
       "4       222.100000              0  "
      ]
     },
     "execution_count": 64,
     "metadata": {},
     "output_type": "execute_result"
    }
   ],
   "source": [
    "#check the original dataframe\n",
    "neighborhood.head()"
   ]
  },
  {
   "cell_type": "markdown",
   "metadata": {},
   "source": [
    "### C) Visualizing the Resulting Clusters on Folium Map."
   ]
  },
  {
   "cell_type": "code",
   "execution_count": 65,
   "metadata": {},
   "outputs": [],
   "source": [
    "seattle_clusters = folium.Map(location=[seattle_latitude,seattle_longitude],zoom_start=11)"
   ]
  },
  {
   "cell_type": "code",
   "execution_count": 66,
   "metadata": {},
   "outputs": [],
   "source": [
    "#initialize clusters for visualization\n",
    "from matplotlib import cm\n",
    "from matplotlib import  colors\n",
    "x = np.arange(6)\n",
    "ys = [i + x + (i * x) ** 2 for i in range(6)]\n",
    "colors_array = cm.rainbow(np.linspace(0, 1, len(ys)))\n",
    "rainbow = [colors.rgb2hex(i) for i in colors_array]"
   ]
  },
  {
   "cell_type": "code",
   "execution_count": 67,
   "metadata": {},
   "outputs": [],
   "source": [
    "#display the clusters on the map\n",
    "for lat, lng, name, cluster in zip(neighborhood[\"Latitude\"],neighborhood[\"Longitude\"],neighborhood[\"NeighborhoodName\"],  \\\n",
    "                                  neighborhood[\"ClusterNumber\"]):\n",
    "    if(lat != \"Latitude Unavailable\" and lng != \"Longitude Unavailable\"):\n",
    "        label = folium.Popup(str(name)+ \", Cluster - \"+ str(cluster))\n",
    "        folium.CircleMarker(\n",
    "        location=[lat,lng],\n",
    "        popup = label,\n",
    "        color = rainbow[cluster - 1],\n",
    "        fill = True,\n",
    "        fill_color = rainbow[cluster - 1],\n",
    "        fill_opacity = 0.7\n",
    "        ).add_to(seattle_clusters)"
   ]
  },
  {
   "cell_type": "code",
   "execution_count": 68,
   "metadata": {},
   "outputs": [
    {
     "data": {
      "text/html": [
       "<div style=\"width:100%;\"><div style=\"position:relative;width:100%;height:0;padding-bottom:60%;\"><span style=\"color:#565656\">Make this Notebook Trusted to load map: File -> Trust Notebook</span><iframe src=\"about:blank\" style=\"position:absolute;width:100%;height:100%;left:0;top:0;border:none !important;\" data-html=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 onload=\"this.contentDocument.open();this.contentDocument.write(atob(this.getAttribute('data-html')));this.contentDocument.close();\" allowfullscreen webkitallowfullscreen mozallowfullscreen></iframe></div></div>"
      ],
      "text/plain": [
       "<folium.folium.Map at 0x7f62b29e7780>"
      ]
     },
     "execution_count": 68,
     "metadata": {},
     "output_type": "execute_result"
    }
   ],
   "source": [
    "seattle_clusters"
   ]
  },
  {
   "cell_type": "markdown",
   "metadata": {},
   "source": [
    "### 7) Clusters Summary"
   ]
  },
  {
   "cell_type": "markdown",
   "metadata": {},
   "source": [
    "##### Here we will summarize the clusters formed by kmeans to decide which would be a desirable neighborhood in Seattle to establish an Asian restaurant."
   ]
  },
  {
   "cell_type": "markdown",
   "metadata": {},
   "source": [
    "#### CLuster 0\n",
    "#####      MEDIUM Spending Power\n",
    "#####      MEDIUM Number of target customers\n",
    "#####      LOW Number of competitors"
   ]
  },
  {
   "cell_type": "code",
   "execution_count": 69,
   "metadata": {},
   "outputs": [
    {
     "data": {
      "text/html": [
       "<div>\n",
       "<style scoped>\n",
       "    .dataframe tbody tr th:only-of-type {\n",
       "        vertical-align: middle;\n",
       "    }\n",
       "\n",
       "    .dataframe tbody tr th {\n",
       "        vertical-align: top;\n",
       "    }\n",
       "\n",
       "    .dataframe thead th {\n",
       "        text-align: right;\n",
       "    }\n",
       "</style>\n",
       "<table border=\"1\" class=\"dataframe\">\n",
       "  <thead>\n",
       "    <tr style=\"text-align: right;\">\n",
       "      <th></th>\n",
       "      <th>Unnamed: 0</th>\n",
       "      <th>NeighborhoodName</th>\n",
       "      <th>LargerDistrictName</th>\n",
       "      <th>Latitude</th>\n",
       "      <th>Longitude</th>\n",
       "      <th>Population</th>\n",
       "      <th>HouseholdIncome</th>\n",
       "      <th>AsiansPercent</th>\n",
       "      <th>NumberOfAsianRestaurants</th>\n",
       "      <th>AsianPopulation</th>\n",
       "      <th>ClusterNumber</th>\n",
       "    </tr>\n",
       "  </thead>\n",
       "  <tbody>\n",
       "    <tr>\n",
       "      <th>0</th>\n",
       "      <td>0</td>\n",
       "      <td>North Seattle</td>\n",
       "      <td>Seattle</td>\n",
       "      <td>47.6607729</td>\n",
       "      <td>-122.2914971</td>\n",
       "      <td>9032.652542</td>\n",
       "      <td>95167.245763</td>\n",
       "      <td>10.0</td>\n",
       "      <td>3</td>\n",
       "      <td>903.265254</td>\n",
       "      <td>0</td>\n",
       "    </tr>\n",
       "    <tr>\n",
       "      <th>1</th>\n",
       "      <td>1</td>\n",
       "      <td>Broadview</td>\n",
       "      <td>North Seattle[42]</td>\n",
       "      <td>47.7223199</td>\n",
       "      <td>-122.3604067</td>\n",
       "      <td>8025.000000</td>\n",
       "      <td>116281.000000</td>\n",
       "      <td>8.0</td>\n",
       "      <td>2</td>\n",
       "      <td>642.000000</td>\n",
       "      <td>0</td>\n",
       "    </tr>\n",
       "    <tr>\n",
       "      <th>4</th>\n",
       "      <td>4</td>\n",
       "      <td>Crown Hill</td>\n",
       "      <td>North Seattle[42]</td>\n",
       "      <td>47.6947154</td>\n",
       "      <td>-122.3714586</td>\n",
       "      <td>4442.000000</td>\n",
       "      <td>118587.000000</td>\n",
       "      <td>5.0</td>\n",
       "      <td>0</td>\n",
       "      <td>222.100000</td>\n",
       "      <td>0</td>\n",
       "    </tr>\n",
       "    <tr>\n",
       "      <th>5</th>\n",
       "      <td>5</td>\n",
       "      <td>Greenwood</td>\n",
       "      <td>North Seattle[42]</td>\n",
       "      <td>47.6909806</td>\n",
       "      <td>-122.3548773</td>\n",
       "      <td>16222.000000</td>\n",
       "      <td>93810.000000</td>\n",
       "      <td>8.0</td>\n",
       "      <td>7</td>\n",
       "      <td>1297.760000</td>\n",
       "      <td>0</td>\n",
       "    </tr>\n",
       "    <tr>\n",
       "      <th>9</th>\n",
       "      <td>9</td>\n",
       "      <td>North College Park</td>\n",
       "      <td>Northgate[50]</td>\n",
       "      <td>Latitude Unavailable</td>\n",
       "      <td>Longitude Unavailable</td>\n",
       "      <td>2222.000000</td>\n",
       "      <td>88620.000000</td>\n",
       "      <td>11.0</td>\n",
       "      <td>0</td>\n",
       "      <td>244.420000</td>\n",
       "      <td>0</td>\n",
       "    </tr>\n",
       "  </tbody>\n",
       "</table>\n",
       "</div>"
      ],
      "text/plain": [
       "   Unnamed: 0    NeighborhoodName LargerDistrictName              Latitude  \\\n",
       "0           0       North Seattle            Seattle            47.6607729   \n",
       "1           1           Broadview  North Seattle[42]            47.7223199   \n",
       "4           4          Crown Hill  North Seattle[42]            47.6947154   \n",
       "5           5           Greenwood  North Seattle[42]            47.6909806   \n",
       "9           9  North College Park      Northgate[50]  Latitude Unavailable   \n",
       "\n",
       "               Longitude    Population  HouseholdIncome  AsiansPercent  \\\n",
       "0           -122.2914971   9032.652542     95167.245763           10.0   \n",
       "1           -122.3604067   8025.000000    116281.000000            8.0   \n",
       "4           -122.3714586   4442.000000    118587.000000            5.0   \n",
       "5           -122.3548773  16222.000000     93810.000000            8.0   \n",
       "9  Longitude Unavailable   2222.000000     88620.000000           11.0   \n",
       "\n",
       "   NumberOfAsianRestaurants  AsianPopulation  ClusterNumber  \n",
       "0                         3       903.265254              0  \n",
       "1                         2       642.000000              0  \n",
       "4                         0       222.100000              0  \n",
       "5                         7      1297.760000              0  \n",
       "9                         0       244.420000              0  "
      ]
     },
     "execution_count": 69,
     "metadata": {},
     "output_type": "execute_result"
    }
   ],
   "source": [
    "neighborhood[neighborhood[\"ClusterNumber\"] == 0].head()"
   ]
  },
  {
   "cell_type": "markdown",
   "metadata": {},
   "source": [
    "#### CLuster 1\n",
    "#####      HIGH Spending Power\n",
    "#####      LOW Number of target customers\n",
    "#####      LOW Number of competitors"
   ]
  },
  {
   "cell_type": "code",
   "execution_count": 70,
   "metadata": {},
   "outputs": [
    {
     "data": {
      "text/html": [
       "<div>\n",
       "<style scoped>\n",
       "    .dataframe tbody tr th:only-of-type {\n",
       "        vertical-align: middle;\n",
       "    }\n",
       "\n",
       "    .dataframe tbody tr th {\n",
       "        vertical-align: top;\n",
       "    }\n",
       "\n",
       "    .dataframe thead th {\n",
       "        text-align: right;\n",
       "    }\n",
       "</style>\n",
       "<table border=\"1\" class=\"dataframe\">\n",
       "  <thead>\n",
       "    <tr style=\"text-align: right;\">\n",
       "      <th></th>\n",
       "      <th>Unnamed: 0</th>\n",
       "      <th>NeighborhoodName</th>\n",
       "      <th>LargerDistrictName</th>\n",
       "      <th>Latitude</th>\n",
       "      <th>Longitude</th>\n",
       "      <th>Population</th>\n",
       "      <th>HouseholdIncome</th>\n",
       "      <th>AsiansPercent</th>\n",
       "      <th>NumberOfAsianRestaurants</th>\n",
       "      <th>AsianPopulation</th>\n",
       "      <th>ClusterNumber</th>\n",
       "    </tr>\n",
       "  </thead>\n",
       "  <tbody>\n",
       "    <tr>\n",
       "      <th>2</th>\n",
       "      <td>2</td>\n",
       "      <td>Bitter Lake</td>\n",
       "      <td>North Seattle[42]</td>\n",
       "      <td>47.7262358</td>\n",
       "      <td>-122.3487639</td>\n",
       "      <td>8003.0</td>\n",
       "      <td>65626.0</td>\n",
       "      <td>12.0</td>\n",
       "      <td>15</td>\n",
       "      <td>960.36</td>\n",
       "      <td>1</td>\n",
       "    </tr>\n",
       "    <tr>\n",
       "      <th>3</th>\n",
       "      <td>3</td>\n",
       "      <td>North Beach</td>\n",
       "      <td>North Seattle[42]</td>\n",
       "      <td>47.6962103</td>\n",
       "      <td>-122.392362</td>\n",
       "      <td>3362.0</td>\n",
       "      <td>25000.0</td>\n",
       "      <td>8.0</td>\n",
       "      <td>0</td>\n",
       "      <td>268.96</td>\n",
       "      <td>1</td>\n",
       "    </tr>\n",
       "    <tr>\n",
       "      <th>6</th>\n",
       "      <td>6</td>\n",
       "      <td>Northgate</td>\n",
       "      <td>North Seattle[42]</td>\n",
       "      <td>47.7131534</td>\n",
       "      <td>-122.3212307</td>\n",
       "      <td>2322.0</td>\n",
       "      <td>60000.0</td>\n",
       "      <td>10.0</td>\n",
       "      <td>0</td>\n",
       "      <td>232.20</td>\n",
       "      <td>1</td>\n",
       "    </tr>\n",
       "    <tr>\n",
       "      <th>7</th>\n",
       "      <td>7</td>\n",
       "      <td>Haller Lake</td>\n",
       "      <td>Northgate[50]</td>\n",
       "      <td>47.7197478</td>\n",
       "      <td>-122.3337513</td>\n",
       "      <td>8203.0</td>\n",
       "      <td>72428.0</td>\n",
       "      <td>17.0</td>\n",
       "      <td>0</td>\n",
       "      <td>1394.51</td>\n",
       "      <td>1</td>\n",
       "    </tr>\n",
       "    <tr>\n",
       "      <th>10</th>\n",
       "      <td>10</td>\n",
       "      <td>Maple Leaf</td>\n",
       "      <td>Northgate[50]</td>\n",
       "      <td>47.6939869</td>\n",
       "      <td>-122.322905</td>\n",
       "      <td>8888.0</td>\n",
       "      <td>64484.0</td>\n",
       "      <td>14.0</td>\n",
       "      <td>1</td>\n",
       "      <td>1244.32</td>\n",
       "      <td>1</td>\n",
       "    </tr>\n",
       "  </tbody>\n",
       "</table>\n",
       "</div>"
      ],
      "text/plain": [
       "    Unnamed: 0 NeighborhoodName LargerDistrictName    Latitude     Longitude  \\\n",
       "2            2      Bitter Lake  North Seattle[42]  47.7262358  -122.3487639   \n",
       "3            3     North Beach   North Seattle[42]  47.6962103   -122.392362   \n",
       "6            6        Northgate  North Seattle[42]  47.7131534  -122.3212307   \n",
       "7            7      Haller Lake      Northgate[50]  47.7197478  -122.3337513   \n",
       "10          10       Maple Leaf      Northgate[50]  47.6939869   -122.322905   \n",
       "\n",
       "    Population  HouseholdIncome  AsiansPercent  NumberOfAsianRestaurants  \\\n",
       "2       8003.0          65626.0           12.0                        15   \n",
       "3       3362.0          25000.0            8.0                         0   \n",
       "6       2322.0          60000.0           10.0                         0   \n",
       "7       8203.0          72428.0           17.0                         0   \n",
       "10      8888.0          64484.0           14.0                         1   \n",
       "\n",
       "    AsianPopulation  ClusterNumber  \n",
       "2            960.36              1  \n",
       "3            268.96              1  \n",
       "6            232.20              1  \n",
       "7           1394.51              1  \n",
       "10          1244.32              1  "
      ]
     },
     "execution_count": 70,
     "metadata": {},
     "output_type": "execute_result"
    }
   ],
   "source": [
    "neighborhood[neighborhood[\"ClusterNumber\"] == 1].head()"
   ]
  },
  {
   "cell_type": "markdown",
   "metadata": {},
   "source": [
    "#### CLuster 2\n",
    "#####      MEDIUM Spending Power\n",
    "#####      MEDIUM Number of target customers\n",
    "#####      HIGH Number of competitors"
   ]
  },
  {
   "cell_type": "code",
   "execution_count": 71,
   "metadata": {},
   "outputs": [
    {
     "data": {
      "text/html": [
       "<div>\n",
       "<style scoped>\n",
       "    .dataframe tbody tr th:only-of-type {\n",
       "        vertical-align: middle;\n",
       "    }\n",
       "\n",
       "    .dataframe tbody tr th {\n",
       "        vertical-align: top;\n",
       "    }\n",
       "\n",
       "    .dataframe thead th {\n",
       "        text-align: right;\n",
       "    }\n",
       "</style>\n",
       "<table border=\"1\" class=\"dataframe\">\n",
       "  <thead>\n",
       "    <tr style=\"text-align: right;\">\n",
       "      <th></th>\n",
       "      <th>Unnamed: 0</th>\n",
       "      <th>NeighborhoodName</th>\n",
       "      <th>LargerDistrictName</th>\n",
       "      <th>Latitude</th>\n",
       "      <th>Longitude</th>\n",
       "      <th>Population</th>\n",
       "      <th>HouseholdIncome</th>\n",
       "      <th>AsiansPercent</th>\n",
       "      <th>NumberOfAsianRestaurants</th>\n",
       "      <th>AsianPopulation</th>\n",
       "      <th>ClusterNumber</th>\n",
       "    </tr>\n",
       "  </thead>\n",
       "  <tbody>\n",
       "    <tr>\n",
       "      <th>26</th>\n",
       "      <td>26</td>\n",
       "      <td>University District</td>\n",
       "      <td>North Seattle[42]</td>\n",
       "      <td>47.6612984</td>\n",
       "      <td>-122.3131523</td>\n",
       "      <td>26699.0</td>\n",
       "      <td>56697.0</td>\n",
       "      <td>29.0</td>\n",
       "      <td>72</td>\n",
       "      <td>7742.71</td>\n",
       "      <td>2</td>\n",
       "    </tr>\n",
       "  </tbody>\n",
       "</table>\n",
       "</div>"
      ],
      "text/plain": [
       "    Unnamed: 0      NeighborhoodName LargerDistrictName    Latitude  \\\n",
       "26          26  University District   North Seattle[42]  47.6612984   \n",
       "\n",
       "       Longitude  Population  HouseholdIncome  AsiansPercent  \\\n",
       "26  -122.3131523     26699.0          56697.0           29.0   \n",
       "\n",
       "    NumberOfAsianRestaurants  AsianPopulation  ClusterNumber  \n",
       "26                        72          7742.71              2  "
      ]
     },
     "execution_count": 71,
     "metadata": {},
     "output_type": "execute_result"
    }
   ],
   "source": [
    "neighborhood[neighborhood[\"ClusterNumber\"] == 2].head()"
   ]
  },
  {
   "cell_type": "markdown",
   "metadata": {},
   "source": [
    "#### CLuster 3\n",
    "#####      LOW Spending Power\n",
    "#####      HIGH Number of target customers\n",
    "#####      LOW Number of competitors"
   ]
  },
  {
   "cell_type": "code",
   "execution_count": 72,
   "metadata": {},
   "outputs": [
    {
     "data": {
      "text/html": [
       "<div>\n",
       "<style scoped>\n",
       "    .dataframe tbody tr th:only-of-type {\n",
       "        vertical-align: middle;\n",
       "    }\n",
       "\n",
       "    .dataframe tbody tr th {\n",
       "        vertical-align: top;\n",
       "    }\n",
       "\n",
       "    .dataframe thead th {\n",
       "        text-align: right;\n",
       "    }\n",
       "</style>\n",
       "<table border=\"1\" class=\"dataframe\">\n",
       "  <thead>\n",
       "    <tr style=\"text-align: right;\">\n",
       "      <th></th>\n",
       "      <th>Unnamed: 0</th>\n",
       "      <th>NeighborhoodName</th>\n",
       "      <th>LargerDistrictName</th>\n",
       "      <th>Latitude</th>\n",
       "      <th>Longitude</th>\n",
       "      <th>Population</th>\n",
       "      <th>HouseholdIncome</th>\n",
       "      <th>AsiansPercent</th>\n",
       "      <th>NumberOfAsianRestaurants</th>\n",
       "      <th>AsianPopulation</th>\n",
       "      <th>ClusterNumber</th>\n",
       "    </tr>\n",
       "  </thead>\n",
       "  <tbody>\n",
       "    <tr>\n",
       "      <th>8</th>\n",
       "      <td>8</td>\n",
       "      <td>Pinehurst</td>\n",
       "      <td>Northgate[50]</td>\n",
       "      <td>47.6038321</td>\n",
       "      <td>-122.3300624</td>\n",
       "      <td>7845.000000</td>\n",
       "      <td>63283.000000</td>\n",
       "      <td>14.0</td>\n",
       "      <td>44</td>\n",
       "      <td>1098.300000</td>\n",
       "      <td>3</td>\n",
       "    </tr>\n",
       "    <tr>\n",
       "      <th>52</th>\n",
       "      <td>52</td>\n",
       "      <td>Broadway</td>\n",
       "      <td>Capitol Hill[94]</td>\n",
       "      <td>47.6151397</td>\n",
       "      <td>-122.3208268</td>\n",
       "      <td>21183.000000</td>\n",
       "      <td>81434.000000</td>\n",
       "      <td>5.0</td>\n",
       "      <td>41</td>\n",
       "      <td>1059.150000</td>\n",
       "      <td>3</td>\n",
       "    </tr>\n",
       "    <tr>\n",
       "      <th>63</th>\n",
       "      <td>63</td>\n",
       "      <td>Westlake</td>\n",
       "      <td>Lake Union</td>\n",
       "      <td>47.61181745</td>\n",
       "      <td>-122.3361891</td>\n",
       "      <td>1864.000000</td>\n",
       "      <td>105551.000000</td>\n",
       "      <td>11.0</td>\n",
       "      <td>62</td>\n",
       "      <td>205.040000</td>\n",
       "      <td>3</td>\n",
       "    </tr>\n",
       "    <tr>\n",
       "      <th>65</th>\n",
       "      <td>65</td>\n",
       "      <td>Downtown</td>\n",
       "      <td>Central Seattle</td>\n",
       "      <td>47.6048723</td>\n",
       "      <td>-122.3334582</td>\n",
       "      <td>2646.000000</td>\n",
       "      <td>84156.000000</td>\n",
       "      <td>9.0</td>\n",
       "      <td>48</td>\n",
       "      <td>238.140000</td>\n",
       "      <td>3</td>\n",
       "    </tr>\n",
       "    <tr>\n",
       "      <th>69</th>\n",
       "      <td>69</td>\n",
       "      <td>Central Business District</td>\n",
       "      <td>Downtown[107]</td>\n",
       "      <td>47.6095317</td>\n",
       "      <td>-122.3362895</td>\n",
       "      <td>9032.652542</td>\n",
       "      <td>95167.245763</td>\n",
       "      <td>10.0</td>\n",
       "      <td>61</td>\n",
       "      <td>903.265254</td>\n",
       "      <td>3</td>\n",
       "    </tr>\n",
       "  </tbody>\n",
       "</table>\n",
       "</div>"
      ],
      "text/plain": [
       "    Unnamed: 0           NeighborhoodName LargerDistrictName     Latitude  \\\n",
       "8            8                  Pinehurst      Northgate[50]   47.6038321   \n",
       "52          52                   Broadway   Capitol Hill[94]   47.6151397   \n",
       "63          63                   Westlake         Lake Union  47.61181745   \n",
       "65          65                   Downtown    Central Seattle   47.6048723   \n",
       "69          69  Central Business District      Downtown[107]   47.6095317   \n",
       "\n",
       "       Longitude    Population  HouseholdIncome  AsiansPercent  \\\n",
       "8   -122.3300624   7845.000000     63283.000000           14.0   \n",
       "52  -122.3208268  21183.000000     81434.000000            5.0   \n",
       "63  -122.3361891   1864.000000    105551.000000           11.0   \n",
       "65  -122.3334582   2646.000000     84156.000000            9.0   \n",
       "69  -122.3362895   9032.652542     95167.245763           10.0   \n",
       "\n",
       "    NumberOfAsianRestaurants  AsianPopulation  ClusterNumber  \n",
       "8                         44      1098.300000              3  \n",
       "52                        41      1059.150000              3  \n",
       "63                        62       205.040000              3  \n",
       "65                        48       238.140000              3  \n",
       "69                        61       903.265254              3  "
      ]
     },
     "execution_count": 72,
     "metadata": {},
     "output_type": "execute_result"
    }
   ],
   "source": [
    "neighborhood[neighborhood[\"ClusterNumber\"] == 3].head()"
   ]
  },
  {
   "cell_type": "markdown",
   "metadata": {},
   "source": [
    "#### CLuster 4\n",
    "#####      HIGH Spending Power\n",
    "#####      MEDIUM Number of target customers\n",
    "#####      LOW Number of competitors"
   ]
  },
  {
   "cell_type": "code",
   "execution_count": 73,
   "metadata": {},
   "outputs": [
    {
     "data": {
      "text/html": [
       "<div>\n",
       "<style scoped>\n",
       "    .dataframe tbody tr th:only-of-type {\n",
       "        vertical-align: middle;\n",
       "    }\n",
       "\n",
       "    .dataframe tbody tr th {\n",
       "        vertical-align: top;\n",
       "    }\n",
       "\n",
       "    .dataframe thead th {\n",
       "        text-align: right;\n",
       "    }\n",
       "</style>\n",
       "<table border=\"1\" class=\"dataframe\">\n",
       "  <thead>\n",
       "    <tr style=\"text-align: right;\">\n",
       "      <th></th>\n",
       "      <th>Unnamed: 0</th>\n",
       "      <th>NeighborhoodName</th>\n",
       "      <th>LargerDistrictName</th>\n",
       "      <th>Latitude</th>\n",
       "      <th>Longitude</th>\n",
       "      <th>Population</th>\n",
       "      <th>HouseholdIncome</th>\n",
       "      <th>AsiansPercent</th>\n",
       "      <th>NumberOfAsianRestaurants</th>\n",
       "      <th>AsianPopulation</th>\n",
       "      <th>ClusterNumber</th>\n",
       "    </tr>\n",
       "  </thead>\n",
       "  <tbody>\n",
       "    <tr>\n",
       "      <th>67</th>\n",
       "      <td>67</td>\n",
       "      <td>Belltown</td>\n",
       "      <td>Downtown[107]</td>\n",
       "      <td>47.6132311</td>\n",
       "      <td>-122.3453607</td>\n",
       "      <td>22354.0</td>\n",
       "      <td>8985.0</td>\n",
       "      <td>17.0</td>\n",
       "      <td>32</td>\n",
       "      <td>3800.18</td>\n",
       "      <td>4</td>\n",
       "    </tr>\n",
       "    <tr>\n",
       "      <th>95</th>\n",
       "      <td>95</td>\n",
       "      <td>Rainier View</td>\n",
       "      <td>Rainier Valley[129]</td>\n",
       "      <td>Latitude Unavailable</td>\n",
       "      <td>Longitude Unavailable</td>\n",
       "      <td>22354.0</td>\n",
       "      <td>8985.0</td>\n",
       "      <td>17.0</td>\n",
       "      <td>0</td>\n",
       "      <td>3800.18</td>\n",
       "      <td>4</td>\n",
       "    </tr>\n",
       "    <tr>\n",
       "      <th>103</th>\n",
       "      <td>103</td>\n",
       "      <td>Industrial District</td>\n",
       "      <td>South End</td>\n",
       "      <td>Latitude Unavailable</td>\n",
       "      <td>Longitude Unavailable</td>\n",
       "      <td>78545.0</td>\n",
       "      <td>2121.0</td>\n",
       "      <td>12.0</td>\n",
       "      <td>0</td>\n",
       "      <td>9425.40</td>\n",
       "      <td>4</td>\n",
       "    </tr>\n",
       "    <tr>\n",
       "      <th>119</th>\n",
       "      <td>119</td>\n",
       "      <td>North Delridge</td>\n",
       "      <td>Delridge[162]</td>\n",
       "      <td>47.5521233</td>\n",
       "      <td>-122.3638741</td>\n",
       "      <td>56001.0</td>\n",
       "      <td>89565.0</td>\n",
       "      <td>11.0</td>\n",
       "      <td>1</td>\n",
       "      <td>6160.11</td>\n",
       "      <td>4</td>\n",
       "    </tr>\n",
       "  </tbody>\n",
       "</table>\n",
       "</div>"
      ],
      "text/plain": [
       "     Unnamed: 0     NeighborhoodName   LargerDistrictName  \\\n",
       "67           67             Belltown        Downtown[107]   \n",
       "95           95        Rainier View   Rainier Valley[129]   \n",
       "103         103  Industrial District            South End   \n",
       "119         119       North Delridge        Delridge[162]   \n",
       "\n",
       "                 Latitude              Longitude  Population  HouseholdIncome  \\\n",
       "67             47.6132311           -122.3453607     22354.0           8985.0   \n",
       "95   Latitude Unavailable  Longitude Unavailable     22354.0           8985.0   \n",
       "103  Latitude Unavailable  Longitude Unavailable     78545.0           2121.0   \n",
       "119            47.5521233           -122.3638741     56001.0          89565.0   \n",
       "\n",
       "     AsiansPercent  NumberOfAsianRestaurants  AsianPopulation  ClusterNumber  \n",
       "67            17.0                        32          3800.18              4  \n",
       "95            17.0                         0          3800.18              4  \n",
       "103           12.0                         0          9425.40              4  \n",
       "119           11.0                         1          6160.11              4  "
      ]
     },
     "execution_count": 73,
     "metadata": {},
     "output_type": "execute_result"
    }
   ],
   "source": [
    "neighborhood[neighborhood[\"ClusterNumber\"] == 4].head()"
   ]
  },
  {
   "cell_type": "markdown",
   "metadata": {},
   "source": [
    "#### CLuster 5\n",
    "#####      MEDIUM Spending Power\n",
    "#####      MEDIUM Number of target customers\n",
    "#####      HIGH Number of competitors"
   ]
  },
  {
   "cell_type": "code",
   "execution_count": 74,
   "metadata": {},
   "outputs": [
    {
     "data": {
      "text/html": [
       "<div>\n",
       "<style scoped>\n",
       "    .dataframe tbody tr th:only-of-type {\n",
       "        vertical-align: middle;\n",
       "    }\n",
       "\n",
       "    .dataframe tbody tr th {\n",
       "        vertical-align: top;\n",
       "    }\n",
       "\n",
       "    .dataframe thead th {\n",
       "        text-align: right;\n",
       "    }\n",
       "</style>\n",
       "<table border=\"1\" class=\"dataframe\">\n",
       "  <thead>\n",
       "    <tr style=\"text-align: right;\">\n",
       "      <th></th>\n",
       "      <th>Unnamed: 0</th>\n",
       "      <th>NeighborhoodName</th>\n",
       "      <th>LargerDistrictName</th>\n",
       "      <th>Latitude</th>\n",
       "      <th>Longitude</th>\n",
       "      <th>Population</th>\n",
       "      <th>HouseholdIncome</th>\n",
       "      <th>AsiansPercent</th>\n",
       "      <th>NumberOfAsianRestaurants</th>\n",
       "      <th>AsianPopulation</th>\n",
       "      <th>ClusterNumber</th>\n",
       "    </tr>\n",
       "  </thead>\n",
       "  <tbody>\n",
       "    <tr>\n",
       "      <th>23</th>\n",
       "      <td>23</td>\n",
       "      <td>Windermere</td>\n",
       "      <td>North Seattle[42]</td>\n",
       "      <td>47.6709318</td>\n",
       "      <td>-122.2617917</td>\n",
       "      <td>4627.0</td>\n",
       "      <td>153080.0</td>\n",
       "      <td>12.0</td>\n",
       "      <td>0</td>\n",
       "      <td>555.24</td>\n",
       "      <td>5</td>\n",
       "    </tr>\n",
       "    <tr>\n",
       "      <th>25</th>\n",
       "      <td>25</td>\n",
       "      <td>Laurelhurst</td>\n",
       "      <td>North Seattle[42]</td>\n",
       "      <td>47.6634317</td>\n",
       "      <td>-122.2770698</td>\n",
       "      <td>4558.0</td>\n",
       "      <td>198969.0</td>\n",
       "      <td>10.0</td>\n",
       "      <td>0</td>\n",
       "      <td>455.80</td>\n",
       "      <td>5</td>\n",
       "    </tr>\n",
       "    <tr>\n",
       "      <th>27</th>\n",
       "      <td>27</td>\n",
       "      <td>University Village</td>\n",
       "      <td>Ravenna[42] / University District</td>\n",
       "      <td>47.6627401</td>\n",
       "      <td>-122.2989251</td>\n",
       "      <td>4463.0</td>\n",
       "      <td>175570.0</td>\n",
       "      <td>10.0</td>\n",
       "      <td>5</td>\n",
       "      <td>446.30</td>\n",
       "      <td>5</td>\n",
       "    </tr>\n",
       "    <tr>\n",
       "      <th>35</th>\n",
       "      <td>35</td>\n",
       "      <td>Whittier Heights</td>\n",
       "      <td>Ballard[78]</td>\n",
       "      <td>47.683297</td>\n",
       "      <td>-122.3714487</td>\n",
       "      <td>4463.0</td>\n",
       "      <td>175570.0</td>\n",
       "      <td>10.0</td>\n",
       "      <td>1</td>\n",
       "      <td>446.30</td>\n",
       "      <td>5</td>\n",
       "    </tr>\n",
       "    <tr>\n",
       "      <th>40</th>\n",
       "      <td>40</td>\n",
       "      <td>Magnolia</td>\n",
       "      <td>Central Seattle[42]</td>\n",
       "      <td>47.6468106</td>\n",
       "      <td>-122.399489</td>\n",
       "      <td>4463.0</td>\n",
       "      <td>175570.0</td>\n",
       "      <td>10.0</td>\n",
       "      <td>1</td>\n",
       "      <td>446.30</td>\n",
       "      <td>5</td>\n",
       "    </tr>\n",
       "  </tbody>\n",
       "</table>\n",
       "</div>"
      ],
      "text/plain": [
       "    Unnamed: 0    NeighborhoodName                 LargerDistrictName  \\\n",
       "23          23          Windermere                  North Seattle[42]   \n",
       "25          25         Laurelhurst                  North Seattle[42]   \n",
       "27          27  University Village  Ravenna[42] / University District   \n",
       "35          35    Whittier Heights                        Ballard[78]   \n",
       "40          40            Magnolia                Central Seattle[42]   \n",
       "\n",
       "      Latitude     Longitude  Population  HouseholdIncome  AsiansPercent  \\\n",
       "23  47.6709318  -122.2617917      4627.0         153080.0           12.0   \n",
       "25  47.6634317  -122.2770698      4558.0         198969.0           10.0   \n",
       "27  47.6627401  -122.2989251      4463.0         175570.0           10.0   \n",
       "35   47.683297  -122.3714487      4463.0         175570.0           10.0   \n",
       "40  47.6468106   -122.399489      4463.0         175570.0           10.0   \n",
       "\n",
       "    NumberOfAsianRestaurants  AsianPopulation  ClusterNumber  \n",
       "23                         0           555.24              5  \n",
       "25                         0           455.80              5  \n",
       "27                         5           446.30              5  \n",
       "35                         1           446.30              5  \n",
       "40                         1           446.30              5  "
      ]
     },
     "execution_count": 74,
     "metadata": {},
     "output_type": "execute_result"
    }
   ],
   "source": [
    "neighborhood[neighborhood[\"ClusterNumber\"] == 5].head()"
   ]
  }
 ],
 "metadata": {
  "kernelspec": {
   "display_name": "Python",
   "language": "python",
   "name": "conda-env-python-py"
  },
  "language_info": {
   "codemirror_mode": {
    "name": "ipython",
    "version": 3
   },
   "file_extension": ".py",
   "mimetype": "text/x-python",
   "name": "python",
   "nbconvert_exporter": "python",
   "pygments_lexer": "ipython3",
   "version": "3.6.10"
  }
 },
 "nbformat": 4,
 "nbformat_minor": 4
}
